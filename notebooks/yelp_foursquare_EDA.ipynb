{
 "cells": [
  {
   "cell_type": "markdown",
   "metadata": {},
   "source": [
    "# Part 2: Connecting to Foursquare and Yelp APIs"
   ]
  },
  {
   "cell_type": "markdown",
   "metadata": {},
   "source": [
    "## Imports"
   ]
  },
  {
   "cell_type": "code",
   "execution_count": 1,
   "metadata": {},
   "outputs": [],
   "source": [
    "from datetime import datetime\n",
    "import os\n",
    "import pandas as pd\n",
    "\n",
    "from utils import export, get"
   ]
  },
  {
   "cell_type": "markdown",
   "metadata": {},
   "source": [
    "### Get API keys"
   ]
  },
  {
   "cell_type": "code",
   "execution_count": 2,
   "metadata": {},
   "outputs": [],
   "source": [
    "foursquare_api_key: str = os.getenv('APIKEY_FOURSQUARE')\n",
    "yelp_api_key: str = os.getenv('APIKEY_YELP')"
   ]
  },
  {
   "cell_type": "markdown",
   "metadata": {},
   "source": [
    "## Read bike stations data"
   ]
  },
  {
   "cell_type": "code",
   "execution_count": 3,
   "metadata": {},
   "outputs": [
    {
     "data": {
      "text/html": [
       "<div>\n",
       "<style scoped>\n",
       "    .dataframe tbody tr th:only-of-type {\n",
       "        vertical-align: middle;\n",
       "    }\n",
       "\n",
       "    .dataframe tbody tr th {\n",
       "        vertical-align: top;\n",
       "    }\n",
       "\n",
       "    .dataframe thead th {\n",
       "        text-align: right;\n",
       "    }\n",
       "</style>\n",
       "<table border=\"1\" class=\"dataframe\">\n",
       "  <thead>\n",
       "    <tr style=\"text-align: right;\">\n",
       "      <th></th>\n",
       "      <th>timestamp</th>\n",
       "      <th>station_id</th>\n",
       "      <th>name</th>\n",
       "      <th>latitude</th>\n",
       "      <th>longitude</th>\n",
       "      <th>altitude</th>\n",
       "      <th>slots</th>\n",
       "      <th>free_bikes</th>\n",
       "      <th>empty_slots</th>\n",
       "      <th>has_ebikes</th>\n",
       "      <th>ebikes</th>\n",
       "      <th>normal_bikes</th>\n",
       "    </tr>\n",
       "  </thead>\n",
       "  <tbody>\n",
       "    <tr>\n",
       "      <th>0</th>\n",
       "      <td>2024-05-03T15:29:29.800000Z</td>\n",
       "      <td>e1593acef03a0fd770595370586bc358</td>\n",
       "      <td>P31 - Estación Canal 13</td>\n",
       "      <td>-33.428334</td>\n",
       "      <td>-70.627312</td>\n",
       "      <td>0.0</td>\n",
       "      <td>13</td>\n",
       "      <td>6</td>\n",
       "      <td>7</td>\n",
       "      <td>True</td>\n",
       "      <td>0</td>\n",
       "      <td>6</td>\n",
       "    </tr>\n",
       "    <tr>\n",
       "      <th>1</th>\n",
       "      <td>2024-05-03T15:29:29.533000Z</td>\n",
       "      <td>3983dd515589a80338dd44a28f5ec414</td>\n",
       "      <td>V34 - Mestizo</td>\n",
       "      <td>-33.394000</td>\n",
       "      <td>-70.600000</td>\n",
       "      <td>0.0</td>\n",
       "      <td>23</td>\n",
       "      <td>8</td>\n",
       "      <td>15</td>\n",
       "      <td>True</td>\n",
       "      <td>0</td>\n",
       "      <td>8</td>\n",
       "    </tr>\n",
       "    <tr>\n",
       "      <th>2</th>\n",
       "      <td>2024-05-03T15:29:29.537000Z</td>\n",
       "      <td>405a3a5ca08c7536d3eb286cf8553025</td>\n",
       "      <td>V10 - Casa Costanera</td>\n",
       "      <td>-33.398000</td>\n",
       "      <td>-70.598000</td>\n",
       "      <td>0.0</td>\n",
       "      <td>11</td>\n",
       "      <td>8</td>\n",
       "      <td>3</td>\n",
       "      <td>True</td>\n",
       "      <td>0</td>\n",
       "      <td>8</td>\n",
       "    </tr>\n",
       "    <tr>\n",
       "      <th>3</th>\n",
       "      <td>2024-05-03T15:29:29.538000Z</td>\n",
       "      <td>0e8dfc3f137cb3911bd32f5fd45e0f93</td>\n",
       "      <td>V35 - Municipalidad de Vitacura</td>\n",
       "      <td>-33.398000</td>\n",
       "      <td>-70.601000</td>\n",
       "      <td>0.0</td>\n",
       "      <td>15</td>\n",
       "      <td>9</td>\n",
       "      <td>3</td>\n",
       "      <td>True</td>\n",
       "      <td>0</td>\n",
       "      <td>9</td>\n",
       "    </tr>\n",
       "    <tr>\n",
       "      <th>4</th>\n",
       "      <td>2024-05-03T15:29:29.539000Z</td>\n",
       "      <td>bdf4fc889476008ea8c644640f306bbc</td>\n",
       "      <td>V07 - Bicentenario</td>\n",
       "      <td>-33.401000</td>\n",
       "      <td>-70.602000</td>\n",
       "      <td>0.0</td>\n",
       "      <td>17</td>\n",
       "      <td>8</td>\n",
       "      <td>8</td>\n",
       "      <td>True</td>\n",
       "      <td>0</td>\n",
       "      <td>8</td>\n",
       "    </tr>\n",
       "  </tbody>\n",
       "</table>\n",
       "</div>"
      ],
      "text/plain": [
       "                     timestamp                        station_id  \\\n",
       "0  2024-05-03T15:29:29.800000Z  e1593acef03a0fd770595370586bc358   \n",
       "1  2024-05-03T15:29:29.533000Z  3983dd515589a80338dd44a28f5ec414   \n",
       "2  2024-05-03T15:29:29.537000Z  405a3a5ca08c7536d3eb286cf8553025   \n",
       "3  2024-05-03T15:29:29.538000Z  0e8dfc3f137cb3911bd32f5fd45e0f93   \n",
       "4  2024-05-03T15:29:29.539000Z  bdf4fc889476008ea8c644640f306bbc   \n",
       "\n",
       "                              name   latitude  longitude  altitude  slots  \\\n",
       "0          P31 - Estación Canal 13 -33.428334 -70.627312       0.0     13   \n",
       "1                    V34 - Mestizo -33.394000 -70.600000       0.0     23   \n",
       "2             V10 - Casa Costanera -33.398000 -70.598000       0.0     11   \n",
       "3  V35 - Municipalidad de Vitacura -33.398000 -70.601000       0.0     15   \n",
       "4               V07 - Bicentenario -33.401000 -70.602000       0.0     17   \n",
       "\n",
       "   free_bikes  empty_slots  has_ebikes  ebikes  normal_bikes  \n",
       "0           6            7        True       0             6  \n",
       "1           8           15        True       0             8  \n",
       "2           8            3        True       0             8  \n",
       "3           9            3        True       0             9  \n",
       "4           8            8        True       0             8  "
      ]
     },
     "execution_count": 3,
     "metadata": {},
     "output_type": "execute_result"
    }
   ],
   "source": [
    "dirname = '../data/'\n",
    "basename = 'stations.csv'\n",
    "filename = dirname + basename\n",
    "\n",
    "stations_df = pd.read_csv(filename, sep=',', index_col=False)\n",
    "stations_df.head()"
   ]
  },
  {
   "cell_type": "markdown",
   "metadata": {},
   "source": [
    "## Foursquare"
   ]
  },
  {
   "cell_type": "markdown",
   "metadata": {},
   "source": [
    "### Send a request to Foursquare for each bike station in your city of choice "
   ]
  },
  {
   "cell_type": "code",
   "execution_count": 4,
   "metadata": {},
   "outputs": [],
   "source": [
    "def foursquare_search(\n",
    "    latitude: float,\n",
    "    longitude: float,\n",
    "    radius: int,\n",
    "    limit: int,\n",
    "    api_key: str = foursquare_api_key\n",
    "):\n",
    "    \"\"\"\n",
    "    Return a get response from Foursquare's Place Search.\n",
    "\n",
    "    Make a get request to Foursquare's Place Search using\n",
    "    latitude, longitude, and radius. Accept a JSON response.\n",
    "\n",
    "    :param latitude: latitude of a place\n",
    "    :type latitude: float\n",
    "\n",
    "    :param longitude: longitude of a place\n",
    "    :type longitude: float\n",
    "\n",
    "    :param radius: metres around a place considered nearby \n",
    "    :type radius: int\n",
    "\n",
    "    :param limit: max number of results to include in response\n",
    "    :type limit: int\n",
    "\n",
    "    :param api_key: Foursquare API key\n",
    "    :type api_key: str\n",
    "    \n",
    "    :return: a Place Search response from Foursquare\n",
    "    :rtype: requests.Response | None    \n",
    "    \"\"\"\n",
    "    # Foursquare Place Search endpoint\n",
    "    url = 'https://api.foursquare.com/v3/places/search'\n",
    "\n",
    "    params = {\n",
    "        'll': f'{latitude},{longitude}',\n",
    "        'radius': radius,\n",
    "        'limit': limit\n",
    "    }\n",
    "\n",
    "    headers = {\n",
    "        'accept': 'application/json',\n",
    "        'authorization': foursquare_api_key\n",
    "    }\n",
    "\n",
    "    return get(url, params, headers)"
   ]
  },
  {
   "cell_type": "code",
   "execution_count": 5,
   "metadata": {},
   "outputs": [],
   "source": [
    "def foursquare_results(\n",
    "    stations_df: pd.DataFrame,\n",
    "    row: int,\n",
    "    radius: int = 500,\n",
    "    limit: int = 10,\n",
    ") -> list[dict] | None:\n",
    "    \"\"\"\n",
    "    Return the results list from a Foursquare Place Search.\n",
    "\n",
    "    Given a particular row, *i.e.,* a bike station, from the \n",
    "    stations_df DataFrame previously assembled, return a list \n",
    "    of places nearby the bike station in question. Return None\n",
    "    if the Foursquare get request fails or if the request \n",
    "    succeeds but the corresponding response does not contain\n",
    "    results.\n",
    "\n",
    "    :param stations_df: bike stations data\n",
    "    :type stations_df: DataFrame\n",
    "\n",
    "    :param row: the number of a row in stations_df\n",
    "    :type row: int\n",
    "\n",
    "    :param radius: metres around a place considered nearby \n",
    "    :type radius: int\n",
    "\n",
    "    :param limit: max number of results to include in response\n",
    "    :type limit: int\n",
    "    \n",
    "    :return: the results list from a Foursqaure Place Search\n",
    "    :rtype: list[dict]\n",
    "    \"\"\"\n",
    "    station_id, lat, long =\\\n",
    "        stations_df.loc[row, ['station_id', 'latitude', 'longitude']].to_list()\n",
    "    \n",
    "    response = foursquare_search(lat, long, radius, limit)\n",
    "\n",
    "    if response is None:\n",
    "        return None\n",
    "\n",
    "    data = response.json()\n",
    "\n",
    "    try:\n",
    "        results = data['results']\n",
    "    except KeyError as err:\n",
    "        print(f'response does not contain results, {err}')\n",
    "        return None\n",
    "    else:\n",
    "        return results"
   ]
  },
  {
   "cell_type": "markdown",
   "metadata": {},
   "source": [
    "Print out a single Foursquare result to get an idea of its structure."
   ]
  },
  {
   "cell_type": "code",
   "execution_count": 6,
   "metadata": {},
   "outputs": [
    {
     "data": {
      "text/plain": [
       "{'fsq_id': '58dbe5d5126ae82bf8f7ff16',\n",
       " 'categories': [{'id': 13322,\n",
       "   'name': 'Peruvian Restaurant',\n",
       "   'short_name': 'Peruvian',\n",
       "   'plural_name': 'Peruvian Restaurants',\n",
       "   'icon': {'prefix': 'https://ss3.4sqi.net/img/categories_v2/food/peruvian_',\n",
       "    'suffix': '.png'}}],\n",
       " 'chains': [],\n",
       " 'closed_bucket': 'Unsure',\n",
       " 'distance': 163,\n",
       " 'geocodes': {'main': {'latitude': -33.42865, 'longitude': -70.625766},\n",
       "  'roof': {'latitude': -33.42865, 'longitude': -70.625766}},\n",
       " 'link': '/v3/places/58dbe5d5126ae82bf8f7ff16',\n",
       " 'location': {'admin_region': 'Santiago',\n",
       "  'country': 'CL',\n",
       "  'cross_street': '',\n",
       "  'formatted_address': 'Providencia, Metropolitana de Santiago de Chile',\n",
       "  'locality': 'Providencia',\n",
       "  'region': 'Metropolitana de Santiago de Chile'},\n",
       " 'name': 'Lima 17',\n",
       " 'related_places': {},\n",
       " 'timezone': 'America/Santiago'}"
      ]
     },
     "execution_count": 6,
     "metadata": {},
     "output_type": "execute_result"
    }
   ],
   "source": [
    "tmp = foursquare_results(stations_df, row=0, radius=500, limit=1)\n",
    "tmp[0]"
   ]
  },
  {
   "cell_type": "code",
   "execution_count": 7,
   "metadata": {},
   "outputs": [],
   "source": [
    "def result_to_place(\n",
    "    stations_df: pd.DataFrame,\n",
    "    result: dict, \n",
    "    row: int\n",
    ") -> dict:\n",
    "    \"\"\"\n",
    "    Return a dictionary of Foursqaure place information.\n",
    "\n",
    "    Given a particular result, *i.e.,* a place, extract the\n",
    "    information that will be added to the foursquare_places_df\n",
    "    DataFrame.\n",
    "\n",
    "    :param stations_df: bike stations data\n",
    "    :type stations_df: DataFrame\n",
    "    \n",
    "    :param result: a single result from a Foursquare Place Search\n",
    "    :type result: dict\n",
    "\n",
    "    :param row: the number of a row in stations_df\n",
    "    :type row: int\n",
    "\n",
    "    :return: a dictionary to be added as a row to a DataFrame\n",
    "    :rtype: dict\n",
    "    \"\"\"\n",
    "    return {\n",
    "        'fsq_id': result.get('fsq_id'),\n",
    "        'name': result.get('name'),\n",
    "        'closed_bucket': result.get('closed_bucket'),\n",
    "        'distance': result.get('distance'),\n",
    "        'station_id': stations_df.loc[row, 'station_id']\n",
    "    }"
   ]
  },
  {
   "cell_type": "code",
   "execution_count": 8,
   "metadata": {},
   "outputs": [],
   "source": [
    "def result_to_categories(result: dict, row: int) -> list[dict]:\n",
    "    \"\"\"\n",
    "    Return a dictionary of place category information.\n",
    "\n",
    "    Given a particular result, *i.e.,* a place, extract all of\n",
    "    its categories as a list that will be added to the \n",
    "    foursquare_categories_df DataFrame.\n",
    "\n",
    "    :param result: a single result from a Foursquare Place Search\n",
    "    :type result: dict\n",
    "\n",
    "    :param row: the number of a row in stations_df\n",
    "    :type row: int\n",
    "\n",
    "    :return: a list of dictionaries to be added as rows to a DataFrame\n",
    "    :rtype: dict\n",
    "    \"\"\"\n",
    "    cat_list = []\n",
    "    categories = result['categories']\n",
    "    for category in categories:\n",
    "        new_category = {\n",
    "            'fsq_id': result.get('fsq_id'),\n",
    "            'category_id': category.get('id'),\n",
    "            'category_name': category.get('name')\n",
    "        }\n",
    "        cat_list.append(new_category)\n",
    "    return cat_list"
   ]
  },
  {
   "cell_type": "markdown",
   "metadata": {},
   "source": [
    "Initialize two lists intended to store dictionaries related to Foursquare places and categories."
   ]
  },
  {
   "cell_type": "code",
   "execution_count": 9,
   "metadata": {},
   "outputs": [],
   "source": [
    "foursquare_places = []\n",
    "foursquare_categories = []"
   ]
  },
  {
   "cell_type": "markdown",
   "metadata": {},
   "source": [
    "Loop through the rows of stations_df, parsing Foursquare Place Searches and extending foursquare_places and foursquare_categories on each iteration."
   ]
  },
  {
   "cell_type": "code",
   "execution_count": 10,
   "metadata": {},
   "outputs": [
    {
     "name": "stdout",
     "output_type": "stream",
     "text": [
      "foursquare_places empty: True\n",
      "foursquare_categories empty: True\n",
      "running...\n",
      "...done after 103 s\n"
     ]
    }
   ],
   "source": [
    "print(f'foursquare_places empty: {len(foursquare_places) == 0}')\n",
    "print(f'foursquare_categories empty: {len(foursquare_categories) == 0}')\n",
    "print('running...')\n",
    "num_stations = stations_df.shape[0]\n",
    "start = datetime.now()\n",
    "\n",
    "for row in range(num_stations):\n",
    "    results = foursquare_results(stations_df, row, radius=1000, limit=50)\n",
    "    for result in results:\n",
    "        new_places = result_to_place(stations_df, result, row)\n",
    "        new_categories = result_to_categories(result, row)\n",
    "        foursquare_categories += new_categories\n",
    "        foursquare_places.append(new_places)\n",
    "\n",
    "end = datetime.now()\n",
    "runtime = end - start\n",
    "print(f'...done after {runtime.seconds} s')"
   ]
  },
  {
   "cell_type": "markdown",
   "metadata": {},
   "source": [
    "### Put the results into DataFrames"
   ]
  },
  {
   "cell_type": "code",
   "execution_count": 11,
   "metadata": {},
   "outputs": [
    {
     "data": {
      "text/html": [
       "<div>\n",
       "<style scoped>\n",
       "    .dataframe tbody tr th:only-of-type {\n",
       "        vertical-align: middle;\n",
       "    }\n",
       "\n",
       "    .dataframe tbody tr th {\n",
       "        vertical-align: top;\n",
       "    }\n",
       "\n",
       "    .dataframe thead th {\n",
       "        text-align: right;\n",
       "    }\n",
       "</style>\n",
       "<table border=\"1\" class=\"dataframe\">\n",
       "  <thead>\n",
       "    <tr style=\"text-align: right;\">\n",
       "      <th></th>\n",
       "      <th>fsq_id</th>\n",
       "      <th>name</th>\n",
       "      <th>closed_bucket</th>\n",
       "      <th>distance</th>\n",
       "      <th>station_id</th>\n",
       "    </tr>\n",
       "  </thead>\n",
       "  <tbody>\n",
       "    <tr>\n",
       "      <th>0</th>\n",
       "      <td>58dbe5d5126ae82bf8f7ff16</td>\n",
       "      <td>Lima 17</td>\n",
       "      <td>Unsure</td>\n",
       "      <td>163</td>\n",
       "      <td>e1593acef03a0fd770595370586bc358</td>\n",
       "    </tr>\n",
       "    <tr>\n",
       "      <th>1</th>\n",
       "      <td>4bd9e4db3904a593501d449e</td>\n",
       "      <td>Plaza de la Aviación</td>\n",
       "      <td>VeryLikelyOpen</td>\n",
       "      <td>435</td>\n",
       "      <td>e1593acef03a0fd770595370586bc358</td>\n",
       "    </tr>\n",
       "    <tr>\n",
       "      <th>2</th>\n",
       "      <td>54e39d82498e2bf4dbe8df34</td>\n",
       "      <td>Starbucks</td>\n",
       "      <td>VeryLikelyOpen</td>\n",
       "      <td>417</td>\n",
       "      <td>e1593acef03a0fd770595370586bc358</td>\n",
       "    </tr>\n",
       "    <tr>\n",
       "      <th>3</th>\n",
       "      <td>50c5137fe4b02085d85e4047</td>\n",
       "      <td>Café del Negro</td>\n",
       "      <td>Unsure</td>\n",
       "      <td>410</td>\n",
       "      <td>e1593acef03a0fd770595370586bc358</td>\n",
       "    </tr>\n",
       "    <tr>\n",
       "      <th>4</th>\n",
       "      <td>59ad8e4228122f2d257f8772</td>\n",
       "      <td>Restaurant 47 Ronin</td>\n",
       "      <td>VeryLikelyOpen</td>\n",
       "      <td>498</td>\n",
       "      <td>e1593acef03a0fd770595370586bc358</td>\n",
       "    </tr>\n",
       "  </tbody>\n",
       "</table>\n",
       "</div>"
      ],
      "text/plain": [
       "                     fsq_id                  name   closed_bucket  distance  \\\n",
       "0  58dbe5d5126ae82bf8f7ff16               Lima 17          Unsure       163   \n",
       "1  4bd9e4db3904a593501d449e  Plaza de la Aviación  VeryLikelyOpen       435   \n",
       "2  54e39d82498e2bf4dbe8df34             Starbucks  VeryLikelyOpen       417   \n",
       "3  50c5137fe4b02085d85e4047        Café del Negro          Unsure       410   \n",
       "4  59ad8e4228122f2d257f8772   Restaurant 47 Ronin  VeryLikelyOpen       498   \n",
       "\n",
       "                         station_id  \n",
       "0  e1593acef03a0fd770595370586bc358  \n",
       "1  e1593acef03a0fd770595370586bc358  \n",
       "2  e1593acef03a0fd770595370586bc358  \n",
       "3  e1593acef03a0fd770595370586bc358  \n",
       "4  e1593acef03a0fd770595370586bc358  "
      ]
     },
     "execution_count": 11,
     "metadata": {},
     "output_type": "execute_result"
    }
   ],
   "source": [
    "foursquare_places_df = pd.DataFrame(foursquare_places)\n",
    "foursquare_places_df.head()"
   ]
  },
  {
   "cell_type": "code",
   "execution_count": 12,
   "metadata": {},
   "outputs": [
    {
     "name": "stdout",
     "output_type": "stream",
     "text": [
      "<class 'pandas.core.frame.DataFrame'>\n",
      "RangeIndex: 9217 entries, 0 to 9216\n",
      "Data columns (total 5 columns):\n",
      " #   Column         Non-Null Count  Dtype \n",
      "---  ------         --------------  ----- \n",
      " 0   fsq_id         9217 non-null   object\n",
      " 1   name           9217 non-null   object\n",
      " 2   closed_bucket  9217 non-null   object\n",
      " 3   distance       9217 non-null   int64 \n",
      " 4   station_id     9217 non-null   object\n",
      "dtypes: int64(1), object(4)\n",
      "memory usage: 360.2+ KB\n"
     ]
    }
   ],
   "source": [
    "foursquare_places_df.info()"
   ]
  },
  {
   "cell_type": "code",
   "execution_count": 13,
   "metadata": {},
   "outputs": [
    {
     "data": {
      "text/html": [
       "<div>\n",
       "<style scoped>\n",
       "    .dataframe tbody tr th:only-of-type {\n",
       "        vertical-align: middle;\n",
       "    }\n",
       "\n",
       "    .dataframe tbody tr th {\n",
       "        vertical-align: top;\n",
       "    }\n",
       "\n",
       "    .dataframe thead th {\n",
       "        text-align: right;\n",
       "    }\n",
       "</style>\n",
       "<table border=\"1\" class=\"dataframe\">\n",
       "  <thead>\n",
       "    <tr style=\"text-align: right;\">\n",
       "      <th></th>\n",
       "      <th>fsq_id</th>\n",
       "      <th>category_id</th>\n",
       "      <th>category_name</th>\n",
       "    </tr>\n",
       "  </thead>\n",
       "  <tbody>\n",
       "    <tr>\n",
       "      <th>0</th>\n",
       "      <td>58dbe5d5126ae82bf8f7ff16</td>\n",
       "      <td>13322</td>\n",
       "      <td>Peruvian Restaurant</td>\n",
       "    </tr>\n",
       "    <tr>\n",
       "      <th>1</th>\n",
       "      <td>4bd9e4db3904a593501d449e</td>\n",
       "      <td>13065</td>\n",
       "      <td>Restaurant</td>\n",
       "    </tr>\n",
       "    <tr>\n",
       "      <th>2</th>\n",
       "      <td>4bd9e4db3904a593501d449e</td>\n",
       "      <td>16017</td>\n",
       "      <td>Garden</td>\n",
       "    </tr>\n",
       "    <tr>\n",
       "      <th>3</th>\n",
       "      <td>4bd9e4db3904a593501d449e</td>\n",
       "      <td>16032</td>\n",
       "      <td>Park</td>\n",
       "    </tr>\n",
       "    <tr>\n",
       "      <th>4</th>\n",
       "      <td>4bd9e4db3904a593501d449e</td>\n",
       "      <td>16041</td>\n",
       "      <td>Plaza</td>\n",
       "    </tr>\n",
       "  </tbody>\n",
       "</table>\n",
       "</div>"
      ],
      "text/plain": [
       "                     fsq_id  category_id        category_name\n",
       "0  58dbe5d5126ae82bf8f7ff16        13322  Peruvian Restaurant\n",
       "1  4bd9e4db3904a593501d449e        13065           Restaurant\n",
       "2  4bd9e4db3904a593501d449e        16017               Garden\n",
       "3  4bd9e4db3904a593501d449e        16032                 Park\n",
       "4  4bd9e4db3904a593501d449e        16041                Plaza"
      ]
     },
     "execution_count": 13,
     "metadata": {},
     "output_type": "execute_result"
    }
   ],
   "source": [
    "foursquare_categories_df = pd.DataFrame(foursquare_categories)\n",
    "foursquare_categories_df.head()"
   ]
  },
  {
   "cell_type": "code",
   "execution_count": 14,
   "metadata": {},
   "outputs": [
    {
     "name": "stdout",
     "output_type": "stream",
     "text": [
      "<class 'pandas.core.frame.DataFrame'>\n",
      "RangeIndex: 11974 entries, 0 to 11973\n",
      "Data columns (total 3 columns):\n",
      " #   Column         Non-Null Count  Dtype \n",
      "---  ------         --------------  ----- \n",
      " 0   fsq_id         11974 non-null  object\n",
      " 1   category_id    11974 non-null  int64 \n",
      " 2   category_name  11974 non-null  object\n",
      "dtypes: int64(1), object(2)\n",
      "memory usage: 280.8+ KB\n"
     ]
    }
   ],
   "source": [
    "foursquare_categories_df.info()"
   ]
  },
  {
   "cell_type": "markdown",
   "metadata": {},
   "source": [
    "### Export the DataFrames to CSV"
   ]
  },
  {
   "cell_type": "code",
   "execution_count": 15,
   "metadata": {},
   "outputs": [],
   "source": [
    "export(foursquare_places_df, 'foursquare_places.csv')\n",
    "export(foursquare_categories_df, 'foursquare_categories.csv')"
   ]
  },
  {
   "cell_type": "markdown",
   "metadata": {},
   "source": [
    "## Yelp"
   ]
  },
  {
   "cell_type": "markdown",
   "metadata": {},
   "source": [
    "### Send a request to Yelp for each bike station in your city of choice"
   ]
  },
  {
   "cell_type": "code",
   "execution_count": 16,
   "metadata": {},
   "outputs": [],
   "source": [
    "def yelp_search(\n",
    "    latitude: float,\n",
    "    longitude: float,\n",
    "    radius: int,\n",
    "    limit: int,\n",
    "    api_key: str = yelp_api_key,\n",
    "):\n",
    "    \"\"\"\n",
    "    Return a get response from Yelp's Businesses Search.\n",
    "\n",
    "    Make a get request to Yelp's Businesses Search using\n",
    "    latitude, longitude, and radius. Accept a JSON response.\n",
    "\n",
    "    :param latitude: latitude of a place\n",
    "    :type latitude: float\n",
    "\n",
    "    :param longitude: longitude of a place\n",
    "    :type longitude: float\n",
    "\n",
    "    :param radius: metres around a place considered nearby \n",
    "    :type radius: int\n",
    "\n",
    "    :param limit: max number of results to include in response\n",
    "    :type limit: int\n",
    "\n",
    "    :param api_key: Yelp API key\n",
    "    :type api_key: str\n",
    "    \n",
    "    :return: a Businesses Search response from Yelp\n",
    "    :rtype: requests.Response | None    \n",
    "    \"\"\"\n",
    "    # Yelp Businesses Search endpoint\n",
    "    url = 'https://api.yelp.com/v3/businesses/search'\n",
    "\n",
    "    params = {\n",
    "        'latitude': latitude,\n",
    "        'longitude': longitude,\n",
    "        'radius': radius,\n",
    "        'limit': limit\n",
    "    }\n",
    "\n",
    "    headers = {\n",
    "        'accept': 'application/json',\n",
    "        'authorization': f'Bearer {yelp_api_key}' \n",
    "    }\n",
    "\n",
    "    return get(url, params=params, headers=headers)"
   ]
  },
  {
   "cell_type": "code",
   "execution_count": 17,
   "metadata": {},
   "outputs": [],
   "source": [
    "def yelp_businesses(\n",
    "    stations_df: pd.DataFrame, \n",
    "    row: int,\n",
    "    radius: int = 500,\n",
    "    limit: int = 10,\n",
    ") -> list[dict] | None:\n",
    "    \"\"\"\n",
    "    Return the results list from a Yelp Businesses Search.\n",
    "\n",
    "    Given a particular row, *i.e.,* a bike station, from the \n",
    "    stations_df DataFrame previously assembled, return a list \n",
    "    of places nearby the bike station in question. Return None\n",
    "    if the Yelp get request fails or if the request \n",
    "    succeeds but the corresponding response does not contain\n",
    "    results.\n",
    "\n",
    "    :param stations_df: bike stations data\n",
    "    :type stations_df: DataFrame\n",
    "\n",
    "    :param row: the number of a row in stations_df\n",
    "    :type row: int\n",
    "\n",
    "    :return: the results list from a Foursqaure Place Search\n",
    "    :rtype: list[dict]\n",
    "    \"\"\"\n",
    "    station_id, lat, long =\\\n",
    "        stations_df.loc[row, ['station_id', 'latitude', 'longitude']].to_list()\n",
    "    \n",
    "    response = yelp_search(lat, long, radius, limit)\n",
    "\n",
    "    if response is None:\n",
    "        return None\n",
    "\n",
    "    data = response.json()\n",
    "\n",
    "    try:\n",
    "        results = data['businesses']\n",
    "    except KeyError as err:\n",
    "        print(f'response does not contain businesses, {err}')\n",
    "        return None\n",
    "    else:\n",
    "        return results"
   ]
  },
  {
   "cell_type": "markdown",
   "metadata": {},
   "source": [
    "Print out a single Yelp result to get an idea of its structure."
   ]
  },
  {
   "cell_type": "code",
   "execution_count": 19,
   "metadata": {},
   "outputs": [
    {
     "data": {
      "text/plain": [
       "{'id': 'kWQxKQrcn3PNHzxsdPALcw',\n",
       " 'alias': 'jimbos-santiago-3',\n",
       " 'name': \"Jimbo's\",\n",
       " 'image_url': 'https://s3-media4.fl.yelpcdn.com/bphoto/Xy6cPUzV-mMm_UUnQ-QsfA/o.jpg',\n",
       " 'is_closed': False,\n",
       " 'url': 'https://www.yelp.com/biz/jimbos-santiago-3?adjust_creative=63YPOQR85PnJzp_H-e7TYQ&utm_campaign=yelp_api_v3&utm_medium=api_v3_business_search&utm_source=63YPOQR85PnJzp_H-e7TYQ',\n",
       " 'review_count': 3,\n",
       " 'categories': [{'alias': 'australian', 'title': 'Australian'}],\n",
       " 'rating': 4.7,\n",
       " 'coordinates': {'latitude': -33.4286, 'longitude': -70.6258},\n",
       " 'transactions': [],\n",
       " 'location': {'address1': 'Los Pinones 29',\n",
       "  'address2': None,\n",
       "  'address3': '',\n",
       "  'city': 'Santiago',\n",
       "  'zip_code': '',\n",
       "  'country': 'CL',\n",
       "  'state': 'RM',\n",
       "  'display_address': ['Los Pinones 29', 'RM Santiago', 'Chile']},\n",
       " 'phone': '+56951266916',\n",
       " 'display_phone': '+56 9 5126 6916',\n",
       " 'distance': 151.5245960834386,\n",
       " 'attributes': {'business_temp_closed': None,\n",
       "  'menu_url': None,\n",
       "  'open24_hours': None,\n",
       "  'waitlist_reservation': None}}"
      ]
     },
     "execution_count": 19,
     "metadata": {},
     "output_type": "execute_result"
    }
   ],
   "source": [
    "tmp = yelp_businesses(stations_df, row=0, radius=500, limit=1)\n",
    "tmp[0]"
   ]
  },
  {
   "cell_type": "code",
   "execution_count": 20,
   "metadata": {},
   "outputs": [],
   "source": [
    "def result_to_business(\n",
    "    stations_df: pd.DataFrame,\n",
    "    result: dict, \n",
    "    row: int\n",
    ") -> dict:\n",
    "    \"\"\"\n",
    "    Return a dictionary of business information.\n",
    "\n",
    "    Given a particular result, *i.e.,* a business, extract the\n",
    "    information that will be added to the yelp_places_df\n",
    "    DataFrame.\n",
    "\n",
    "    :param stations_df: bike stations data\n",
    "    :type stations_df: DataFrame\n",
    "    \n",
    "    :param result: a single result from a Yelp Businesses Search\n",
    "    :type result: dict\n",
    "\n",
    "    :param row: the number of a row in stations_df\n",
    "    :type row: int\n",
    "\n",
    "    :return: a dictionary to be added as a row to a DataFrame\n",
    "    :rtype: dict\n",
    "    \"\"\"\n",
    "    return {\n",
    "        'yelp_id': result.get('id'),\n",
    "        'name': result.get('name'),\n",
    "        'is_closed': result.get('is_closed'),\n",
    "        'review_count': result.get('review_count'),\n",
    "        'price': result.get('price'),\n",
    "        'rating': result.get('rating'),\n",
    "        'distance': result.get('distance'),\n",
    "        'station_id': stations_df.loc[row, 'station_id']\n",
    "    }"
   ]
  },
  {
   "cell_type": "code",
   "execution_count": 21,
   "metadata": {},
   "outputs": [],
   "source": [
    "def result_to_categories(result: dict, row: int) -> list[dict]:\n",
    "    \"\"\"\n",
    "    Return a dictionary of place category information.\n",
    "\n",
    "    Given a particular result, *i.e.,* a place, extract all of\n",
    "    its categories as a list that will be added to the \n",
    "    foursquare_categories_df DataFrame.\n",
    "\n",
    "    :param: a single result from a Foursquare Place Search\n",
    "    :type: dict\n",
    "\n",
    "    :param row: the number of a row in stations_df\n",
    "    :type row: int\n",
    "\n",
    "    :return: a list of dictionaries to be added as rows to a DataFrame\n",
    "    :rtype: dict\n",
    "    \"\"\"\n",
    "    return_list = []\n",
    "    categories = result['categories']\n",
    "    for category in categories:\n",
    "        new_category = {\n",
    "            'yelp_id': result['id'],\n",
    "            'category_name': category['title']\n",
    "        }\n",
    "        return_list.append(new_category)\n",
    "    return return_list"
   ]
  },
  {
   "cell_type": "markdown",
   "metadata": {},
   "source": [
    "Initialize two lists to store information from Yelp on businesses and business categories."
   ]
  },
  {
   "cell_type": "code",
   "execution_count": 22,
   "metadata": {},
   "outputs": [],
   "source": [
    "yelp_places = []\n",
    "yelp_categories = []"
   ]
  },
  {
   "cell_type": "code",
   "execution_count": 23,
   "metadata": {},
   "outputs": [
    {
     "name": "stdout",
     "output_type": "stream",
     "text": [
      "yelp_places empty: True\n",
      "yelp_categories empty: True\n",
      "running...\n",
      "...done after 194 s\n"
     ]
    }
   ],
   "source": [
    "print(f'yelp_places empty: {len(yelp_places) == 0}')\n",
    "print(f'yelp_categories empty: {len(yelp_categories) == 0}')\n",
    "print('running...')\n",
    "num_stations = stations_df.shape[0]\n",
    "start = datetime.now()\n",
    "\n",
    "for row in range(num_stations):\n",
    "    results = yelp_businesses(stations_df, row, radius=1000, limit=50)\n",
    "    for result in results:\n",
    "        new_places = result_to_business(stations_df, result, row)\n",
    "        new_categories = result_to_categories(result, row)\n",
    "        yelp_categories += new_categories\n",
    "        yelp_places.append(new_places)\n",
    "\n",
    "end = datetime.now()\n",
    "runtime = end - start\n",
    "print(f'...done after {runtime.seconds} s')"
   ]
  },
  {
   "cell_type": "markdown",
   "metadata": {},
   "source": [
    "### Put the results into DataFrames"
   ]
  },
  {
   "cell_type": "code",
   "execution_count": 24,
   "metadata": {},
   "outputs": [
    {
     "data": {
      "text/html": [
       "<div>\n",
       "<style scoped>\n",
       "    .dataframe tbody tr th:only-of-type {\n",
       "        vertical-align: middle;\n",
       "    }\n",
       "\n",
       "    .dataframe tbody tr th {\n",
       "        vertical-align: top;\n",
       "    }\n",
       "\n",
       "    .dataframe thead th {\n",
       "        text-align: right;\n",
       "    }\n",
       "</style>\n",
       "<table border=\"1\" class=\"dataframe\">\n",
       "  <thead>\n",
       "    <tr style=\"text-align: right;\">\n",
       "      <th></th>\n",
       "      <th>yelp_id</th>\n",
       "      <th>name</th>\n",
       "      <th>is_closed</th>\n",
       "      <th>review_count</th>\n",
       "      <th>price</th>\n",
       "      <th>rating</th>\n",
       "      <th>distance</th>\n",
       "      <th>station_id</th>\n",
       "    </tr>\n",
       "  </thead>\n",
       "  <tbody>\n",
       "    <tr>\n",
       "      <th>0</th>\n",
       "      <td>8N6Y3HsLXHBeFwhlO0YxwQ</td>\n",
       "      <td>Barrica 94</td>\n",
       "      <td>False</td>\n",
       "      <td>78</td>\n",
       "      <td>$$</td>\n",
       "      <td>4.3</td>\n",
       "      <td>988.631270</td>\n",
       "      <td>e1593acef03a0fd770595370586bc358</td>\n",
       "    </tr>\n",
       "    <tr>\n",
       "      <th>1</th>\n",
       "      <td>U15KdCy6HH05WISNtN9plQ</td>\n",
       "      <td>Restaurant Peumayén</td>\n",
       "      <td>False</td>\n",
       "      <td>73</td>\n",
       "      <td>$$$$</td>\n",
       "      <td>4.5</td>\n",
       "      <td>856.161401</td>\n",
       "      <td>e1593acef03a0fd770595370586bc358</td>\n",
       "    </tr>\n",
       "    <tr>\n",
       "      <th>2</th>\n",
       "      <td>y2FR-JBGie4wiW6RjtKLhg</td>\n",
       "      <td>Aquí Está Coco</td>\n",
       "      <td>False</td>\n",
       "      <td>58</td>\n",
       "      <td>$$$$</td>\n",
       "      <td>4.3</td>\n",
       "      <td>1099.691315</td>\n",
       "      <td>e1593acef03a0fd770595370586bc358</td>\n",
       "    </tr>\n",
       "    <tr>\n",
       "      <th>3</th>\n",
       "      <td>25PGm8dLZuar_Q0CZWK-dQ</td>\n",
       "      <td>Ciudad Vieja</td>\n",
       "      <td>False</td>\n",
       "      <td>27</td>\n",
       "      <td>$$</td>\n",
       "      <td>4.4</td>\n",
       "      <td>880.515212</td>\n",
       "      <td>e1593acef03a0fd770595370586bc358</td>\n",
       "    </tr>\n",
       "    <tr>\n",
       "      <th>4</th>\n",
       "      <td>x72iXJX0J7kibMpisppZ9g</td>\n",
       "      <td>Liguria Manuel Montt</td>\n",
       "      <td>False</td>\n",
       "      <td>27</td>\n",
       "      <td>$$$</td>\n",
       "      <td>3.8</td>\n",
       "      <td>775.050520</td>\n",
       "      <td>e1593acef03a0fd770595370586bc358</td>\n",
       "    </tr>\n",
       "  </tbody>\n",
       "</table>\n",
       "</div>"
      ],
      "text/plain": [
       "                  yelp_id                  name  is_closed  review_count  \\\n",
       "0  8N6Y3HsLXHBeFwhlO0YxwQ            Barrica 94      False            78   \n",
       "1  U15KdCy6HH05WISNtN9plQ   Restaurant Peumayén      False            73   \n",
       "2  y2FR-JBGie4wiW6RjtKLhg        Aquí Está Coco      False            58   \n",
       "3  25PGm8dLZuar_Q0CZWK-dQ          Ciudad Vieja      False            27   \n",
       "4  x72iXJX0J7kibMpisppZ9g  Liguria Manuel Montt      False            27   \n",
       "\n",
       "  price  rating     distance                        station_id  \n",
       "0    $$     4.3   988.631270  e1593acef03a0fd770595370586bc358  \n",
       "1  $$$$     4.5   856.161401  e1593acef03a0fd770595370586bc358  \n",
       "2  $$$$     4.3  1099.691315  e1593acef03a0fd770595370586bc358  \n",
       "3    $$     4.4   880.515212  e1593acef03a0fd770595370586bc358  \n",
       "4   $$$     3.8   775.050520  e1593acef03a0fd770595370586bc358  "
      ]
     },
     "execution_count": 24,
     "metadata": {},
     "output_type": "execute_result"
    }
   ],
   "source": [
    "yelp_places_df = pd.DataFrame(yelp_places)\n",
    "yelp_places_df.head()"
   ]
  },
  {
   "cell_type": "code",
   "execution_count": 26,
   "metadata": {},
   "outputs": [
    {
     "name": "stdout",
     "output_type": "stream",
     "text": [
      "<class 'pandas.core.frame.DataFrame'>\n",
      "RangeIndex: 10366 entries, 0 to 10365\n",
      "Data columns (total 8 columns):\n",
      " #   Column        Non-Null Count  Dtype  \n",
      "---  ------        --------------  -----  \n",
      " 0   yelp_id       10366 non-null  object \n",
      " 1   name          10366 non-null  object \n",
      " 2   is_closed     10366 non-null  bool   \n",
      " 3   review_count  10366 non-null  int64  \n",
      " 4   price         7007 non-null   object \n",
      " 5   rating        10366 non-null  float64\n",
      " 6   distance      10366 non-null  float64\n",
      " 7   station_id    10366 non-null  object \n",
      "dtypes: bool(1), float64(2), int64(1), object(4)\n",
      "memory usage: 577.1+ KB\n"
     ]
    }
   ],
   "source": [
    "yelp_places_df.info()"
   ]
  },
  {
   "cell_type": "code",
   "execution_count": 27,
   "metadata": {},
   "outputs": [
    {
     "data": {
      "text/html": [
       "<div>\n",
       "<style scoped>\n",
       "    .dataframe tbody tr th:only-of-type {\n",
       "        vertical-align: middle;\n",
       "    }\n",
       "\n",
       "    .dataframe tbody tr th {\n",
       "        vertical-align: top;\n",
       "    }\n",
       "\n",
       "    .dataframe thead th {\n",
       "        text-align: right;\n",
       "    }\n",
       "</style>\n",
       "<table border=\"1\" class=\"dataframe\">\n",
       "  <thead>\n",
       "    <tr style=\"text-align: right;\">\n",
       "      <th></th>\n",
       "      <th>yelp_id</th>\n",
       "      <th>category_name</th>\n",
       "    </tr>\n",
       "  </thead>\n",
       "  <tbody>\n",
       "    <tr>\n",
       "      <th>0</th>\n",
       "      <td>8N6Y3HsLXHBeFwhlO0YxwQ</td>\n",
       "      <td>Wine Bars</td>\n",
       "    </tr>\n",
       "    <tr>\n",
       "      <th>1</th>\n",
       "      <td>8N6Y3HsLXHBeFwhlO0YxwQ</td>\n",
       "      <td>Chilean</td>\n",
       "    </tr>\n",
       "    <tr>\n",
       "      <th>2</th>\n",
       "      <td>8N6Y3HsLXHBeFwhlO0YxwQ</td>\n",
       "      <td>Cocktail Bars</td>\n",
       "    </tr>\n",
       "    <tr>\n",
       "      <th>3</th>\n",
       "      <td>U15KdCy6HH05WISNtN9plQ</td>\n",
       "      <td>Latin American</td>\n",
       "    </tr>\n",
       "    <tr>\n",
       "      <th>4</th>\n",
       "      <td>y2FR-JBGie4wiW6RjtKLhg</td>\n",
       "      <td>Seafood</td>\n",
       "    </tr>\n",
       "  </tbody>\n",
       "</table>\n",
       "</div>"
      ],
      "text/plain": [
       "                  yelp_id   category_name\n",
       "0  8N6Y3HsLXHBeFwhlO0YxwQ       Wine Bars\n",
       "1  8N6Y3HsLXHBeFwhlO0YxwQ         Chilean\n",
       "2  8N6Y3HsLXHBeFwhlO0YxwQ   Cocktail Bars\n",
       "3  U15KdCy6HH05WISNtN9plQ  Latin American\n",
       "4  y2FR-JBGie4wiW6RjtKLhg         Seafood"
      ]
     },
     "execution_count": 27,
     "metadata": {},
     "output_type": "execute_result"
    }
   ],
   "source": [
    "yelp_categories_df = pd.DataFrame(yelp_categories)\n",
    "yelp_categories_df.head()"
   ]
  },
  {
   "cell_type": "code",
   "execution_count": 28,
   "metadata": {},
   "outputs": [
    {
     "name": "stdout",
     "output_type": "stream",
     "text": [
      "<class 'pandas.core.frame.DataFrame'>\n",
      "RangeIndex: 15181 entries, 0 to 15180\n",
      "Data columns (total 2 columns):\n",
      " #   Column         Non-Null Count  Dtype \n",
      "---  ------         --------------  ----- \n",
      " 0   yelp_id        15181 non-null  object\n",
      " 1   category_name  15181 non-null  object\n",
      "dtypes: object(2)\n",
      "memory usage: 237.3+ KB\n"
     ]
    }
   ],
   "source": [
    "yelp_categories_df.info()"
   ]
  },
  {
   "cell_type": "markdown",
   "metadata": {},
   "source": [
    "### Export the DataFrames to CSV"
   ]
  },
  {
   "cell_type": "code",
   "execution_count": 29,
   "metadata": {},
   "outputs": [],
   "source": [
    "export(yelp_places_df, 'yelp_places.csv')\n",
    "export(yelp_categories_df, 'yelp_categories.csv')"
   ]
  },
  {
   "cell_type": "markdown",
   "metadata": {},
   "source": [
    "## Comparing Results"
   ]
  },
  {
   "cell_type": "markdown",
   "metadata": {},
   "source": [
    "Which API provided you with more complete data? Provide an explanation. "
   ]
  },
  {
   "cell_type": "markdown",
   "metadata": {},
   "source": []
  },
  {
   "cell_type": "markdown",
   "metadata": {},
   "source": [
    "Get the top 10 restaurants according to their rating"
   ]
  },
  {
   "cell_type": "code",
   "execution_count": null,
   "metadata": {},
   "outputs": [],
   "source": []
  }
 ],
 "metadata": {
  "kernelspec": {
   "display_name": "data-science",
   "language": "python",
   "name": "data-science"
  },
  "language_info": {
   "codemirror_mode": {
    "name": "ipython",
    "version": 3
   },
   "file_extension": ".py",
   "mimetype": "text/x-python",
   "name": "python",
   "nbconvert_exporter": "python",
   "pygments_lexer": "ipython3",
   "version": "3.12.2"
  }
 },
 "nbformat": 4,
 "nbformat_minor": 4
}
