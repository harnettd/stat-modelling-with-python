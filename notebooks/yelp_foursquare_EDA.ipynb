{
 "cells": [
  {
   "cell_type": "markdown",
   "metadata": {},
   "source": [
    "# Part 2: Connecting to Foursquare and Yelp APIs"
   ]
  },
  {
   "cell_type": "markdown",
   "metadata": {},
   "source": [
    "## Imports"
   ]
  },
  {
   "cell_type": "code",
   "execution_count": 1,
   "metadata": {},
   "outputs": [],
   "source": [
    "from datetime import datetime\n",
    "import os\n",
    "import pandas as pd\n",
    "# import requests\n",
    "\n",
    "from utils import export, get"
   ]
  },
  {
   "cell_type": "markdown",
   "metadata": {},
   "source": [
    "Get API keys:"
   ]
  },
  {
   "cell_type": "code",
   "execution_count": 2,
   "metadata": {},
   "outputs": [],
   "source": [
    "foursquare_api_key: str = os.getenv('APIKEY_FOURSQUARE')\n",
    "yelp_api_key: str = os.getenv('APIKEY_YELP')"
   ]
  },
  {
   "cell_type": "markdown",
   "metadata": {},
   "source": [
    "## Read bike stations data"
   ]
  },
  {
   "cell_type": "code",
   "execution_count": 3,
   "metadata": {},
   "outputs": [
    {
     "data": {
      "text/html": [
       "<div>\n",
       "<style scoped>\n",
       "    .dataframe tbody tr th:only-of-type {\n",
       "        vertical-align: middle;\n",
       "    }\n",
       "\n",
       "    .dataframe tbody tr th {\n",
       "        vertical-align: top;\n",
       "    }\n",
       "\n",
       "    .dataframe thead th {\n",
       "        text-align: right;\n",
       "    }\n",
       "</style>\n",
       "<table border=\"1\" class=\"dataframe\">\n",
       "  <thead>\n",
       "    <tr style=\"text-align: right;\">\n",
       "      <th></th>\n",
       "      <th>station_id</th>\n",
       "      <th>name</th>\n",
       "      <th>latitude</th>\n",
       "      <th>longitude</th>\n",
       "      <th>altitude</th>\n",
       "      <th>free_bikes</th>\n",
       "      <th>empty_slots</th>\n",
       "      <th>has_ebikes</th>\n",
       "      <th>timestamp</th>\n",
       "    </tr>\n",
       "  </thead>\n",
       "  <tbody>\n",
       "    <tr>\n",
       "      <th>0</th>\n",
       "      <td>e1593acef03a0fd770595370586bc358</td>\n",
       "      <td>P31 - Estación Canal 13</td>\n",
       "      <td>-33.428334</td>\n",
       "      <td>-70.627312</td>\n",
       "      <td>0.0</td>\n",
       "      <td>3</td>\n",
       "      <td>10</td>\n",
       "      <td>True</td>\n",
       "      <td>2024-05-03T00:15:40.367000Z</td>\n",
       "    </tr>\n",
       "    <tr>\n",
       "      <th>1</th>\n",
       "      <td>3983dd515589a80338dd44a28f5ec414</td>\n",
       "      <td>V34 - Mestizo</td>\n",
       "      <td>-33.394000</td>\n",
       "      <td>-70.600000</td>\n",
       "      <td>0.0</td>\n",
       "      <td>5</td>\n",
       "      <td>18</td>\n",
       "      <td>True</td>\n",
       "      <td>2024-05-03T00:15:40.004000Z</td>\n",
       "    </tr>\n",
       "    <tr>\n",
       "      <th>2</th>\n",
       "      <td>405a3a5ca08c7536d3eb286cf8553025</td>\n",
       "      <td>V10 - Casa Costanera</td>\n",
       "      <td>-33.398000</td>\n",
       "      <td>-70.598000</td>\n",
       "      <td>0.0</td>\n",
       "      <td>0</td>\n",
       "      <td>11</td>\n",
       "      <td>True</td>\n",
       "      <td>2024-05-03T00:15:40.005000Z</td>\n",
       "    </tr>\n",
       "    <tr>\n",
       "      <th>3</th>\n",
       "      <td>0e8dfc3f137cb3911bd32f5fd45e0f93</td>\n",
       "      <td>V35 - Municipalidad de Vitacura</td>\n",
       "      <td>-33.398000</td>\n",
       "      <td>-70.601000</td>\n",
       "      <td>0.0</td>\n",
       "      <td>1</td>\n",
       "      <td>11</td>\n",
       "      <td>True</td>\n",
       "      <td>2024-05-03T00:15:40.009000Z</td>\n",
       "    </tr>\n",
       "    <tr>\n",
       "      <th>4</th>\n",
       "      <td>bdf4fc889476008ea8c644640f306bbc</td>\n",
       "      <td>V07 - Bicentenario</td>\n",
       "      <td>-33.401000</td>\n",
       "      <td>-70.602000</td>\n",
       "      <td>0.0</td>\n",
       "      <td>8</td>\n",
       "      <td>8</td>\n",
       "      <td>True</td>\n",
       "      <td>2024-05-03T00:15:40.018000Z</td>\n",
       "    </tr>\n",
       "  </tbody>\n",
       "</table>\n",
       "</div>"
      ],
      "text/plain": [
       "                         station_id                             name  \\\n",
       "0  e1593acef03a0fd770595370586bc358          P31 - Estación Canal 13   \n",
       "1  3983dd515589a80338dd44a28f5ec414                    V34 - Mestizo   \n",
       "2  405a3a5ca08c7536d3eb286cf8553025             V10 - Casa Costanera   \n",
       "3  0e8dfc3f137cb3911bd32f5fd45e0f93  V35 - Municipalidad de Vitacura   \n",
       "4  bdf4fc889476008ea8c644640f306bbc               V07 - Bicentenario   \n",
       "\n",
       "    latitude  longitude  altitude  free_bikes  empty_slots  has_ebikes  \\\n",
       "0 -33.428334 -70.627312       0.0           3           10        True   \n",
       "1 -33.394000 -70.600000       0.0           5           18        True   \n",
       "2 -33.398000 -70.598000       0.0           0           11        True   \n",
       "3 -33.398000 -70.601000       0.0           1           11        True   \n",
       "4 -33.401000 -70.602000       0.0           8            8        True   \n",
       "\n",
       "                     timestamp  \n",
       "0  2024-05-03T00:15:40.367000Z  \n",
       "1  2024-05-03T00:15:40.004000Z  \n",
       "2  2024-05-03T00:15:40.005000Z  \n",
       "3  2024-05-03T00:15:40.009000Z  \n",
       "4  2024-05-03T00:15:40.018000Z  "
      ]
     },
     "execution_count": 3,
     "metadata": {},
     "output_type": "execute_result"
    }
   ],
   "source": [
    "dirname = '../data/'\n",
    "basename = 'stations.csv'\n",
    "filename = dirname + basename\n",
    "\n",
    "stations_df = pd.read_csv(filename, sep=',', index_col=False)\n",
    "stations_df.head()"
   ]
  },
  {
   "cell_type": "markdown",
   "metadata": {},
   "source": [
    "## Foursquare"
   ]
  },
  {
   "cell_type": "markdown",
   "metadata": {},
   "source": [
    "### Send a request to Foursquare for each bike station in your city of choice "
   ]
  },
  {
   "cell_type": "code",
   "execution_count": 4,
   "metadata": {},
   "outputs": [],
   "source": [
    "def foursquare_search(\n",
    "    latitude: float,\n",
    "    longitude: float,\n",
    "    radius: int,\n",
    "    limit: int,\n",
    "    api_key: str = foursquare_api_key\n",
    "):\n",
    "    \"\"\"\n",
    "    Return a get response from Foursquare's Place Search.\n",
    "\n",
    "    Make a get request to Foursquare's Place Search using\n",
    "    latitude, longitude, and radius. Accept a JSON response.\n",
    "\n",
    "    :param api_key: Foursquare API key\n",
    "    :type api_key: str\n",
    "\n",
    "    :param latitude: latitude of a place\n",
    "    :type latitude: float\n",
    "\n",
    "    :param longitude: longitude of a place\n",
    "    :type longitude: float\n",
    "\n",
    "    :param radius: metres around a place considered nearby \n",
    "    :type radius: int\n",
    "\n",
    "    :param limit: max number of results to include in response\n",
    "    :type limit: int\n",
    "\n",
    "    :return: a Place Search response from Foursquare\n",
    "    :rtype: requests.Response | None    \n",
    "    \"\"\"\n",
    "    url = 'https://api.foursquare.com/v3/places/search'\n",
    "\n",
    "    # ll = f'{latitude},{longitude}'\n",
    "    params = {\n",
    "        'll': f'{latitude},{longitude}',\n",
    "        'radius': radius,\n",
    "        'limit': limit\n",
    "    }\n",
    "\n",
    "    headers = {\n",
    "        'accept': 'application/json',\n",
    "        'authorization': foursquare_api_key\n",
    "    }\n",
    "\n",
    "    return get(url, params, headers)"
   ]
  },
  {
   "cell_type": "code",
   "execution_count": 5,
   "metadata": {},
   "outputs": [],
   "source": [
    "def foursquare_results(\n",
    "    stations_df: pd.DataFrame,\n",
    "    row: int,\n",
    "    radius: int = 500,\n",
    "    limit: int = 10,\n",
    ") -> list[dict] | None:\n",
    "    \"\"\"\n",
    "    Return the results list from a Foursquare Place Search.\n",
    "\n",
    "    Given a particular row, *i.e.,* a bike station, from the \n",
    "    stations_df DataFrame previously assembled, return a list \n",
    "    of places nearby the bike station in question. Return None\n",
    "    if the Foursquare get request fails or if the request \n",
    "    succeeds, but the corresponding response does not contain\n",
    "    results.\n",
    "\n",
    "    :param stations_df: bike stations data\n",
    "    :type stations_df: DataFrame\n",
    "\n",
    "    :param row: the number of a row in stations_df\n",
    "    :type row: int\n",
    "\n",
    "    :return: the results list from a Foursqaure Place Search\n",
    "    :rtype: list[dict]\n",
    "    \"\"\"\n",
    "    station_id, lat, long =\\\n",
    "        stations_df.loc[row, ['station_id', 'latitude', 'longitude']].to_list()\n",
    "    \n",
    "    response = foursquare_search(lat, long, radius, limit)\n",
    "\n",
    "    if response is None:\n",
    "        return None\n",
    "\n",
    "    data = response.json()\n",
    "\n",
    "    try:\n",
    "        results = data['results']\n",
    "    except KeyError as err:\n",
    "        print(f'response does not contain results, {err}')\n",
    "        return None\n",
    "    else:\n",
    "        return results"
   ]
  },
  {
   "cell_type": "code",
   "execution_count": 6,
   "metadata": {},
   "outputs": [],
   "source": [
    "def result_to_place(\n",
    "    stations_df: pd.DataFrame,\n",
    "    result: dict, \n",
    "    row: int\n",
    ") -> dict:\n",
    "    \"\"\"\n",
    "    Return a dictionary of Foursqaure place information.\n",
    "\n",
    "    Given a particular result, *i.e.,* a place, extract the\n",
    "    information that will be added to the foursquare_places_df\n",
    "    DataFrame.\n",
    "\n",
    "    :param stations_df: bike stations data\n",
    "    :type stations_df: DataFrame\n",
    "    \n",
    "    :param: a single result from a Foursquare Place Search\n",
    "    :type: dict\n",
    "\n",
    "    :param row: the number of a row in stations_df\n",
    "    :type row: int\n",
    "\n",
    "    :return: a dictionary to be added as a row to a DataFrame\n",
    "    :rtype: dict\n",
    "    \"\"\"\n",
    "    return {\n",
    "        'fsq_id': result.get('fsq_id'),\n",
    "        'name': result.get('name'),\n",
    "        'closed_bucket': result.get('closed_bucket'),\n",
    "        'distance': result.get('distance'),\n",
    "        'station_id': stations_df.loc[row, 'station_id']\n",
    "    }"
   ]
  },
  {
   "cell_type": "code",
   "execution_count": 7,
   "metadata": {},
   "outputs": [],
   "source": [
    "def result_to_categories(result: dict, row: int) -> list[dict]:\n",
    "    \"\"\"\n",
    "    Return a dictionary of place category information.\n",
    "\n",
    "    Given a particular result, *i.e.,* a place, extract all of\n",
    "    its categories as a list that will be added to the \n",
    "    foursquare_categories_df DataFrame.\n",
    "\n",
    "    :param: a single result from a Foursquare Place Search\n",
    "    :type: dict\n",
    "\n",
    "    :param row: the number of a row in stations_df\n",
    "    :type row: int\n",
    "\n",
    "    :return: a list of dictionaries to be added as rows to a DataFrame\n",
    "    :rtype: dict\n",
    "    \"\"\"\n",
    "    cat_list = []\n",
    "    categories = result['categories']\n",
    "    for category in categories:\n",
    "        new_category = {\n",
    "            'fsq_id': result.get('fsq_id'),\n",
    "            'category_id': category.get('id'),\n",
    "            'category_name': category.get('name')\n",
    "        }\n",
    "        cat_list.append(new_category)\n",
    "    return cat_list"
   ]
  },
  {
   "cell_type": "markdown",
   "metadata": {},
   "source": [
    "Initialize two lists intended to store dictionaries related to Foursquare places and categories."
   ]
  },
  {
   "cell_type": "code",
   "execution_count": 8,
   "metadata": {},
   "outputs": [],
   "source": [
    "foursquare_places = []\n",
    "foursquare_categories = []"
   ]
  },
  {
   "cell_type": "markdown",
   "metadata": {},
   "source": [
    "Loop through the rows of stations_df, parsing Foursquare Place Searches and extending foursquare_places and foursquare_categories on each iteration."
   ]
  },
  {
   "cell_type": "code",
   "execution_count": 9,
   "metadata": {},
   "outputs": [
    {
     "name": "stdout",
     "output_type": "stream",
     "text": [
      "foursquare_places empty: True\n",
      "foursquare_categories empty: True\n",
      "running...\n",
      "...done after 113 s\n"
     ]
    }
   ],
   "source": [
    "print(f'foursquare_places empty: {len(foursquare_places) == 0}')\n",
    "print(f'foursquare_categories empty: {len(foursquare_categories) == 0}')\n",
    "print('running...')\n",
    "num_stations = stations_df.shape[0]\n",
    "start = datetime.now()\n",
    "\n",
    "for row in range(num_stations):\n",
    "    results = foursquare_results(stations_df, row, radius=100, limit=2)\n",
    "    for result in results:\n",
    "        new_places = result_to_place(stations_df, result, row)\n",
    "        new_categories = result_to_categories(result, row)\n",
    "        foursquare_categories += new_categories\n",
    "        foursquare_places.append(new_places)\n",
    "\n",
    "end = datetime.now()\n",
    "runtime = end - start\n",
    "print(f'...done after {runtime.seconds} s')"
   ]
  },
  {
   "cell_type": "markdown",
   "metadata": {},
   "source": [
    "### Put the results into DataFrames"
   ]
  },
  {
   "cell_type": "code",
   "execution_count": 10,
   "metadata": {},
   "outputs": [
    {
     "data": {
      "text/html": [
       "<div>\n",
       "<style scoped>\n",
       "    .dataframe tbody tr th:only-of-type {\n",
       "        vertical-align: middle;\n",
       "    }\n",
       "\n",
       "    .dataframe tbody tr th {\n",
       "        vertical-align: top;\n",
       "    }\n",
       "\n",
       "    .dataframe thead th {\n",
       "        text-align: right;\n",
       "    }\n",
       "</style>\n",
       "<table border=\"1\" class=\"dataframe\">\n",
       "  <thead>\n",
       "    <tr style=\"text-align: right;\">\n",
       "      <th></th>\n",
       "      <th>fsq_id</th>\n",
       "      <th>name</th>\n",
       "      <th>closed_bucket</th>\n",
       "      <th>distance</th>\n",
       "      <th>station_id</th>\n",
       "    </tr>\n",
       "  </thead>\n",
       "  <tbody>\n",
       "    <tr>\n",
       "      <th>0</th>\n",
       "      <td>4b574bbef964a520dc2f28e3</td>\n",
       "      <td>Mestizo</td>\n",
       "      <td>VeryLikelyOpen</td>\n",
       "      <td>33</td>\n",
       "      <td>3983dd515589a80338dd44a28f5ec414</td>\n",
       "    </tr>\n",
       "    <tr>\n",
       "      <th>1</th>\n",
       "      <td>4e911fa3be7b7962e9d1e3e4</td>\n",
       "      <td>Papito's</td>\n",
       "      <td>Unsure</td>\n",
       "      <td>31</td>\n",
       "      <td>3983dd515589a80338dd44a28f5ec414</td>\n",
       "    </tr>\n",
       "    <tr>\n",
       "      <th>2</th>\n",
       "      <td>516c733ee4b01f5270ed60b3</td>\n",
       "      <td>La Vinoteca</td>\n",
       "      <td>VeryLikelyOpen</td>\n",
       "      <td>52</td>\n",
       "      <td>405a3a5ca08c7536d3eb286cf8553025</td>\n",
       "    </tr>\n",
       "    <tr>\n",
       "      <th>3</th>\n",
       "      <td>58fd1218603d2a48552f0c84</td>\n",
       "      <td>Brunapoli</td>\n",
       "      <td>VeryLikelyOpen</td>\n",
       "      <td>50</td>\n",
       "      <td>405a3a5ca08c7536d3eb286cf8553025</td>\n",
       "    </tr>\n",
       "    <tr>\n",
       "      <th>4</th>\n",
       "      <td>4dc723c1e4cd169dc6772033</td>\n",
       "      <td>Teatro Mori Vitacura</td>\n",
       "      <td>Unsure</td>\n",
       "      <td>75</td>\n",
       "      <td>0e8dfc3f137cb3911bd32f5fd45e0f93</td>\n",
       "    </tr>\n",
       "  </tbody>\n",
       "</table>\n",
       "</div>"
      ],
      "text/plain": [
       "                     fsq_id                  name   closed_bucket  distance  \\\n",
       "0  4b574bbef964a520dc2f28e3               Mestizo  VeryLikelyOpen        33   \n",
       "1  4e911fa3be7b7962e9d1e3e4              Papito's          Unsure        31   \n",
       "2  516c733ee4b01f5270ed60b3           La Vinoteca  VeryLikelyOpen        52   \n",
       "3  58fd1218603d2a48552f0c84             Brunapoli  VeryLikelyOpen        50   \n",
       "4  4dc723c1e4cd169dc6772033  Teatro Mori Vitacura          Unsure        75   \n",
       "\n",
       "                         station_id  \n",
       "0  3983dd515589a80338dd44a28f5ec414  \n",
       "1  3983dd515589a80338dd44a28f5ec414  \n",
       "2  405a3a5ca08c7536d3eb286cf8553025  \n",
       "3  405a3a5ca08c7536d3eb286cf8553025  \n",
       "4  0e8dfc3f137cb3911bd32f5fd45e0f93  "
      ]
     },
     "execution_count": 10,
     "metadata": {},
     "output_type": "execute_result"
    }
   ],
   "source": [
    "foursquare_places_df = pd.DataFrame(foursquare_places)\n",
    "foursquare_places_df.head()"
   ]
  },
  {
   "cell_type": "code",
   "execution_count": 13,
   "metadata": {},
   "outputs": [
    {
     "name": "stdout",
     "output_type": "stream",
     "text": [
      "<class 'pandas.core.frame.DataFrame'>\n",
      "RangeIndex: 372 entries, 0 to 371\n",
      "Data columns (total 5 columns):\n",
      " #   Column         Non-Null Count  Dtype \n",
      "---  ------         --------------  ----- \n",
      " 0   fsq_id         372 non-null    object\n",
      " 1   name           372 non-null    object\n",
      " 2   closed_bucket  372 non-null    object\n",
      " 3   distance       372 non-null    int64 \n",
      " 4   station_id     372 non-null    object\n",
      "dtypes: int64(1), object(4)\n",
      "memory usage: 14.7+ KB\n"
     ]
    }
   ],
   "source": [
    "foursquare_places_df.info()"
   ]
  },
  {
   "cell_type": "code",
   "execution_count": 11,
   "metadata": {},
   "outputs": [
    {
     "data": {
      "text/html": [
       "<div>\n",
       "<style scoped>\n",
       "    .dataframe tbody tr th:only-of-type {\n",
       "        vertical-align: middle;\n",
       "    }\n",
       "\n",
       "    .dataframe tbody tr th {\n",
       "        vertical-align: top;\n",
       "    }\n",
       "\n",
       "    .dataframe thead th {\n",
       "        text-align: right;\n",
       "    }\n",
       "</style>\n",
       "<table border=\"1\" class=\"dataframe\">\n",
       "  <thead>\n",
       "    <tr style=\"text-align: right;\">\n",
       "      <th></th>\n",
       "      <th>fsq_id</th>\n",
       "      <th>category_id</th>\n",
       "      <th>category_name</th>\n",
       "    </tr>\n",
       "  </thead>\n",
       "  <tbody>\n",
       "    <tr>\n",
       "      <th>0</th>\n",
       "      <td>4b574bbef964a520dc2f28e3</td>\n",
       "      <td>13343</td>\n",
       "      <td>South American Restaurant</td>\n",
       "    </tr>\n",
       "    <tr>\n",
       "      <th>1</th>\n",
       "      <td>4b574bbef964a520dc2f28e3</td>\n",
       "      <td>13345</td>\n",
       "      <td>Spanish Restaurant</td>\n",
       "    </tr>\n",
       "    <tr>\n",
       "      <th>2</th>\n",
       "      <td>4e911fa3be7b7962e9d1e3e4</td>\n",
       "      <td>13007</td>\n",
       "      <td>Beer Garden</td>\n",
       "    </tr>\n",
       "    <tr>\n",
       "      <th>3</th>\n",
       "      <td>516c733ee4b01f5270ed60b3</td>\n",
       "      <td>17069</td>\n",
       "      <td>Grocery Store</td>\n",
       "    </tr>\n",
       "    <tr>\n",
       "      <th>4</th>\n",
       "      <td>516c733ee4b01f5270ed60b3</td>\n",
       "      <td>17076</td>\n",
       "      <td>Liquor Store</td>\n",
       "    </tr>\n",
       "  </tbody>\n",
       "</table>\n",
       "</div>"
      ],
      "text/plain": [
       "                     fsq_id  category_id              category_name\n",
       "0  4b574bbef964a520dc2f28e3        13343  South American Restaurant\n",
       "1  4b574bbef964a520dc2f28e3        13345         Spanish Restaurant\n",
       "2  4e911fa3be7b7962e9d1e3e4        13007                Beer Garden\n",
       "3  516c733ee4b01f5270ed60b3        17069              Grocery Store\n",
       "4  516c733ee4b01f5270ed60b3        17076               Liquor Store"
      ]
     },
     "execution_count": 11,
     "metadata": {},
     "output_type": "execute_result"
    }
   ],
   "source": [
    "foursquare_categories_df = pd.DataFrame(foursquare_categories)\n",
    "foursquare_categories_df.head()"
   ]
  },
  {
   "cell_type": "code",
   "execution_count": 12,
   "metadata": {},
   "outputs": [
    {
     "name": "stdout",
     "output_type": "stream",
     "text": [
      "<class 'pandas.core.frame.DataFrame'>\n",
      "RangeIndex: 446 entries, 0 to 445\n",
      "Data columns (total 3 columns):\n",
      " #   Column         Non-Null Count  Dtype \n",
      "---  ------         --------------  ----- \n",
      " 0   fsq_id         446 non-null    object\n",
      " 1   category_id    446 non-null    int64 \n",
      " 2   category_name  446 non-null    object\n",
      "dtypes: int64(1), object(2)\n",
      "memory usage: 10.6+ KB\n"
     ]
    }
   ],
   "source": [
    "foursquare_categories_df.info()"
   ]
  },
  {
   "cell_type": "markdown",
   "metadata": {},
   "source": [
    "### Export the DataFrames to CSV"
   ]
  },
  {
   "cell_type": "code",
   "execution_count": null,
   "metadata": {},
   "outputs": [],
   "source": [
    "dirname = '../data/'\n",
    "\n",
    "basename = 'foursquare_places.csv'\n",
    "filename = dirname + basename\n",
    "foursquare_places_df.to_csv(filename, sep=',', index=False)\n",
    "\n",
    "basename = 'foursquare_categories.csv'\n",
    "filename = dirname + basename\n",
    "foursquare_categories_df.to_csv(filename, sep=',', index=False)"
   ]
  },
  {
   "cell_type": "code",
   "execution_count": 14,
   "metadata": {},
   "outputs": [],
   "source": [
    "export(foursquare_places_df, 'foursquare_places.csv')\n",
    "export(foursquare_categor)"
   ]
  },
  {
   "cell_type": "markdown",
   "metadata": {},
   "source": [
    "## Yelp"
   ]
  },
  {
   "cell_type": "markdown",
   "metadata": {},
   "source": [
    "Send a request to Yelp with a small radius (1000m) for all the bike stations in your city of choice. "
   ]
  },
  {
   "cell_type": "code",
   "execution_count": null,
   "metadata": {},
   "outputs": [],
   "source": [
    "def yelp_business_search(\n",
    "    latitude: float,\n",
    "    longitude: float,\n",
    "    # categories: str,\n",
    "    radius: int,\n",
    "    limit: int\n",
    ") -> requests.Response | None:\n",
    "    \"\"\"\n",
    "    Return a Yelp business search response.\n",
    "    \"\"\"\n",
    "    url = 'https://api.yelp.com/v3/businesses/search'\n",
    "\n",
    "    params = {\n",
    "        'latitude': latitude,\n",
    "        'longitude': longitude,\n",
    "        # 'categories': categories,\n",
    "        'radius': radius,\n",
    "        'limit': limit\n",
    "    }\n",
    "\n",
    "    headers = {\n",
    "        'accept': 'application/json',\n",
    "        'authorization': f'Bearer {yelp_api_key}' \n",
    "    }\n",
    "\n",
    "    try:\n",
    "        response = requests.get(url, params=params, headers=headers)\n",
    "        response.raise_for_status()\n",
    "    except requests.HTTPError as err:\n",
    "        print(f'get request failed, {err}')\n",
    "        return None\n",
    "    else:\n",
    "        return response"
   ]
  },
  {
   "cell_type": "code",
   "execution_count": null,
   "metadata": {},
   "outputs": [],
   "source": [
    "def row_to_businesses(\n",
    "    stations_df: pd.DataFrame, \n",
    "    row: int,\n",
    "    radius: int = 1000,\n",
    "    limit: int = 50,\n",
    ") -> list[dict] | None:\n",
    "    \"\"\"\n",
    "    Return the results list from a Yelp Businesses Search.\n",
    "\n",
    "    Given a particular row, *i.e.,* a bike station, from the \n",
    "    stations_df DataFrame previously assembled, return a list \n",
    "    of places nearby the bike station in question. Return None\n",
    "    if the Yelp get request fails or if the request \n",
    "    succeeds but the corresponding response does not contain\n",
    "    results.\n",
    "\n",
    "    :param stations_df: bike stations data\n",
    "    :type stations_df: DataFrame\n",
    "\n",
    "    :param row: the number of a row in stations_df\n",
    "    :type row: int\n",
    "\n",
    "    :return: the results list from a Foursqaure Place Search\n",
    "    :rtype: list[dict]\n",
    "    \"\"\"\n",
    "    station_id, lat, long =\\\n",
    "        stations_df.loc[row, ['station_id', 'latitude', 'longitude']].to_list()\n",
    "    \n",
    "    response = yelp_business_search(lat, long, radius, limit)\n",
    "\n",
    "    if response is None:\n",
    "        return None\n",
    "\n",
    "    data = response.json()\n",
    "\n",
    "    try:\n",
    "        results = data['businesses']\n",
    "    except KeyError as err:\n",
    "        print(f'response does not contain results, {err}')\n",
    "        return None\n",
    "    else:\n",
    "        return results"
   ]
  },
  {
   "cell_type": "code",
   "execution_count": null,
   "metadata": {},
   "outputs": [],
   "source": [
    "def result_to_businesses(\n",
    "    stations_df: pd.DataFrame,\n",
    "    result: dict, \n",
    "    row: int\n",
    ") -> dict:\n",
    "    \"\"\"\n",
    "    Return a dictionary of place information.\n",
    "\n",
    "    Given a particular result, *i.e.,* a place, extract the\n",
    "    information that will be added to the foursquare_places_df\n",
    "    DataFrame.\n",
    "\n",
    "    :param stations_df: bike stations data\n",
    "    :type stations_df: DataFrame\n",
    "    \n",
    "    :param: a single result from a Foursquare Place Search\n",
    "    :type: dict\n",
    "\n",
    "    :param row: the number of a row in stations_df\n",
    "    :type row: int\n",
    "\n",
    "    :return: a dictionary to be added as a row to a DataFrame\n",
    "    :rtype: dict\n",
    "    \"\"\"\n",
    "    return {\n",
    "        'yelp_id': result['id'],\n",
    "        'name': result['name'],\n",
    "        'is_closed': result['is_closed'],\n",
    "        'review_count': result['review_count'],\n",
    "        'price': result.get('price'),\n",
    "        'rating': result['rating'],\n",
    "        'distance': result['distance'],\n",
    "        'station_id': stations_df.loc[row, 'station_id']\n",
    "    }"
   ]
  },
  {
   "cell_type": "code",
   "execution_count": null,
   "metadata": {},
   "outputs": [],
   "source": [
    "def result_to_bus_categories(result: dict, row: int) -> list[dict]:\n",
    "    \"\"\"\n",
    "    Return a dictionary of place category information.\n",
    "\n",
    "    Given a particular result, *i.e.,* a place, extract all of\n",
    "    its categories as a list that will be added to the \n",
    "    foursquare_categories_df DataFrame.\n",
    "\n",
    "    :param: a single result from a Foursquare Place Search\n",
    "    :type: dict\n",
    "\n",
    "    :param row: the number of a row in stations_df\n",
    "    :type row: int\n",
    "\n",
    "    :return: a list of dictionaries to be added as rows to a DataFrame\n",
    "    :rtype: dict\n",
    "    \"\"\"\n",
    "    return_list = []\n",
    "    categories = result['categories']\n",
    "    for category in categories:\n",
    "        new_category = {\n",
    "            'yelp_id': result['id'],\n",
    "            'category_name': category['title']\n",
    "        }\n",
    "        return_list.append(new_category)\n",
    "    return return_list"
   ]
  },
  {
   "cell_type": "code",
   "execution_count": null,
   "metadata": {},
   "outputs": [],
   "source": [
    "results = row_to_businesses(stations_df, 0)\n",
    "results[0]"
   ]
  },
  {
   "cell_type": "code",
   "execution_count": null,
   "metadata": {},
   "outputs": [],
   "source": [
    "result_to_businesses(stations_df, results[1], 1)"
   ]
  },
  {
   "cell_type": "code",
   "execution_count": null,
   "metadata": {},
   "outputs": [],
   "source": [
    "result_to_bus_categories(results[1], 1)"
   ]
  },
  {
   "cell_type": "markdown",
   "metadata": {},
   "source": [
    "Parse through the response to get the POI (such as restaurants, bars, etc) details you want (ratings, name, location, etc)"
   ]
  },
  {
   "cell_type": "code",
   "execution_count": null,
   "metadata": {},
   "outputs": [],
   "source": [
    "yelp_places = []\n",
    "yelp_categories = []"
   ]
  },
  {
   "cell_type": "code",
   "execution_count": null,
   "metadata": {},
   "outputs": [],
   "source": [
    "print(f'yelp_places empty: {len(yelp_places) == 0}')\n",
    "print(f'yelp_categories empty: {len(yelp_categories) == 0}')\n",
    "print('running...')\n",
    "num_stations = stations_df.shape[0]\n",
    "start = datetime.now()\n",
    "\n",
    "num_stations = 3\n",
    "\n",
    "for row in range(num_stations):\n",
    "    results = row_to_businesses(stations_df, row)\n",
    "    for result in results:\n",
    "        new_places = result_to_businesses(stations_df, result, row)\n",
    "        new_categories = result_to_bus_categories(result, row)\n",
    "        yelp_categories += new_categories\n",
    "        yelp_places.append(new_places)\n",
    "\n",
    "end = datetime.now()\n",
    "runtime = end - start\n",
    "print(f'...done after {runtime.seconds} s')"
   ]
  },
  {
   "cell_type": "code",
   "execution_count": null,
   "metadata": {
    "scrolled": true
   },
   "outputs": [],
   "source": [
    "yelp_places"
   ]
  },
  {
   "cell_type": "code",
   "execution_count": null,
   "metadata": {
    "scrolled": true
   },
   "outputs": [],
   "source": [
    "yelp_categories"
   ]
  },
  {
   "cell_type": "markdown",
   "metadata": {},
   "source": [
    "Put your parsed results into a DataFrame"
   ]
  },
  {
   "cell_type": "code",
   "execution_count": null,
   "metadata": {},
   "outputs": [],
   "source": [
    "yelp_places_df = pd.DataFrame(yelp_places)\n",
    "yelp_places_df.head()"
   ]
  },
  {
   "cell_type": "code",
   "execution_count": null,
   "metadata": {},
   "outputs": [],
   "source": [
    "yelp_categories_df = pd.DataFrame(yelp_categories)\n",
    "yelp_categories_df.head()"
   ]
  },
  {
   "cell_type": "markdown",
   "metadata": {},
   "source": [
    "## Comparing Results"
   ]
  },
  {
   "cell_type": "markdown",
   "metadata": {},
   "source": [
    "Which API provided you with more complete data? Provide an explanation. "
   ]
  },
  {
   "cell_type": "markdown",
   "metadata": {},
   "source": []
  },
  {
   "cell_type": "markdown",
   "metadata": {},
   "source": [
    "Get the top 10 restaurants according to their rating"
   ]
  },
  {
   "cell_type": "code",
   "execution_count": null,
   "metadata": {},
   "outputs": [],
   "source": []
  }
 ],
 "metadata": {
  "kernelspec": {
   "display_name": "data-science",
   "language": "python",
   "name": "data-science"
  },
  "language_info": {
   "codemirror_mode": {
    "name": "ipython",
    "version": 3
   },
   "file_extension": ".py",
   "mimetype": "text/x-python",
   "name": "python",
   "nbconvert_exporter": "python",
   "pygments_lexer": "ipython3",
   "version": "3.12.2"
  }
 },
 "nbformat": 4,
 "nbformat_minor": 4
}
