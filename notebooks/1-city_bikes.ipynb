{
 "cells": [
  {
   "cell_type": "markdown",
   "metadata": {},
   "source": [
    "# Part1: Connecting to the CityBikes API"
   ]
  },
  {
   "cell_type": "markdown",
   "metadata": {},
   "source": [
    "## Imports"
   ]
  },
  {
   "cell_type": "code",
   "execution_count": 1,
   "metadata": {},
   "outputs": [],
   "source": [
    "from collections import defaultdict\n",
    "import numpy as np\n",
    "import pandas as pd\n",
    "\n",
    "from utils import export, get"
   ]
  },
  {
   "cell_type": "markdown",
   "metadata": {},
   "source": [
    "## Get a list of cities in the CityBikes API"
   ]
  },
  {
   "cell_type": "code",
   "execution_count": 2,
   "metadata": {},
   "outputs": [],
   "source": [
    "url = 'http://api.citybik.es/v2/networks'\n",
    "params = {}\n",
    "headers = {'accept': 'application/json'}\n",
    "\n",
    "response = get(url, params, headers)"
   ]
  },
  {
   "cell_type": "markdown",
   "metadata": {},
   "source": [
    "First, I'll get a list of all networks available in the CityBikes API."
   ]
  },
  {
   "cell_type": "code",
   "execution_count": 3,
   "metadata": {},
   "outputs": [
    {
     "data": {
      "text/plain": [
       "{'company': ['ЗАО «СитиБайк»'],\n",
       " 'href': '/v2/networks/velobike-moscow',\n",
       " 'id': 'velobike-moscow',\n",
       " 'location': {'city': 'Moscow',\n",
       "  'country': 'RU',\n",
       "  'latitude': 55.75,\n",
       "  'longitude': 37.616667},\n",
       " 'name': 'Velobike'}"
      ]
     },
     "execution_count": 3,
     "metadata": {},
     "output_type": "execute_result"
    }
   ],
   "source": [
    "data_json: dict = response.json()\n",
    "networks: list[dict] = data_json['networks']\n",
    "\n",
    "# Print out the first network dict to see its structure.\n",
    "networks[0]"
   ]
  },
  {
   "cell_type": "markdown",
   "metadata": {},
   "source": [
    "Extract the cities and corresponding network IDs that can be accessed with the CityBikes API."
   ]
  },
  {
   "cell_type": "code",
   "execution_count": 4,
   "metadata": {},
   "outputs": [
    {
     "data": {
      "text/plain": [
       "['10vorWien',\n",
       " 'A Coruña',\n",
       " 'A Illa de Arousa',\n",
       " 'Aachen',\n",
       " 'Abu Dhabi',\n",
       " 'Acquarica del Capo',\n",
       " 'Acquaviva delle fonti',\n",
       " 'Agen',\n",
       " 'Aigialeia',\n",
       " 'Alba',\n",
       " 'Albacete']"
      ]
     },
     "execution_count": 4,
     "metadata": {},
     "output_type": "execute_result"
    }
   ],
   "source": [
    "network_ids = defaultdict(list)\n",
    "for network in networks:\n",
    "    network_ids[network['location']['city']].append(network['id'])\n",
    "\n",
    "# Get a list of the cities that can be accessed with the CityBikes API.\n",
    "cities = list(network_ids.keys())\n",
    "cities.sort()\n",
    "cities[:11]"
   ]
  },
  {
   "cell_type": "markdown",
   "metadata": {},
   "source": [
    "## Send a request to CityBikes for the city of your choice. "
   ]
  },
  {
   "cell_type": "markdown",
   "metadata": {},
   "source": [
    "I chose Santiago, Chile for this study. Santiago is a populous city with many bike stations. Also, at the time of data acqusition, it was early afternoon in Santiago and the weather there was slightly overcast and ~12 deg. C. Both of these factors would seem to promote cycling."
   ]
  },
  {
   "cell_type": "code",
   "execution_count": 5,
   "metadata": {},
   "outputs": [
    {
     "name": "stdout",
     "output_type": "stream",
     "text": [
      "Santiago in cities: True\n",
      "No. of bike networks in Santiago: 1\n"
     ]
    }
   ],
   "source": [
    "city = 'Santiago'\n",
    "print(f'{city} in cities: {city in cities}')\n",
    "print(f'No. of bike networks in {city}: {len(network_ids[city])}')"
   ]
  },
  {
   "cell_type": "code",
   "execution_count": 6,
   "metadata": {
    "scrolled": true
   },
   "outputs": [],
   "source": [
    "# Note that url, headers, and params were defined above.\n",
    "network_id: str = network_ids['Santiago'][0]\n",
    "endpoint: str = url + '/' + network_id\n",
    "\n",
    "response = get(endpoint, params, headers)"
   ]
  },
  {
   "cell_type": "code",
   "execution_count": 7,
   "metadata": {},
   "outputs": [
    {
     "name": "stdout",
     "output_type": "stream",
     "text": [
      "There are 230 bike stations in Santiago.\n"
     ]
    },
    {
     "data": {
      "text/plain": [
       "{'empty_slots': 7,\n",
       " 'extra': {'address': 'Alcalde Dávalos 124',\n",
       "  'altitude': 0.0,\n",
       "  'ebikes': 0,\n",
       "  'has_ebikes': True,\n",
       "  'last_updated': 1714750092,\n",
       "  'normal_bikes': 6,\n",
       "  'payment': ['key', 'transitcard', 'creditcard', 'phone'],\n",
       "  'payment-terminal': True,\n",
       "  'post_code': '1111',\n",
       "  'rental_uris': {},\n",
       "  'renting': 1,\n",
       "  'returning': 1,\n",
       "  'slots': 13,\n",
       "  'uid': '237'},\n",
       " 'free_bikes': 6,\n",
       " 'id': 'e1593acef03a0fd770595370586bc358',\n",
       " 'latitude': -33.428334,\n",
       " 'longitude': -70.627312,\n",
       " 'name': 'P31 - Estación Canal 13',\n",
       " 'timestamp': '2024-05-03T15:29:29.800000Z'}"
      ]
     },
     "execution_count": 7,
     "metadata": {},
     "output_type": "execute_result"
    }
   ],
   "source": [
    "stations: list[dict] = response.json()['network']['stations']\n",
    "\n",
    "print(f'There are {len(stations)} bike stations in {city}.')\n",
    "\n",
    "# Print out the first station to see its structure.\n",
    "stations[0]"
   ]
  },
  {
   "cell_type": "markdown",
   "metadata": {},
   "source": [
    "## Parse the response to get various details for the bike stations in that city "
   ]
  },
  {
   "cell_type": "code",
   "execution_count": 8,
   "metadata": {},
   "outputs": [],
   "source": [
    "station_data = {\n",
    "    'timestamp': [],\n",
    "    'station_id': [],\n",
    "    'name': [],\n",
    "    \n",
    "    'latitude': [],\n",
    "    'longitude': [],\n",
    "    'altitude': [],\n",
    "    \n",
    "    'slots': [],\n",
    "    'free_bikes': [],\n",
    "    'empty_slots': [],\n",
    "    \n",
    "    'has_ebikes': [],\n",
    "    'ebikes': [],\n",
    "    'normal_bikes': []\n",
    "}"
   ]
  },
  {
   "cell_type": "code",
   "execution_count": 9,
   "metadata": {
    "scrolled": true
   },
   "outputs": [],
   "source": [
    "for station in stations:\n",
    "    station_data['timestamp'].append(station.get('timestamp'))\n",
    "    station_data['station_id'].append(station.get('id'))\n",
    "    station_data['name'].append(station.get('name'))\n",
    "    \n",
    "    station_data['latitude'].append(station.get('latitude'))\n",
    "    station_data['longitude'].append(station.get('longitude'))\n",
    "    station_data['altitude'].append(station['extra'].get('altitude'))\n",
    "\n",
    "    station_data['slots'].append(station['extra'].get('slots'))\n",
    "    station_data['free_bikes'].append(station.get('free_bikes'))\n",
    "    station_data['empty_slots'].append(station.get('empty_slots'))\n",
    "    \n",
    "    station_data['has_ebikes'].append(station['extra'].get('has_ebikes'))\n",
    "    station_data['ebikes'].append(station['extra'].get('ebikes'))\n",
    "    station_data['normal_bikes'].append(station['extra'].get('normal_bikes'))"
   ]
  },
  {
   "cell_type": "markdown",
   "metadata": {},
   "source": [
    "## Put the parsed results into a DataFrame"
   ]
  },
  {
   "cell_type": "code",
   "execution_count": 10,
   "metadata": {},
   "outputs": [
    {
     "data": {
      "text/html": [
       "<div>\n",
       "<style scoped>\n",
       "    .dataframe tbody tr th:only-of-type {\n",
       "        vertical-align: middle;\n",
       "    }\n",
       "\n",
       "    .dataframe tbody tr th {\n",
       "        vertical-align: top;\n",
       "    }\n",
       "\n",
       "    .dataframe thead th {\n",
       "        text-align: right;\n",
       "    }\n",
       "</style>\n",
       "<table border=\"1\" class=\"dataframe\">\n",
       "  <thead>\n",
       "    <tr style=\"text-align: right;\">\n",
       "      <th></th>\n",
       "      <th>timestamp</th>\n",
       "      <th>station_id</th>\n",
       "      <th>name</th>\n",
       "      <th>latitude</th>\n",
       "      <th>longitude</th>\n",
       "      <th>altitude</th>\n",
       "      <th>slots</th>\n",
       "      <th>free_bikes</th>\n",
       "      <th>empty_slots</th>\n",
       "      <th>has_ebikes</th>\n",
       "      <th>ebikes</th>\n",
       "      <th>normal_bikes</th>\n",
       "    </tr>\n",
       "  </thead>\n",
       "  <tbody>\n",
       "    <tr>\n",
       "      <th>0</th>\n",
       "      <td>2024-05-03T15:29:29.800000Z</td>\n",
       "      <td>e1593acef03a0fd770595370586bc358</td>\n",
       "      <td>P31 - Estación Canal 13</td>\n",
       "      <td>-33.428334</td>\n",
       "      <td>-70.627312</td>\n",
       "      <td>0.0</td>\n",
       "      <td>13</td>\n",
       "      <td>6</td>\n",
       "      <td>7</td>\n",
       "      <td>True</td>\n",
       "      <td>0</td>\n",
       "      <td>6</td>\n",
       "    </tr>\n",
       "    <tr>\n",
       "      <th>1</th>\n",
       "      <td>2024-05-03T15:29:29.533000Z</td>\n",
       "      <td>3983dd515589a80338dd44a28f5ec414</td>\n",
       "      <td>V34 - Mestizo</td>\n",
       "      <td>-33.394000</td>\n",
       "      <td>-70.600000</td>\n",
       "      <td>0.0</td>\n",
       "      <td>23</td>\n",
       "      <td>8</td>\n",
       "      <td>15</td>\n",
       "      <td>True</td>\n",
       "      <td>0</td>\n",
       "      <td>8</td>\n",
       "    </tr>\n",
       "    <tr>\n",
       "      <th>2</th>\n",
       "      <td>2024-05-03T15:29:29.537000Z</td>\n",
       "      <td>405a3a5ca08c7536d3eb286cf8553025</td>\n",
       "      <td>V10 - Casa Costanera</td>\n",
       "      <td>-33.398000</td>\n",
       "      <td>-70.598000</td>\n",
       "      <td>0.0</td>\n",
       "      <td>11</td>\n",
       "      <td>8</td>\n",
       "      <td>3</td>\n",
       "      <td>True</td>\n",
       "      <td>0</td>\n",
       "      <td>8</td>\n",
       "    </tr>\n",
       "    <tr>\n",
       "      <th>3</th>\n",
       "      <td>2024-05-03T15:29:29.538000Z</td>\n",
       "      <td>0e8dfc3f137cb3911bd32f5fd45e0f93</td>\n",
       "      <td>V35 - Municipalidad de Vitacura</td>\n",
       "      <td>-33.398000</td>\n",
       "      <td>-70.601000</td>\n",
       "      <td>0.0</td>\n",
       "      <td>15</td>\n",
       "      <td>9</td>\n",
       "      <td>3</td>\n",
       "      <td>True</td>\n",
       "      <td>0</td>\n",
       "      <td>9</td>\n",
       "    </tr>\n",
       "    <tr>\n",
       "      <th>4</th>\n",
       "      <td>2024-05-03T15:29:29.539000Z</td>\n",
       "      <td>bdf4fc889476008ea8c644640f306bbc</td>\n",
       "      <td>V07 - Bicentenario</td>\n",
       "      <td>-33.401000</td>\n",
       "      <td>-70.602000</td>\n",
       "      <td>0.0</td>\n",
       "      <td>17</td>\n",
       "      <td>8</td>\n",
       "      <td>8</td>\n",
       "      <td>True</td>\n",
       "      <td>0</td>\n",
       "      <td>8</td>\n",
       "    </tr>\n",
       "  </tbody>\n",
       "</table>\n",
       "</div>"
      ],
      "text/plain": [
       "                     timestamp                        station_id  \\\n",
       "0  2024-05-03T15:29:29.800000Z  e1593acef03a0fd770595370586bc358   \n",
       "1  2024-05-03T15:29:29.533000Z  3983dd515589a80338dd44a28f5ec414   \n",
       "2  2024-05-03T15:29:29.537000Z  405a3a5ca08c7536d3eb286cf8553025   \n",
       "3  2024-05-03T15:29:29.538000Z  0e8dfc3f137cb3911bd32f5fd45e0f93   \n",
       "4  2024-05-03T15:29:29.539000Z  bdf4fc889476008ea8c644640f306bbc   \n",
       "\n",
       "                              name   latitude  longitude  altitude  slots  \\\n",
       "0          P31 - Estación Canal 13 -33.428334 -70.627312       0.0     13   \n",
       "1                    V34 - Mestizo -33.394000 -70.600000       0.0     23   \n",
       "2             V10 - Casa Costanera -33.398000 -70.598000       0.0     11   \n",
       "3  V35 - Municipalidad de Vitacura -33.398000 -70.601000       0.0     15   \n",
       "4               V07 - Bicentenario -33.401000 -70.602000       0.0     17   \n",
       "\n",
       "   free_bikes  empty_slots  has_ebikes  ebikes  normal_bikes  \n",
       "0           6            7        True       0             6  \n",
       "1           8           15        True       0             8  \n",
       "2           8            3        True       0             8  \n",
       "3           9            3        True       0             9  \n",
       "4           8            8        True       0             8  "
      ]
     },
     "execution_count": 10,
     "metadata": {},
     "output_type": "execute_result"
    }
   ],
   "source": [
    "stations_df = pd.DataFrame(station_data)\n",
    "stations_df.head()"
   ]
  },
  {
   "cell_type": "code",
   "execution_count": 11,
   "metadata": {},
   "outputs": [
    {
     "name": "stdout",
     "output_type": "stream",
     "text": [
      "<class 'pandas.core.frame.DataFrame'>\n",
      "RangeIndex: 230 entries, 0 to 229\n",
      "Data columns (total 12 columns):\n",
      " #   Column        Non-Null Count  Dtype  \n",
      "---  ------        --------------  -----  \n",
      " 0   timestamp     230 non-null    object \n",
      " 1   station_id    230 non-null    object \n",
      " 2   name          230 non-null    object \n",
      " 3   latitude      230 non-null    float64\n",
      " 4   longitude     230 non-null    float64\n",
      " 5   altitude      230 non-null    float64\n",
      " 6   slots         230 non-null    int64  \n",
      " 7   free_bikes    230 non-null    int64  \n",
      " 8   empty_slots   230 non-null    int64  \n",
      " 9   has_ebikes    230 non-null    bool   \n",
      " 10  ebikes        230 non-null    int64  \n",
      " 11  normal_bikes  230 non-null    int64  \n",
      "dtypes: bool(1), float64(3), int64(5), object(3)\n",
      "memory usage: 20.1+ KB\n"
     ]
    }
   ],
   "source": [
    "stations_df.info()"
   ]
  },
  {
   "cell_type": "markdown",
   "metadata": {},
   "source": [
    "## Export the DataFrame to CSV"
   ]
  },
  {
   "cell_type": "code",
   "execution_count": 12,
   "metadata": {},
   "outputs": [],
   "source": [
    "export(stations_df, 'stations.csv')"
   ]
  },
  {
   "cell_type": "code",
   "execution_count": null,
   "metadata": {},
   "outputs": [],
   "source": []
  }
 ],
 "metadata": {
  "kernelspec": {
   "display_name": "data-science",
   "language": "python",
   "name": "data-science"
  },
  "language_info": {
   "codemirror_mode": {
    "name": "ipython",
    "version": 3
   },
   "file_extension": ".py",
   "mimetype": "text/x-python",
   "name": "python",
   "nbconvert_exporter": "python",
   "pygments_lexer": "ipython3",
   "version": "3.12.2"
  }
 },
 "nbformat": 4,
 "nbformat_minor": 4
}
