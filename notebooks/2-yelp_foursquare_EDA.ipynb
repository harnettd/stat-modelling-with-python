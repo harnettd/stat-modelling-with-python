{
 "cells": [
  {
   "cell_type": "markdown",
   "metadata": {},
   "source": [
    "# Part 2: Connecting to Foursquare and Yelp APIs"
   ]
  },
  {
   "cell_type": "markdown",
   "metadata": {},
   "source": [
    "## Imports"
   ]
  },
  {
   "cell_type": "code",
   "execution_count": 1,
   "metadata": {},
   "outputs": [],
   "source": [
    "from datetime import datetime\n",
    "import os\n",
    "import pandas as pd\n",
    "\n",
    "from utils import export, get"
   ]
  },
  {
   "cell_type": "markdown",
   "metadata": {},
   "source": [
    "### Get API keys"
   ]
  },
  {
   "cell_type": "code",
   "execution_count": 2,
   "metadata": {},
   "outputs": [],
   "source": [
    "foursquare_api_key: str = os.getenv('APIKEY_FOURSQUARE')\n",
    "yelp_api_key: str = os.getenv('APIKEY_YELP')"
   ]
  },
  {
   "cell_type": "markdown",
   "metadata": {},
   "source": [
    "## Read bike stations data"
   ]
  },
  {
   "cell_type": "code",
   "execution_count": 3,
   "metadata": {},
   "outputs": [
    {
     "data": {
      "text/html": [
       "<div>\n",
       "<style scoped>\n",
       "    .dataframe tbody tr th:only-of-type {\n",
       "        vertical-align: middle;\n",
       "    }\n",
       "\n",
       "    .dataframe tbody tr th {\n",
       "        vertical-align: top;\n",
       "    }\n",
       "\n",
       "    .dataframe thead th {\n",
       "        text-align: right;\n",
       "    }\n",
       "</style>\n",
       "<table border=\"1\" class=\"dataframe\">\n",
       "  <thead>\n",
       "    <tr style=\"text-align: right;\">\n",
       "      <th></th>\n",
       "      <th>timestamp</th>\n",
       "      <th>station_id</th>\n",
       "      <th>name</th>\n",
       "      <th>latitude</th>\n",
       "      <th>longitude</th>\n",
       "      <th>altitude</th>\n",
       "      <th>slots</th>\n",
       "      <th>free_bikes</th>\n",
       "      <th>empty_slots</th>\n",
       "      <th>has_ebikes</th>\n",
       "      <th>ebikes</th>\n",
       "      <th>normal_bikes</th>\n",
       "    </tr>\n",
       "  </thead>\n",
       "  <tbody>\n",
       "    <tr>\n",
       "      <th>0</th>\n",
       "      <td>2024-05-03T15:29:29.800000Z</td>\n",
       "      <td>e1593acef03a0fd770595370586bc358</td>\n",
       "      <td>P31 - Estación Canal 13</td>\n",
       "      <td>-33.428334</td>\n",
       "      <td>-70.627312</td>\n",
       "      <td>0.0</td>\n",
       "      <td>13</td>\n",
       "      <td>6</td>\n",
       "      <td>7</td>\n",
       "      <td>True</td>\n",
       "      <td>0</td>\n",
       "      <td>6</td>\n",
       "    </tr>\n",
       "    <tr>\n",
       "      <th>1</th>\n",
       "      <td>2024-05-03T15:29:29.533000Z</td>\n",
       "      <td>3983dd515589a80338dd44a28f5ec414</td>\n",
       "      <td>V34 - Mestizo</td>\n",
       "      <td>-33.394000</td>\n",
       "      <td>-70.600000</td>\n",
       "      <td>0.0</td>\n",
       "      <td>23</td>\n",
       "      <td>8</td>\n",
       "      <td>15</td>\n",
       "      <td>True</td>\n",
       "      <td>0</td>\n",
       "      <td>8</td>\n",
       "    </tr>\n",
       "    <tr>\n",
       "      <th>2</th>\n",
       "      <td>2024-05-03T15:29:29.537000Z</td>\n",
       "      <td>405a3a5ca08c7536d3eb286cf8553025</td>\n",
       "      <td>V10 - Casa Costanera</td>\n",
       "      <td>-33.398000</td>\n",
       "      <td>-70.598000</td>\n",
       "      <td>0.0</td>\n",
       "      <td>11</td>\n",
       "      <td>8</td>\n",
       "      <td>3</td>\n",
       "      <td>True</td>\n",
       "      <td>0</td>\n",
       "      <td>8</td>\n",
       "    </tr>\n",
       "    <tr>\n",
       "      <th>3</th>\n",
       "      <td>2024-05-03T15:29:29.538000Z</td>\n",
       "      <td>0e8dfc3f137cb3911bd32f5fd45e0f93</td>\n",
       "      <td>V35 - Municipalidad de Vitacura</td>\n",
       "      <td>-33.398000</td>\n",
       "      <td>-70.601000</td>\n",
       "      <td>0.0</td>\n",
       "      <td>15</td>\n",
       "      <td>9</td>\n",
       "      <td>3</td>\n",
       "      <td>True</td>\n",
       "      <td>0</td>\n",
       "      <td>9</td>\n",
       "    </tr>\n",
       "    <tr>\n",
       "      <th>4</th>\n",
       "      <td>2024-05-03T15:29:29.539000Z</td>\n",
       "      <td>bdf4fc889476008ea8c644640f306bbc</td>\n",
       "      <td>V07 - Bicentenario</td>\n",
       "      <td>-33.401000</td>\n",
       "      <td>-70.602000</td>\n",
       "      <td>0.0</td>\n",
       "      <td>17</td>\n",
       "      <td>8</td>\n",
       "      <td>8</td>\n",
       "      <td>True</td>\n",
       "      <td>0</td>\n",
       "      <td>8</td>\n",
       "    </tr>\n",
       "  </tbody>\n",
       "</table>\n",
       "</div>"
      ],
      "text/plain": [
       "                     timestamp                        station_id  \\\n",
       "0  2024-05-03T15:29:29.800000Z  e1593acef03a0fd770595370586bc358   \n",
       "1  2024-05-03T15:29:29.533000Z  3983dd515589a80338dd44a28f5ec414   \n",
       "2  2024-05-03T15:29:29.537000Z  405a3a5ca08c7536d3eb286cf8553025   \n",
       "3  2024-05-03T15:29:29.538000Z  0e8dfc3f137cb3911bd32f5fd45e0f93   \n",
       "4  2024-05-03T15:29:29.539000Z  bdf4fc889476008ea8c644640f306bbc   \n",
       "\n",
       "                              name   latitude  longitude  altitude  slots  \\\n",
       "0          P31 - Estación Canal 13 -33.428334 -70.627312       0.0     13   \n",
       "1                    V34 - Mestizo -33.394000 -70.600000       0.0     23   \n",
       "2             V10 - Casa Costanera -33.398000 -70.598000       0.0     11   \n",
       "3  V35 - Municipalidad de Vitacura -33.398000 -70.601000       0.0     15   \n",
       "4               V07 - Bicentenario -33.401000 -70.602000       0.0     17   \n",
       "\n",
       "   free_bikes  empty_slots  has_ebikes  ebikes  normal_bikes  \n",
       "0           6            7        True       0             6  \n",
       "1           8           15        True       0             8  \n",
       "2           8            3        True       0             8  \n",
       "3           9            3        True       0             9  \n",
       "4           8            8        True       0             8  "
      ]
     },
     "execution_count": 3,
     "metadata": {},
     "output_type": "execute_result"
    }
   ],
   "source": [
    "dirname = '../data/'\n",
    "basename = 'stations.csv'\n",
    "filename = dirname + basename\n",
    "\n",
    "stations_df = pd.read_csv(filename, sep=',', index_col=False)\n",
    "stations_df.head()"
   ]
  },
  {
   "cell_type": "markdown",
   "metadata": {},
   "source": [
    "## Foursquare"
   ]
  },
  {
   "cell_type": "markdown",
   "metadata": {},
   "source": [
    "### Send a request to Foursquare for each bike station in your city of choice "
   ]
  },
  {
   "cell_type": "code",
   "execution_count": 4,
   "metadata": {},
   "outputs": [],
   "source": [
    "def foursquare_search(\n",
    "    latitude: float,\n",
    "    longitude: float,\n",
    "    radius: int,\n",
    "    limit: int,\n",
    "    api_key: str = foursquare_api_key\n",
    "):\n",
    "    \"\"\"\n",
    "    Return a get response from Foursquare's Place Search.\n",
    "\n",
    "    Make a get request to Foursquare's Place Search using\n",
    "    latitude, longitude, and radius. Accept a JSON response.\n",
    "\n",
    "    :param latitude: latitude of a place\n",
    "    :type latitude: float\n",
    "\n",
    "    :param longitude: longitude of a place\n",
    "    :type longitude: float\n",
    "\n",
    "    :param radius: metres around a place considered nearby \n",
    "    :type radius: int\n",
    "\n",
    "    :param limit: max number of results to include in response\n",
    "    :type limit: int\n",
    "\n",
    "    :param api_key: Foursquare API key\n",
    "    :type api_key: str\n",
    "    \n",
    "    :return: a Place Search response from Foursquare\n",
    "    :rtype: requests.Response | None    \n",
    "    \"\"\"\n",
    "    # Foursquare Place Search endpoint\n",
    "    url = 'https://api.foursquare.com/v3/places/search'\n",
    "\n",
    "    params = {\n",
    "        'll': f'{latitude},{longitude}',\n",
    "        'radius': radius,\n",
    "        'limit': limit\n",
    "    }\n",
    "\n",
    "    headers = {\n",
    "        'accept': 'application/json',\n",
    "        'authorization': foursquare_api_key\n",
    "    }\n",
    "\n",
    "    return get(url, params, headers)"
   ]
  },
  {
   "cell_type": "code",
   "execution_count": 5,
   "metadata": {},
   "outputs": [],
   "source": [
    "def foursquare_results(\n",
    "    stations_df: pd.DataFrame,\n",
    "    row: int,\n",
    "    radius: int = 500,\n",
    "    limit: int = 10,\n",
    ") -> list[dict] | None:\n",
    "    \"\"\"\n",
    "    Return the results list from a Foursquare Place Search.\n",
    "\n",
    "    Given a particular row, *i.e.,* a bike station, from the \n",
    "    stations_df DataFrame previously assembled, return a list \n",
    "    of places nearby the bike station in question. Return None\n",
    "    if the Foursquare get request fails or if the request \n",
    "    succeeds but the corresponding response does not contain\n",
    "    results.\n",
    "\n",
    "    :param stations_df: bike stations data\n",
    "    :type stations_df: DataFrame\n",
    "\n",
    "    :param row: the number of a row in stations_df\n",
    "    :type row: int\n",
    "\n",
    "    :param radius: metres around a place considered nearby \n",
    "    :type radius: int\n",
    "\n",
    "    :param limit: max number of results to include in response\n",
    "    :type limit: int\n",
    "    \n",
    "    :return: the results list from a Foursqaure Place Search\n",
    "    :rtype: list[dict]\n",
    "    \"\"\"\n",
    "    station_id, lat, long =\\\n",
    "        stations_df.loc[row, ['station_id', 'latitude', 'longitude']].to_list()\n",
    "    \n",
    "    response = foursquare_search(lat, long, radius, limit)\n",
    "\n",
    "    if response is None:\n",
    "        return None\n",
    "\n",
    "    data = response.json()\n",
    "\n",
    "    try:\n",
    "        results = data['results']\n",
    "    except KeyError as err:\n",
    "        print(f'response does not contain results, {err}')\n",
    "        return None\n",
    "    else:\n",
    "        return results"
   ]
  },
  {
   "cell_type": "markdown",
   "metadata": {},
   "source": [
    "Print out a single Foursquare result to get an idea of its structure."
   ]
  },
  {
   "cell_type": "code",
   "execution_count": 6,
   "metadata": {},
   "outputs": [
    {
     "data": {
      "text/plain": [
       "{'fsq_id': '58dbe5d5126ae82bf8f7ff16',\n",
       " 'categories': [{'id': 13322,\n",
       "   'name': 'Peruvian Restaurant',\n",
       "   'short_name': 'Peruvian',\n",
       "   'plural_name': 'Peruvian Restaurants',\n",
       "   'icon': {'prefix': 'https://ss3.4sqi.net/img/categories_v2/food/peruvian_',\n",
       "    'suffix': '.png'}}],\n",
       " 'chains': [],\n",
       " 'closed_bucket': 'Unsure',\n",
       " 'distance': 163,\n",
       " 'geocodes': {'main': {'latitude': -33.42865, 'longitude': -70.625766},\n",
       "  'roof': {'latitude': -33.42865, 'longitude': -70.625766}},\n",
       " 'link': '/v3/places/58dbe5d5126ae82bf8f7ff16',\n",
       " 'location': {'admin_region': 'Santiago',\n",
       "  'country': 'CL',\n",
       "  'cross_street': '',\n",
       "  'formatted_address': 'Providencia, Metropolitana de Santiago de Chile',\n",
       "  'locality': 'Providencia',\n",
       "  'region': 'Metropolitana de Santiago de Chile'},\n",
       " 'name': 'Lima 17',\n",
       " 'related_places': {},\n",
       " 'timezone': 'America/Santiago'}"
      ]
     },
     "execution_count": 6,
     "metadata": {},
     "output_type": "execute_result"
    }
   ],
   "source": [
    "tmp = foursquare_results(stations_df, row=0, radius=500, limit=1)\n",
    "tmp[0]"
   ]
  },
  {
   "cell_type": "code",
   "execution_count": 7,
   "metadata": {},
   "outputs": [],
   "source": [
    "def result_to_place(\n",
    "    stations_df: pd.DataFrame,\n",
    "    result: dict, \n",
    "    row: int\n",
    ") -> dict:\n",
    "    \"\"\"\n",
    "    Return a dictionary of Foursquare place information.\n",
    "\n",
    "    Given a particular result, *i.e.,* a place, extract the\n",
    "    information that will be added to the foursquare_places_df\n",
    "    DataFrame.\n",
    "\n",
    "    :param stations_df: bike stations data\n",
    "    :type stations_df: DataFrame\n",
    "    \n",
    "    :param result: a single result from a Foursquare Place Search\n",
    "    :type result: dict\n",
    "\n",
    "    :param row: the number of a row in stations_df\n",
    "    :type row: int\n",
    "\n",
    "    :return: a dictionary to be added as a row to a DataFrame\n",
    "    :rtype: dict\n",
    "    \"\"\"\n",
    "    return {\n",
    "        'fsq_id': result.get('fsq_id'),\n",
    "        'name': result.get('name'),\n",
    "        'closed_bucket': result.get('closed_bucket'),\n",
    "        'distance': result.get('distance'),\n",
    "        'station_id': stations_df.loc[row, 'station_id']\n",
    "    }"
   ]
  },
  {
   "cell_type": "code",
   "execution_count": 8,
   "metadata": {},
   "outputs": [],
   "source": [
    "def result_to_categories(result: dict, row: int) -> list[dict]:\n",
    "    \"\"\"\n",
    "    Return a dictionary of place category information.\n",
    "\n",
    "    Given a particular result, *i.e.,* a place, extract all of\n",
    "    its categories as a list that will be added to the \n",
    "    foursquare_categories_df DataFrame.\n",
    "\n",
    "    :param result: a single result from a Foursquare Place Search\n",
    "    :type result: dict\n",
    "\n",
    "    :param row: the number of a row in stations_df\n",
    "    :type row: int\n",
    "\n",
    "    :return: a list of dictionaries to be added as rows to a DataFrame\n",
    "    :rtype: dict\n",
    "    \"\"\"\n",
    "    cat_list = []\n",
    "    categories = result['categories']\n",
    "    for category in categories:\n",
    "        new_category = {\n",
    "            'fsq_id': result.get('fsq_id'),\n",
    "            'category_id': category.get('id'),\n",
    "            'category_name': category.get('name')\n",
    "        }\n",
    "        cat_list.append(new_category)\n",
    "    return cat_list"
   ]
  },
  {
   "cell_type": "markdown",
   "metadata": {},
   "source": [
    "Initialize two lists intended to store dictionaries related to Foursquare places and categories."
   ]
  },
  {
   "cell_type": "code",
   "execution_count": 9,
   "metadata": {},
   "outputs": [],
   "source": [
    "foursquare_places = []\n",
    "foursquare_categories = []"
   ]
  },
  {
   "cell_type": "markdown",
   "metadata": {},
   "source": [
    "Loop through the rows of stations_df, parsing Foursquare Place Searches and extending foursquare_places and foursquare_categories on each iteration."
   ]
  },
  {
   "cell_type": "code",
   "execution_count": 10,
   "metadata": {},
   "outputs": [
    {
     "name": "stdout",
     "output_type": "stream",
     "text": [
      "foursquare_places empty: True\n",
      "foursquare_categories empty: True\n",
      "running...\n",
      "...done after 103 s\n"
     ]
    }
   ],
   "source": [
    "print(f'foursquare_places empty: {len(foursquare_places) == 0}')\n",
    "print(f'foursquare_categories empty: {len(foursquare_categories) == 0}')\n",
    "print('running...')\n",
    "num_stations = stations_df.shape[0]\n",
    "start = datetime.now()\n",
    "\n",
    "for row in range(num_stations):\n",
    "    results = foursquare_results(stations_df, row, radius=1000, limit=50)\n",
    "    for result in results:\n",
    "        new_places = result_to_place(stations_df, result, row)\n",
    "        new_categories = result_to_categories(result, row)\n",
    "        foursquare_categories += new_categories\n",
    "        foursquare_places.append(new_places)\n",
    "\n",
    "end = datetime.now()\n",
    "runtime = end - start\n",
    "print(f'...done after {runtime.seconds} s')"
   ]
  },
  {
   "cell_type": "markdown",
   "metadata": {},
   "source": [
    "### Put the results into DataFrames"
   ]
  },
  {
   "cell_type": "code",
   "execution_count": 11,
   "metadata": {},
   "outputs": [
    {
     "data": {
      "text/html": [
       "<div>\n",
       "<style scoped>\n",
       "    .dataframe tbody tr th:only-of-type {\n",
       "        vertical-align: middle;\n",
       "    }\n",
       "\n",
       "    .dataframe tbody tr th {\n",
       "        vertical-align: top;\n",
       "    }\n",
       "\n",
       "    .dataframe thead th {\n",
       "        text-align: right;\n",
       "    }\n",
       "</style>\n",
       "<table border=\"1\" class=\"dataframe\">\n",
       "  <thead>\n",
       "    <tr style=\"text-align: right;\">\n",
       "      <th></th>\n",
       "      <th>fsq_id</th>\n",
       "      <th>name</th>\n",
       "      <th>closed_bucket</th>\n",
       "      <th>distance</th>\n",
       "      <th>station_id</th>\n",
       "    </tr>\n",
       "  </thead>\n",
       "  <tbody>\n",
       "    <tr>\n",
       "      <th>0</th>\n",
       "      <td>58dbe5d5126ae82bf8f7ff16</td>\n",
       "      <td>Lima 17</td>\n",
       "      <td>Unsure</td>\n",
       "      <td>163</td>\n",
       "      <td>e1593acef03a0fd770595370586bc358</td>\n",
       "    </tr>\n",
       "    <tr>\n",
       "      <th>1</th>\n",
       "      <td>4bd9e4db3904a593501d449e</td>\n",
       "      <td>Plaza de la Aviación</td>\n",
       "      <td>VeryLikelyOpen</td>\n",
       "      <td>435</td>\n",
       "      <td>e1593acef03a0fd770595370586bc358</td>\n",
       "    </tr>\n",
       "    <tr>\n",
       "      <th>2</th>\n",
       "      <td>54e39d82498e2bf4dbe8df34</td>\n",
       "      <td>Starbucks</td>\n",
       "      <td>VeryLikelyOpen</td>\n",
       "      <td>417</td>\n",
       "      <td>e1593acef03a0fd770595370586bc358</td>\n",
       "    </tr>\n",
       "    <tr>\n",
       "      <th>3</th>\n",
       "      <td>50c5137fe4b02085d85e4047</td>\n",
       "      <td>Café del Negro</td>\n",
       "      <td>Unsure</td>\n",
       "      <td>410</td>\n",
       "      <td>e1593acef03a0fd770595370586bc358</td>\n",
       "    </tr>\n",
       "    <tr>\n",
       "      <th>4</th>\n",
       "      <td>59ad8e4228122f2d257f8772</td>\n",
       "      <td>Restaurant 47 Ronin</td>\n",
       "      <td>VeryLikelyOpen</td>\n",
       "      <td>498</td>\n",
       "      <td>e1593acef03a0fd770595370586bc358</td>\n",
       "    </tr>\n",
       "  </tbody>\n",
       "</table>\n",
       "</div>"
      ],
      "text/plain": [
       "                     fsq_id                  name   closed_bucket  distance  \\\n",
       "0  58dbe5d5126ae82bf8f7ff16               Lima 17          Unsure       163   \n",
       "1  4bd9e4db3904a593501d449e  Plaza de la Aviación  VeryLikelyOpen       435   \n",
       "2  54e39d82498e2bf4dbe8df34             Starbucks  VeryLikelyOpen       417   \n",
       "3  50c5137fe4b02085d85e4047        Café del Negro          Unsure       410   \n",
       "4  59ad8e4228122f2d257f8772   Restaurant 47 Ronin  VeryLikelyOpen       498   \n",
       "\n",
       "                         station_id  \n",
       "0  e1593acef03a0fd770595370586bc358  \n",
       "1  e1593acef03a0fd770595370586bc358  \n",
       "2  e1593acef03a0fd770595370586bc358  \n",
       "3  e1593acef03a0fd770595370586bc358  \n",
       "4  e1593acef03a0fd770595370586bc358  "
      ]
     },
     "execution_count": 11,
     "metadata": {},
     "output_type": "execute_result"
    }
   ],
   "source": [
    "foursquare_places_df = pd.DataFrame(foursquare_places)\n",
    "foursquare_places_df.head()"
   ]
  },
  {
   "cell_type": "code",
   "execution_count": 12,
   "metadata": {},
   "outputs": [
    {
     "name": "stdout",
     "output_type": "stream",
     "text": [
      "<class 'pandas.core.frame.DataFrame'>\n",
      "RangeIndex: 9217 entries, 0 to 9216\n",
      "Data columns (total 5 columns):\n",
      " #   Column         Non-Null Count  Dtype \n",
      "---  ------         --------------  ----- \n",
      " 0   fsq_id         9217 non-null   object\n",
      " 1   name           9217 non-null   object\n",
      " 2   closed_bucket  9217 non-null   object\n",
      " 3   distance       9217 non-null   int64 \n",
      " 4   station_id     9217 non-null   object\n",
      "dtypes: int64(1), object(4)\n",
      "memory usage: 360.2+ KB\n"
     ]
    }
   ],
   "source": [
    "foursquare_places_df.info()"
   ]
  },
  {
   "cell_type": "code",
   "execution_count": 13,
   "metadata": {},
   "outputs": [
    {
     "data": {
      "text/html": [
       "<div>\n",
       "<style scoped>\n",
       "    .dataframe tbody tr th:only-of-type {\n",
       "        vertical-align: middle;\n",
       "    }\n",
       "\n",
       "    .dataframe tbody tr th {\n",
       "        vertical-align: top;\n",
       "    }\n",
       "\n",
       "    .dataframe thead th {\n",
       "        text-align: right;\n",
       "    }\n",
       "</style>\n",
       "<table border=\"1\" class=\"dataframe\">\n",
       "  <thead>\n",
       "    <tr style=\"text-align: right;\">\n",
       "      <th></th>\n",
       "      <th>fsq_id</th>\n",
       "      <th>category_id</th>\n",
       "      <th>category_name</th>\n",
       "    </tr>\n",
       "  </thead>\n",
       "  <tbody>\n",
       "    <tr>\n",
       "      <th>0</th>\n",
       "      <td>58dbe5d5126ae82bf8f7ff16</td>\n",
       "      <td>13322</td>\n",
       "      <td>Peruvian Restaurant</td>\n",
       "    </tr>\n",
       "    <tr>\n",
       "      <th>1</th>\n",
       "      <td>4bd9e4db3904a593501d449e</td>\n",
       "      <td>13065</td>\n",
       "      <td>Restaurant</td>\n",
       "    </tr>\n",
       "    <tr>\n",
       "      <th>2</th>\n",
       "      <td>4bd9e4db3904a593501d449e</td>\n",
       "      <td>16017</td>\n",
       "      <td>Garden</td>\n",
       "    </tr>\n",
       "    <tr>\n",
       "      <th>3</th>\n",
       "      <td>4bd9e4db3904a593501d449e</td>\n",
       "      <td>16032</td>\n",
       "      <td>Park</td>\n",
       "    </tr>\n",
       "    <tr>\n",
       "      <th>4</th>\n",
       "      <td>4bd9e4db3904a593501d449e</td>\n",
       "      <td>16041</td>\n",
       "      <td>Plaza</td>\n",
       "    </tr>\n",
       "  </tbody>\n",
       "</table>\n",
       "</div>"
      ],
      "text/plain": [
       "                     fsq_id  category_id        category_name\n",
       "0  58dbe5d5126ae82bf8f7ff16        13322  Peruvian Restaurant\n",
       "1  4bd9e4db3904a593501d449e        13065           Restaurant\n",
       "2  4bd9e4db3904a593501d449e        16017               Garden\n",
       "3  4bd9e4db3904a593501d449e        16032                 Park\n",
       "4  4bd9e4db3904a593501d449e        16041                Plaza"
      ]
     },
     "execution_count": 13,
     "metadata": {},
     "output_type": "execute_result"
    }
   ],
   "source": [
    "foursquare_categories_df = pd.DataFrame(foursquare_categories)\n",
    "foursquare_categories_df.head()"
   ]
  },
  {
   "cell_type": "code",
   "execution_count": 14,
   "metadata": {},
   "outputs": [
    {
     "name": "stdout",
     "output_type": "stream",
     "text": [
      "<class 'pandas.core.frame.DataFrame'>\n",
      "RangeIndex: 11974 entries, 0 to 11973\n",
      "Data columns (total 3 columns):\n",
      " #   Column         Non-Null Count  Dtype \n",
      "---  ------         --------------  ----- \n",
      " 0   fsq_id         11974 non-null  object\n",
      " 1   category_id    11974 non-null  int64 \n",
      " 2   category_name  11974 non-null  object\n",
      "dtypes: int64(1), object(2)\n",
      "memory usage: 280.8+ KB\n"
     ]
    }
   ],
   "source": [
    "foursquare_categories_df.info()"
   ]
  },
  {
   "cell_type": "markdown",
   "metadata": {},
   "source": [
    "### Export the DataFrames to CSV"
   ]
  },
  {
   "cell_type": "code",
   "execution_count": 15,
   "metadata": {},
   "outputs": [],
   "source": [
    "export(foursquare_places_df, 'foursquare_places.csv')\n",
    "export(foursquare_categories_df, 'foursquare_categories.csv')"
   ]
  },
  {
   "cell_type": "markdown",
   "metadata": {},
   "source": [
    "## Yelp"
   ]
  },
  {
   "cell_type": "markdown",
   "metadata": {},
   "source": [
    "### Send a request to Yelp for each bike station in your city of choice"
   ]
  },
  {
   "cell_type": "code",
   "execution_count": 16,
   "metadata": {},
   "outputs": [],
   "source": [
    "def yelp_search(\n",
    "    latitude: float,\n",
    "    longitude: float,\n",
    "    radius: int,\n",
    "    limit: int,\n",
    "    api_key: str = yelp_api_key,\n",
    "):\n",
    "    \"\"\"\n",
    "    Return a get response from Yelp's Businesses Search.\n",
    "\n",
    "    Make a get request to Yelp's Businesses Search using\n",
    "    latitude, longitude, and radius. Accept a JSON response.\n",
    "\n",
    "    :param latitude: latitude of a place\n",
    "    :type latitude: float\n",
    "\n",
    "    :param longitude: longitude of a place\n",
    "    :type longitude: float\n",
    "\n",
    "    :param radius: metres around a place considered nearby \n",
    "    :type radius: int\n",
    "\n",
    "    :param limit: max number of results to include in response\n",
    "    :type limit: int\n",
    "\n",
    "    :param api_key: Yelp API key\n",
    "    :type api_key: str\n",
    "    \n",
    "    :return: a Businesses Search response from Yelp\n",
    "    :rtype: requests.Response | None    \n",
    "    \"\"\"\n",
    "    # Yelp Businesses Search endpoint\n",
    "    url = 'https://api.yelp.com/v3/businesses/search'\n",
    "\n",
    "    params = {\n",
    "        'latitude': latitude,\n",
    "        'longitude': longitude,\n",
    "        'radius': radius,\n",
    "        'limit': limit\n",
    "    }\n",
    "\n",
    "    headers = {\n",
    "        'accept': 'application/json',\n",
    "        'authorization': f'Bearer {yelp_api_key}' \n",
    "    }\n",
    "\n",
    "    return get(url, params=params, headers=headers)"
   ]
  },
  {
   "cell_type": "code",
   "execution_count": 17,
   "metadata": {},
   "outputs": [],
   "source": [
    "def yelp_businesses(\n",
    "    stations_df: pd.DataFrame, \n",
    "    row: int,\n",
    "    radius: int = 500,\n",
    "    limit: int = 10,\n",
    ") -> list[dict] | None:\n",
    "    \"\"\"\n",
    "    Return the results list from a Yelp Businesses Search.\n",
    "\n",
    "    Given a particular row, *i.e.,* a bike station, from the \n",
    "    stations_df DataFrame previously assembled, return a list \n",
    "    of places nearby the bike station in question. Return None\n",
    "    if the Yelp get request fails or if the request \n",
    "    succeeds but the corresponding response does not contain\n",
    "    results.\n",
    "\n",
    "    :param stations_df: bike stations data\n",
    "    :type stations_df: DataFrame\n",
    "\n",
    "    :param row: the number of a row in stations_df\n",
    "    :type row: int\n",
    "\n",
    "    :return: the results list from a Foursqaure Place Search\n",
    "    :rtype: list[dict]\n",
    "    \"\"\"\n",
    "    station_id, lat, long =\\\n",
    "        stations_df.loc[row, ['station_id', 'latitude', 'longitude']].to_list()\n",
    "    \n",
    "    response = yelp_search(lat, long, radius, limit)\n",
    "\n",
    "    if response is None:\n",
    "        return None\n",
    "\n",
    "    data = response.json()\n",
    "\n",
    "    try:\n",
    "        results = data['businesses']\n",
    "    except KeyError as err:\n",
    "        print(f'response does not contain businesses, {err}')\n",
    "        return None\n",
    "    else:\n",
    "        return results"
   ]
  },
  {
   "cell_type": "markdown",
   "metadata": {},
   "source": [
    "Print out a single Yelp result to get an idea of its structure."
   ]
  },
  {
   "cell_type": "code",
   "execution_count": 19,
   "metadata": {},
   "outputs": [
    {
     "data": {
      "text/plain": [
       "{'id': 'kWQxKQrcn3PNHzxsdPALcw',\n",
       " 'alias': 'jimbos-santiago-3',\n",
       " 'name': \"Jimbo's\",\n",
       " 'image_url': 'https://s3-media4.fl.yelpcdn.com/bphoto/Xy6cPUzV-mMm_UUnQ-QsfA/o.jpg',\n",
       " 'is_closed': False,\n",
       " 'url': 'https://www.yelp.com/biz/jimbos-santiago-3?adjust_creative=63YPOQR85PnJzp_H-e7TYQ&utm_campaign=yelp_api_v3&utm_medium=api_v3_business_search&utm_source=63YPOQR85PnJzp_H-e7TYQ',\n",
       " 'review_count': 3,\n",
       " 'categories': [{'alias': 'australian', 'title': 'Australian'}],\n",
       " 'rating': 4.7,\n",
       " 'coordinates': {'latitude': -33.4286, 'longitude': -70.6258},\n",
       " 'transactions': [],\n",
       " 'location': {'address1': 'Los Pinones 29',\n",
       "  'address2': None,\n",
       "  'address3': '',\n",
       "  'city': 'Santiago',\n",
       "  'zip_code': '',\n",
       "  'country': 'CL',\n",
       "  'state': 'RM',\n",
       "  'display_address': ['Los Pinones 29', 'RM Santiago', 'Chile']},\n",
       " 'phone': '+56951266916',\n",
       " 'display_phone': '+56 9 5126 6916',\n",
       " 'distance': 151.5245960834386,\n",
       " 'attributes': {'business_temp_closed': None,\n",
       "  'menu_url': None,\n",
       "  'open24_hours': None,\n",
       "  'waitlist_reservation': None}}"
      ]
     },
     "execution_count": 19,
     "metadata": {},
     "output_type": "execute_result"
    }
   ],
   "source": [
    "tmp = yelp_businesses(stations_df, row=0, radius=500, limit=1)\n",
    "tmp[0]"
   ]
  },
  {
   "cell_type": "code",
   "execution_count": 20,
   "metadata": {},
   "outputs": [],
   "source": [
    "def result_to_business(\n",
    "    stations_df: pd.DataFrame,\n",
    "    result: dict, \n",
    "    row: int\n",
    ") -> dict:\n",
    "    \"\"\"\n",
    "    Return a dictionary of business information.\n",
    "\n",
    "    Given a particular result, *i.e.,* a business, extract the\n",
    "    information that will be added to the yelp_places_df\n",
    "    DataFrame.\n",
    "\n",
    "    :param stations_df: bike stations data\n",
    "    :type stations_df: DataFrame\n",
    "    \n",
    "    :param result: a single result from a Yelp Businesses Search\n",
    "    :type result: dict\n",
    "\n",
    "    :param row: the number of a row in stations_df\n",
    "    :type row: int\n",
    "\n",
    "    :return: a dictionary to be added as a row to a DataFrame\n",
    "    :rtype: dict\n",
    "    \"\"\"\n",
    "    return {\n",
    "        'yelp_id': result.get('id'),\n",
    "        'name': result.get('name'),\n",
    "        'is_closed': result.get('is_closed'),\n",
    "        'review_count': result.get('review_count'),\n",
    "        'price': result.get('price'),\n",
    "        'rating': result.get('rating'),\n",
    "        'distance': result.get('distance'),\n",
    "        'station_id': stations_df.loc[row, 'station_id']\n",
    "    }"
   ]
  },
  {
   "cell_type": "code",
   "execution_count": 21,
   "metadata": {},
   "outputs": [],
   "source": [
    "def result_to_categories(result: dict, row: int) -> list[dict]:\n",
    "    \"\"\"\n",
    "    Return a dictionary of place category information.\n",
    "\n",
    "    Given a particular result, *i.e.,* a place, extract all of\n",
    "    its categories as a list that will be added to the \n",
    "    foursquare_categories_df DataFrame.\n",
    "\n",
    "    :param: a single result from a Foursquare Place Search\n",
    "    :type: dict\n",
    "\n",
    "    :param row: the number of a row in stations_df\n",
    "    :type row: int\n",
    "\n",
    "    :return: a list of dictionaries to be added as rows to a DataFrame\n",
    "    :rtype: dict\n",
    "    \"\"\"\n",
    "    return_list = []\n",
    "    categories = result['categories']\n",
    "    for category in categories:\n",
    "        new_category = {\n",
    "            'yelp_id': result['id'],\n",
    "            'category_name': category['title']\n",
    "        }\n",
    "        return_list.append(new_category)\n",
    "    return return_list"
   ]
  },
  {
   "cell_type": "markdown",
   "metadata": {},
   "source": [
    "Initialize two lists to store information from Yelp on businesses and business categories."
   ]
  },
  {
   "cell_type": "code",
   "execution_count": 22,
   "metadata": {},
   "outputs": [],
   "source": [
    "yelp_places = []\n",
    "yelp_categories = []"
   ]
  },
  {
   "cell_type": "code",
   "execution_count": 23,
   "metadata": {},
   "outputs": [
    {
     "name": "stdout",
     "output_type": "stream",
     "text": [
      "yelp_places empty: True\n",
      "yelp_categories empty: True\n",
      "running...\n",
      "...done after 194 s\n"
     ]
    }
   ],
   "source": [
    "print(f'yelp_places empty: {len(yelp_places) == 0}')\n",
    "print(f'yelp_categories empty: {len(yelp_categories) == 0}')\n",
    "print('running...')\n",
    "num_stations = stations_df.shape[0]\n",
    "start = datetime.now()\n",
    "\n",
    "for row in range(num_stations):\n",
    "    results = yelp_businesses(stations_df, row, radius=1000, limit=50)\n",
    "    for result in results:\n",
    "        new_places = result_to_business(stations_df, result, row)\n",
    "        new_categories = result_to_categories(result, row)\n",
    "        yelp_categories += new_categories\n",
    "        yelp_places.append(new_places)\n",
    "\n",
    "end = datetime.now()\n",
    "runtime = end - start\n",
    "print(f'...done after {runtime.seconds} s')"
   ]
  },
  {
   "cell_type": "markdown",
   "metadata": {},
   "source": [
    "### Put the results into DataFrames"
   ]
  },
  {
   "cell_type": "code",
   "execution_count": 24,
   "metadata": {},
   "outputs": [
    {
     "data": {
      "text/html": [
       "<div>\n",
       "<style scoped>\n",
       "    .dataframe tbody tr th:only-of-type {\n",
       "        vertical-align: middle;\n",
       "    }\n",
       "\n",
       "    .dataframe tbody tr th {\n",
       "        vertical-align: top;\n",
       "    }\n",
       "\n",
       "    .dataframe thead th {\n",
       "        text-align: right;\n",
       "    }\n",
       "</style>\n",
       "<table border=\"1\" class=\"dataframe\">\n",
       "  <thead>\n",
       "    <tr style=\"text-align: right;\">\n",
       "      <th></th>\n",
       "      <th>yelp_id</th>\n",
       "      <th>name</th>\n",
       "      <th>is_closed</th>\n",
       "      <th>review_count</th>\n",
       "      <th>price</th>\n",
       "      <th>rating</th>\n",
       "      <th>distance</th>\n",
       "      <th>station_id</th>\n",
       "    </tr>\n",
       "  </thead>\n",
       "  <tbody>\n",
       "    <tr>\n",
       "      <th>0</th>\n",
       "      <td>8N6Y3HsLXHBeFwhlO0YxwQ</td>\n",
       "      <td>Barrica 94</td>\n",
       "      <td>False</td>\n",
       "      <td>78</td>\n",
       "      <td>$$</td>\n",
       "      <td>4.3</td>\n",
       "      <td>988.631270</td>\n",
       "      <td>e1593acef03a0fd770595370586bc358</td>\n",
       "    </tr>\n",
       "    <tr>\n",
       "      <th>1</th>\n",
       "      <td>U15KdCy6HH05WISNtN9plQ</td>\n",
       "      <td>Restaurant Peumayén</td>\n",
       "      <td>False</td>\n",
       "      <td>73</td>\n",
       "      <td>$$$$</td>\n",
       "      <td>4.5</td>\n",
       "      <td>856.161401</td>\n",
       "      <td>e1593acef03a0fd770595370586bc358</td>\n",
       "    </tr>\n",
       "    <tr>\n",
       "      <th>2</th>\n",
       "      <td>y2FR-JBGie4wiW6RjtKLhg</td>\n",
       "      <td>Aquí Está Coco</td>\n",
       "      <td>False</td>\n",
       "      <td>58</td>\n",
       "      <td>$$$$</td>\n",
       "      <td>4.3</td>\n",
       "      <td>1099.691315</td>\n",
       "      <td>e1593acef03a0fd770595370586bc358</td>\n",
       "    </tr>\n",
       "    <tr>\n",
       "      <th>3</th>\n",
       "      <td>25PGm8dLZuar_Q0CZWK-dQ</td>\n",
       "      <td>Ciudad Vieja</td>\n",
       "      <td>False</td>\n",
       "      <td>27</td>\n",
       "      <td>$$</td>\n",
       "      <td>4.4</td>\n",
       "      <td>880.515212</td>\n",
       "      <td>e1593acef03a0fd770595370586bc358</td>\n",
       "    </tr>\n",
       "    <tr>\n",
       "      <th>4</th>\n",
       "      <td>x72iXJX0J7kibMpisppZ9g</td>\n",
       "      <td>Liguria Manuel Montt</td>\n",
       "      <td>False</td>\n",
       "      <td>27</td>\n",
       "      <td>$$$</td>\n",
       "      <td>3.8</td>\n",
       "      <td>775.050520</td>\n",
       "      <td>e1593acef03a0fd770595370586bc358</td>\n",
       "    </tr>\n",
       "  </tbody>\n",
       "</table>\n",
       "</div>"
      ],
      "text/plain": [
       "                  yelp_id                  name  is_closed  review_count  \\\n",
       "0  8N6Y3HsLXHBeFwhlO0YxwQ            Barrica 94      False            78   \n",
       "1  U15KdCy6HH05WISNtN9plQ   Restaurant Peumayén      False            73   \n",
       "2  y2FR-JBGie4wiW6RjtKLhg        Aquí Está Coco      False            58   \n",
       "3  25PGm8dLZuar_Q0CZWK-dQ          Ciudad Vieja      False            27   \n",
       "4  x72iXJX0J7kibMpisppZ9g  Liguria Manuel Montt      False            27   \n",
       "\n",
       "  price  rating     distance                        station_id  \n",
       "0    $$     4.3   988.631270  e1593acef03a0fd770595370586bc358  \n",
       "1  $$$$     4.5   856.161401  e1593acef03a0fd770595370586bc358  \n",
       "2  $$$$     4.3  1099.691315  e1593acef03a0fd770595370586bc358  \n",
       "3    $$     4.4   880.515212  e1593acef03a0fd770595370586bc358  \n",
       "4   $$$     3.8   775.050520  e1593acef03a0fd770595370586bc358  "
      ]
     },
     "execution_count": 24,
     "metadata": {},
     "output_type": "execute_result"
    }
   ],
   "source": [
    "yelp_places_df = pd.DataFrame(yelp_places)\n",
    "yelp_places_df.head()"
   ]
  },
  {
   "cell_type": "code",
   "execution_count": 26,
   "metadata": {},
   "outputs": [
    {
     "name": "stdout",
     "output_type": "stream",
     "text": [
      "<class 'pandas.core.frame.DataFrame'>\n",
      "RangeIndex: 10366 entries, 0 to 10365\n",
      "Data columns (total 8 columns):\n",
      " #   Column        Non-Null Count  Dtype  \n",
      "---  ------        --------------  -----  \n",
      " 0   yelp_id       10366 non-null  object \n",
      " 1   name          10366 non-null  object \n",
      " 2   is_closed     10366 non-null  bool   \n",
      " 3   review_count  10366 non-null  int64  \n",
      " 4   price         7007 non-null   object \n",
      " 5   rating        10366 non-null  float64\n",
      " 6   distance      10366 non-null  float64\n",
      " 7   station_id    10366 non-null  object \n",
      "dtypes: bool(1), float64(2), int64(1), object(4)\n",
      "memory usage: 577.1+ KB\n"
     ]
    }
   ],
   "source": [
    "yelp_places_df.info()"
   ]
  },
  {
   "cell_type": "code",
   "execution_count": 27,
   "metadata": {},
   "outputs": [
    {
     "data": {
      "text/html": [
       "<div>\n",
       "<style scoped>\n",
       "    .dataframe tbody tr th:only-of-type {\n",
       "        vertical-align: middle;\n",
       "    }\n",
       "\n",
       "    .dataframe tbody tr th {\n",
       "        vertical-align: top;\n",
       "    }\n",
       "\n",
       "    .dataframe thead th {\n",
       "        text-align: right;\n",
       "    }\n",
       "</style>\n",
       "<table border=\"1\" class=\"dataframe\">\n",
       "  <thead>\n",
       "    <tr style=\"text-align: right;\">\n",
       "      <th></th>\n",
       "      <th>yelp_id</th>\n",
       "      <th>category_name</th>\n",
       "    </tr>\n",
       "  </thead>\n",
       "  <tbody>\n",
       "    <tr>\n",
       "      <th>0</th>\n",
       "      <td>8N6Y3HsLXHBeFwhlO0YxwQ</td>\n",
       "      <td>Wine Bars</td>\n",
       "    </tr>\n",
       "    <tr>\n",
       "      <th>1</th>\n",
       "      <td>8N6Y3HsLXHBeFwhlO0YxwQ</td>\n",
       "      <td>Chilean</td>\n",
       "    </tr>\n",
       "    <tr>\n",
       "      <th>2</th>\n",
       "      <td>8N6Y3HsLXHBeFwhlO0YxwQ</td>\n",
       "      <td>Cocktail Bars</td>\n",
       "    </tr>\n",
       "    <tr>\n",
       "      <th>3</th>\n",
       "      <td>U15KdCy6HH05WISNtN9plQ</td>\n",
       "      <td>Latin American</td>\n",
       "    </tr>\n",
       "    <tr>\n",
       "      <th>4</th>\n",
       "      <td>y2FR-JBGie4wiW6RjtKLhg</td>\n",
       "      <td>Seafood</td>\n",
       "    </tr>\n",
       "  </tbody>\n",
       "</table>\n",
       "</div>"
      ],
      "text/plain": [
       "                  yelp_id   category_name\n",
       "0  8N6Y3HsLXHBeFwhlO0YxwQ       Wine Bars\n",
       "1  8N6Y3HsLXHBeFwhlO0YxwQ         Chilean\n",
       "2  8N6Y3HsLXHBeFwhlO0YxwQ   Cocktail Bars\n",
       "3  U15KdCy6HH05WISNtN9plQ  Latin American\n",
       "4  y2FR-JBGie4wiW6RjtKLhg         Seafood"
      ]
     },
     "execution_count": 27,
     "metadata": {},
     "output_type": "execute_result"
    }
   ],
   "source": [
    "yelp_categories_df = pd.DataFrame(yelp_categories)\n",
    "yelp_categories_df.head()"
   ]
  },
  {
   "cell_type": "code",
   "execution_count": 28,
   "metadata": {},
   "outputs": [
    {
     "name": "stdout",
     "output_type": "stream",
     "text": [
      "<class 'pandas.core.frame.DataFrame'>\n",
      "RangeIndex: 15181 entries, 0 to 15180\n",
      "Data columns (total 2 columns):\n",
      " #   Column         Non-Null Count  Dtype \n",
      "---  ------         --------------  ----- \n",
      " 0   yelp_id        15181 non-null  object\n",
      " 1   category_name  15181 non-null  object\n",
      "dtypes: object(2)\n",
      "memory usage: 237.3+ KB\n"
     ]
    }
   ],
   "source": [
    "yelp_categories_df.info()"
   ]
  },
  {
   "cell_type": "markdown",
   "metadata": {},
   "source": [
    "### Export the DataFrames to CSV"
   ]
  },
  {
   "cell_type": "code",
   "execution_count": 29,
   "metadata": {},
   "outputs": [],
   "source": [
    "export(yelp_places_df, 'yelp_places.csv')\n",
    "export(yelp_categories_df, 'yelp_categories.csv')"
   ]
  },
  {
   "cell_type": "markdown",
   "metadata": {},
   "source": [
    "## Comparing Results"
   ]
  },
  {
   "cell_type": "markdown",
   "metadata": {},
   "source": [
    "### Which API provided you with more complete data? Provide an explanation. "
   ]
  },
  {
   "cell_type": "markdown",
   "metadata": {},
   "source": [
    "I would say that the Yelp data is more complete than the Foursquare data. Everything interesting that I pulled from the Foursquare data, *e.g.,* name, distance, closed_bucket, and categories, I also pulled from the Yelp data. But, with the Yelp data, there were additional potentially intersting pieces of information including review_count, price, and rating."
   ]
  },
  {
   "cell_type": "markdown",
   "metadata": {},
   "source": [
    "### Get the top 10 restaurants according to their rating"
   ]
  },
  {
   "cell_type": "code",
   "execution_count": 8,
   "metadata": {},
   "outputs": [],
   "source": [
    "df = pd.merge(yelp_places_df, yelp_categories_df, how='inner', \n",
    "              on='yelp_id')"
   ]
  },
  {
   "cell_type": "code",
   "execution_count": 9,
   "metadata": {},
   "outputs": [
    {
     "data": {
      "text/html": [
       "<div>\n",
       "<style scoped>\n",
       "    .dataframe tbody tr th:only-of-type {\n",
       "        vertical-align: middle;\n",
       "    }\n",
       "\n",
       "    .dataframe tbody tr th {\n",
       "        vertical-align: top;\n",
       "    }\n",
       "\n",
       "    .dataframe thead th {\n",
       "        text-align: right;\n",
       "    }\n",
       "</style>\n",
       "<table border=\"1\" class=\"dataframe\">\n",
       "  <thead>\n",
       "    <tr style=\"text-align: right;\">\n",
       "      <th></th>\n",
       "      <th>yelp_id</th>\n",
       "      <th>name</th>\n",
       "      <th>is_closed</th>\n",
       "      <th>review_count</th>\n",
       "      <th>price</th>\n",
       "      <th>rating</th>\n",
       "      <th>distance</th>\n",
       "      <th>station_id</th>\n",
       "      <th>category_name</th>\n",
       "    </tr>\n",
       "  </thead>\n",
       "  <tbody>\n",
       "    <tr>\n",
       "      <th>0</th>\n",
       "      <td>8N6Y3HsLXHBeFwhlO0YxwQ</td>\n",
       "      <td>Barrica 94</td>\n",
       "      <td>False</td>\n",
       "      <td>78</td>\n",
       "      <td>$$</td>\n",
       "      <td>4.3</td>\n",
       "      <td>988.63127</td>\n",
       "      <td>e1593acef03a0fd770595370586bc358</td>\n",
       "      <td>Wine Bars</td>\n",
       "    </tr>\n",
       "    <tr>\n",
       "      <th>1</th>\n",
       "      <td>8N6Y3HsLXHBeFwhlO0YxwQ</td>\n",
       "      <td>Barrica 94</td>\n",
       "      <td>False</td>\n",
       "      <td>78</td>\n",
       "      <td>$$</td>\n",
       "      <td>4.3</td>\n",
       "      <td>988.63127</td>\n",
       "      <td>e1593acef03a0fd770595370586bc358</td>\n",
       "      <td>Chilean</td>\n",
       "    </tr>\n",
       "    <tr>\n",
       "      <th>2</th>\n",
       "      <td>8N6Y3HsLXHBeFwhlO0YxwQ</td>\n",
       "      <td>Barrica 94</td>\n",
       "      <td>False</td>\n",
       "      <td>78</td>\n",
       "      <td>$$</td>\n",
       "      <td>4.3</td>\n",
       "      <td>988.63127</td>\n",
       "      <td>e1593acef03a0fd770595370586bc358</td>\n",
       "      <td>Cocktail Bars</td>\n",
       "    </tr>\n",
       "    <tr>\n",
       "      <th>3</th>\n",
       "      <td>8N6Y3HsLXHBeFwhlO0YxwQ</td>\n",
       "      <td>Barrica 94</td>\n",
       "      <td>False</td>\n",
       "      <td>78</td>\n",
       "      <td>$$</td>\n",
       "      <td>4.3</td>\n",
       "      <td>988.63127</td>\n",
       "      <td>e1593acef03a0fd770595370586bc358</td>\n",
       "      <td>Wine Bars</td>\n",
       "    </tr>\n",
       "    <tr>\n",
       "      <th>4</th>\n",
       "      <td>8N6Y3HsLXHBeFwhlO0YxwQ</td>\n",
       "      <td>Barrica 94</td>\n",
       "      <td>False</td>\n",
       "      <td>78</td>\n",
       "      <td>$$</td>\n",
       "      <td>4.3</td>\n",
       "      <td>988.63127</td>\n",
       "      <td>e1593acef03a0fd770595370586bc358</td>\n",
       "      <td>Chilean</td>\n",
       "    </tr>\n",
       "  </tbody>\n",
       "</table>\n",
       "</div>"
      ],
      "text/plain": [
       "                  yelp_id        name  is_closed  review_count price  rating  \\\n",
       "0  8N6Y3HsLXHBeFwhlO0YxwQ  Barrica 94      False            78    $$     4.3   \n",
       "1  8N6Y3HsLXHBeFwhlO0YxwQ  Barrica 94      False            78    $$     4.3   \n",
       "2  8N6Y3HsLXHBeFwhlO0YxwQ  Barrica 94      False            78    $$     4.3   \n",
       "3  8N6Y3HsLXHBeFwhlO0YxwQ  Barrica 94      False            78    $$     4.3   \n",
       "4  8N6Y3HsLXHBeFwhlO0YxwQ  Barrica 94      False            78    $$     4.3   \n",
       "\n",
       "    distance                        station_id  category_name  \n",
       "0  988.63127  e1593acef03a0fd770595370586bc358      Wine Bars  \n",
       "1  988.63127  e1593acef03a0fd770595370586bc358        Chilean  \n",
       "2  988.63127  e1593acef03a0fd770595370586bc358  Cocktail Bars  \n",
       "3  988.63127  e1593acef03a0fd770595370586bc358      Wine Bars  \n",
       "4  988.63127  e1593acef03a0fd770595370586bc358        Chilean  "
      ]
     },
     "execution_count": 9,
     "metadata": {},
     "output_type": "execute_result"
    }
   ],
   "source": [
    "df.head()"
   ]
  },
  {
   "cell_type": "code",
   "execution_count": 10,
   "metadata": {},
   "outputs": [
    {
     "data": {
      "text/html": [
       "<div>\n",
       "<style scoped>\n",
       "    .dataframe tbody tr th:only-of-type {\n",
       "        vertical-align: middle;\n",
       "    }\n",
       "\n",
       "    .dataframe tbody tr th {\n",
       "        vertical-align: top;\n",
       "    }\n",
       "\n",
       "    .dataframe thead th {\n",
       "        text-align: right;\n",
       "    }\n",
       "</style>\n",
       "<table border=\"1\" class=\"dataframe\">\n",
       "  <thead>\n",
       "    <tr style=\"text-align: right;\">\n",
       "      <th></th>\n",
       "      <th>yelp_id</th>\n",
       "      <th>name</th>\n",
       "      <th>rating</th>\n",
       "      <th>category_name</th>\n",
       "    </tr>\n",
       "  </thead>\n",
       "  <tbody>\n",
       "    <tr>\n",
       "      <th>149429</th>\n",
       "      <td>EMLA3tBKy51OLZsJGY9XRg</td>\n",
       "      <td>Bali</td>\n",
       "      <td>5.0</td>\n",
       "      <td>Restaurants</td>\n",
       "    </tr>\n",
       "    <tr>\n",
       "      <th>65911</th>\n",
       "      <td>ZQTc_KRY-pa3CBQ4RYWxQA</td>\n",
       "      <td>El Rincón de La Mamita</td>\n",
       "      <td>5.0</td>\n",
       "      <td>Restaurants</td>\n",
       "    </tr>\n",
       "    <tr>\n",
       "      <th>167322</th>\n",
       "      <td>wx0gWn20HrqqMC-3h-zgZA</td>\n",
       "      <td>Sephia Restaurant</td>\n",
       "      <td>5.0</td>\n",
       "      <td>Restaurants</td>\n",
       "    </tr>\n",
       "    <tr>\n",
       "      <th>166755</th>\n",
       "      <td>zH3XTbRBA9nKcys3rnRvlQ</td>\n",
       "      <td>San Fabián de Alico</td>\n",
       "      <td>5.0</td>\n",
       "      <td>Restaurants</td>\n",
       "    </tr>\n",
       "    <tr>\n",
       "      <th>151680</th>\n",
       "      <td>z4AdfxFG34VaV4VN0rS64A</td>\n",
       "      <td>Motosandwich</td>\n",
       "      <td>5.0</td>\n",
       "      <td>Restaurants</td>\n",
       "    </tr>\n",
       "    <tr>\n",
       "      <th>167787</th>\n",
       "      <td>7HFodlhCsXncIJ4EjVePeA</td>\n",
       "      <td>Casona 1910</td>\n",
       "      <td>5.0</td>\n",
       "      <td>Restaurants</td>\n",
       "    </tr>\n",
       "    <tr>\n",
       "      <th>70167</th>\n",
       "      <td>bZ7JwRITJZyEVvqAGqSDng</td>\n",
       "      <td>Chilenazo</td>\n",
       "      <td>4.5</td>\n",
       "      <td>Restaurants</td>\n",
       "    </tr>\n",
       "    <tr>\n",
       "      <th>60956</th>\n",
       "      <td>PCttKQ438Mita6oKIvxucQ</td>\n",
       "      <td>Walhalla</td>\n",
       "      <td>4.5</td>\n",
       "      <td>Restaurants</td>\n",
       "    </tr>\n",
       "    <tr>\n",
       "      <th>167604</th>\n",
       "      <td>QYYkfgJ2t7O2r8M1a15jrg</td>\n",
       "      <td>Cuper &amp; Co</td>\n",
       "      <td>4.5</td>\n",
       "      <td>Restaurants</td>\n",
       "    </tr>\n",
       "    <tr>\n",
       "      <th>167298</th>\n",
       "      <td>iVb-7H7pjmtDLP0viIiutQ</td>\n",
       "      <td>Ciro's</td>\n",
       "      <td>4.5</td>\n",
       "      <td>Restaurants</td>\n",
       "    </tr>\n",
       "  </tbody>\n",
       "</table>\n",
       "</div>"
      ],
      "text/plain": [
       "                       yelp_id                    name  rating category_name\n",
       "149429  EMLA3tBKy51OLZsJGY9XRg                    Bali     5.0   Restaurants\n",
       "65911   ZQTc_KRY-pa3CBQ4RYWxQA  El Rincón de La Mamita     5.0   Restaurants\n",
       "167322  wx0gWn20HrqqMC-3h-zgZA       Sephia Restaurant     5.0   Restaurants\n",
       "166755  zH3XTbRBA9nKcys3rnRvlQ     San Fabián de Alico     5.0   Restaurants\n",
       "151680  z4AdfxFG34VaV4VN0rS64A            Motosandwich     5.0   Restaurants\n",
       "167787  7HFodlhCsXncIJ4EjVePeA             Casona 1910     5.0   Restaurants\n",
       "70167   bZ7JwRITJZyEVvqAGqSDng               Chilenazo     4.5   Restaurants\n",
       "60956   PCttKQ438Mita6oKIvxucQ                Walhalla     4.5   Restaurants\n",
       "167604  QYYkfgJ2t7O2r8M1a15jrg              Cuper & Co     4.5   Restaurants\n",
       "167298  iVb-7H7pjmtDLP0viIiutQ                  Ciro's     4.5   Restaurants"
      ]
     },
     "execution_count": 10,
     "metadata": {},
     "output_type": "execute_result"
    }
   ],
   "source": [
    "df[df['category_name'].str.lower().str.find('restaurant') >= 0]\\\n",
    "    .loc[:, ['yelp_id', 'name', 'rating', 'category_name']]\\\n",
    "    .drop_duplicates()\\\n",
    "    .sort_values('rating', ascending=False)\\\n",
    "    .head(10)"
   ]
  },
  {
   "cell_type": "markdown",
   "metadata": {},
   "source": [
    "## Data Cleaning"
   ]
  },
  {
   "cell_type": "markdown",
   "metadata": {},
   "source": [
    "### Load Datasets"
   ]
  },
  {
   "cell_type": "markdown",
   "metadata": {},
   "source": [
    "For convenience, I include here the imports and data loading needed to make what follows self-contained. "
   ]
  },
  {
   "cell_type": "code",
   "execution_count": 117,
   "metadata": {},
   "outputs": [],
   "source": [
    "import matplotlib.pyplot as plt\n",
    "import numpy as np\n",
    "import pandas as pd\n",
    "import re\n",
    "\n",
    "from utils import export, get"
   ]
  },
  {
   "cell_type": "code",
   "execution_count": 12,
   "metadata": {},
   "outputs": [],
   "source": [
    "dirname = '../data/'\n",
    "stations_df = pd.read_csv(dirname + 'stations.csv', sep=',', index_col=False)\n",
    "yelp_places_df = pd.read_csv(dirname + 'yelp_places.csv', sep=',', index_col=False)\n",
    "yelp_categories_df = pd.read_csv(dirname + 'yelp_categories.csv', sep=',', index_col=False)"
   ]
  },
  {
   "cell_type": "markdown",
   "metadata": {},
   "source": [
    "I take the following steps to clean the collected data:\n",
    "  - remove irrelevant data\n",
    "  - remove duplicate data\n",
    "  - fix structural errors\n",
    "  - convert types\n",
    "  - handle missing data\n",
    "  - deal with outliers\n",
    "  - standardize/normalize data\n",
    "  - validate data\n",
    "  - encode data"
   ]
  },
  {
   "cell_type": "markdown",
   "metadata": {},
   "source": [
    "#### Remove irrelevant data"
   ]
  },
  {
   "cell_type": "markdown",
   "metadata": {},
   "source": [
    "Much of the process of removing irrelevant data was already handled during the data collection phase where I filtered out data from both CityBikes and Yelp that I didn't think would contribute to an interesting analysis. Printing out column lists for my DataFrames gives:"
   ]
  },
  {
   "cell_type": "code",
   "execution_count": 13,
   "metadata": {},
   "outputs": [
    {
     "name": "stdout",
     "output_type": "stream",
     "text": [
      "Index(['timestamp', 'station_id', 'name', 'latitude', 'longitude', 'altitude',\n",
      "       'slots', 'free_bikes', 'empty_slots', 'has_ebikes', 'ebikes',\n",
      "       'normal_bikes'],\n",
      "      dtype='object')\n",
      "Index(['yelp_id', 'name', 'is_closed', 'review_count', 'price', 'rating',\n",
      "       'distance', 'station_id'],\n",
      "      dtype='object')\n",
      "Index(['yelp_id', 'category_name'], dtype='object')\n"
     ]
    }
   ],
   "source": [
    "print(stations_df.columns)\n",
    "print(yelp_places_df.columns)\n",
    "print(yelp_categories_df.columns)"
   ]
  },
  {
   "cell_type": "markdown",
   "metadata": {},
   "source": [
    "As the data collected from CityBikes represents a snapshot in time, I'll drop the timestamp column for this particular analysis."
   ]
  },
  {
   "cell_type": "code",
   "execution_count": 14,
   "metadata": {},
   "outputs": [],
   "source": [
    "stations_df.drop('timestamp', axis='columns', inplace=True)"
   ]
  },
  {
   "cell_type": "markdown",
   "metadata": {},
   "source": [
    "#### Remove duplicated data"
   ]
  },
  {
   "cell_type": "code",
   "execution_count": 15,
   "metadata": {},
   "outputs": [
    {
     "name": "stdout",
     "output_type": "stream",
     "text": [
      "(230, 11)\n",
      "(230, 11)\n"
     ]
    }
   ],
   "source": [
    "print(stations_df.shape)\n",
    "stations_df.drop_duplicates(inplace=True)\n",
    "print(stations_df.shape)"
   ]
  },
  {
   "cell_type": "code",
   "execution_count": 16,
   "metadata": {},
   "outputs": [
    {
     "name": "stdout",
     "output_type": "stream",
     "text": [
      "(10366, 8)\n",
      "(10366, 8)\n"
     ]
    }
   ],
   "source": [
    "print(yelp_places_df.shape)\n",
    "yelp_places_df.drop_duplicates(inplace=True)\n",
    "print(yelp_places_df.shape)"
   ]
  },
  {
   "cell_type": "code",
   "execution_count": 17,
   "metadata": {},
   "outputs": [
    {
     "name": "stdout",
     "output_type": "stream",
     "text": [
      "(15181, 2)\n",
      "(2480, 2)\n"
     ]
    }
   ],
   "source": [
    "print(yelp_categories_df.shape)\n",
    "yelp_categories_df.drop_duplicates(inplace=True)\n",
    "print(yelp_categories_df.shape)"
   ]
  },
  {
   "cell_type": "markdown",
   "metadata": {},
   "source": [
    "From the above before and after DataFrame shapes, there was no duplication in stations_df and yelp_places_df, but there was considerable duplication in yelp_categories_df. This is to be expected as a given business could, of course, be within 1 km of more than one bike station. Such businesses would generate more than one corresponding entry in yelp_categories_df."
   ]
  },
  {
   "cell_type": "markdown",
   "metadata": {},
   "source": [
    "#### Convert types"
   ]
  },
  {
   "cell_type": "markdown",
   "metadata": {},
   "source": [
    "Checking the dtypes of all columns of all DataFrames:"
   ]
  },
  {
   "cell_type": "code",
   "execution_count": 18,
   "metadata": {},
   "outputs": [
    {
     "data": {
      "text/plain": [
       "station_id       object\n",
       "name             object\n",
       "latitude        float64\n",
       "longitude       float64\n",
       "altitude        float64\n",
       "slots             int64\n",
       "free_bikes        int64\n",
       "empty_slots       int64\n",
       "has_ebikes         bool\n",
       "ebikes            int64\n",
       "normal_bikes      int64\n",
       "dtype: object"
      ]
     },
     "execution_count": 18,
     "metadata": {},
     "output_type": "execute_result"
    }
   ],
   "source": [
    "stations_df.dtypes"
   ]
  },
  {
   "cell_type": "code",
   "execution_count": 19,
   "metadata": {},
   "outputs": [
    {
     "data": {
      "text/plain": [
       "yelp_id          object\n",
       "name             object\n",
       "is_closed          bool\n",
       "review_count      int64\n",
       "price            object\n",
       "rating          float64\n",
       "distance        float64\n",
       "station_id       object\n",
       "dtype: object"
      ]
     },
     "execution_count": 19,
     "metadata": {},
     "output_type": "execute_result"
    }
   ],
   "source": [
    "yelp_places_df.dtypes"
   ]
  },
  {
   "cell_type": "code",
   "execution_count": 20,
   "metadata": {},
   "outputs": [
    {
     "data": {
      "text/plain": [
       "yelp_id          object\n",
       "category_name    object\n",
       "dtype: object"
      ]
     },
     "execution_count": 20,
     "metadata": {},
     "output_type": "execute_result"
    }
   ],
   "source": [
    "yelp_categories_df.dtypes"
   ]
  },
  {
   "cell_type": "markdown",
   "metadata": {},
   "source": [
    "I conclude that all dtypes are appropriate. No conversions are needed."
   ]
  },
  {
   "cell_type": "markdown",
   "metadata": {},
   "source": [
    "#### Fix structural errors"
   ]
  },
  {
   "cell_type": "markdown",
   "metadata": {},
   "source": [
    "In this cleaning step, I searched my three DataFrames for strange naming conventions, obvious typos, or inconsistencies in capitalization."
   ]
  },
  {
   "cell_type": "code",
   "execution_count": 21,
   "metadata": {},
   "outputs": [
    {
     "data": {
      "text/html": [
       "<div>\n",
       "<style scoped>\n",
       "    .dataframe tbody tr th:only-of-type {\n",
       "        vertical-align: middle;\n",
       "    }\n",
       "\n",
       "    .dataframe tbody tr th {\n",
       "        vertical-align: top;\n",
       "    }\n",
       "\n",
       "    .dataframe thead th {\n",
       "        text-align: right;\n",
       "    }\n",
       "</style>\n",
       "<table border=\"1\" class=\"dataframe\">\n",
       "  <thead>\n",
       "    <tr style=\"text-align: right;\">\n",
       "      <th></th>\n",
       "      <th>station_id</th>\n",
       "      <th>name</th>\n",
       "      <th>latitude</th>\n",
       "      <th>longitude</th>\n",
       "      <th>altitude</th>\n",
       "      <th>slots</th>\n",
       "      <th>free_bikes</th>\n",
       "      <th>empty_slots</th>\n",
       "      <th>has_ebikes</th>\n",
       "      <th>ebikes</th>\n",
       "      <th>normal_bikes</th>\n",
       "    </tr>\n",
       "  </thead>\n",
       "  <tbody>\n",
       "    <tr>\n",
       "      <th>128</th>\n",
       "      <td>abc5c56a2aa51a6541cfb03b17dd3aee</td>\n",
       "      <td>LC025 - Noruega</td>\n",
       "      <td>-33.402891</td>\n",
       "      <td>-70.562093</td>\n",
       "      <td>0.0</td>\n",
       "      <td>11</td>\n",
       "      <td>5</td>\n",
       "      <td>6</td>\n",
       "      <td>True</td>\n",
       "      <td>0</td>\n",
       "      <td>5</td>\n",
       "    </tr>\n",
       "    <tr>\n",
       "      <th>27</th>\n",
       "      <td>78fc95854f6c1643f5902b7cfc3e4d3a</td>\n",
       "      <td>P46 - Román Díaz</td>\n",
       "      <td>-33.433680</td>\n",
       "      <td>-70.620823</td>\n",
       "      <td>0.0</td>\n",
       "      <td>11</td>\n",
       "      <td>8</td>\n",
       "      <td>3</td>\n",
       "      <td>True</td>\n",
       "      <td>0</td>\n",
       "      <td>8</td>\n",
       "    </tr>\n",
       "    <tr>\n",
       "      <th>200</th>\n",
       "      <td>c560ed81fd684e176abe8fb531882b64</td>\n",
       "      <td>S27 - Teatinos / Huérfanos</td>\n",
       "      <td>-33.439790</td>\n",
       "      <td>-70.655155</td>\n",
       "      <td>0.0</td>\n",
       "      <td>17</td>\n",
       "      <td>6</td>\n",
       "      <td>11</td>\n",
       "      <td>True</td>\n",
       "      <td>0</td>\n",
       "      <td>6</td>\n",
       "    </tr>\n",
       "    <tr>\n",
       "      <th>124</th>\n",
       "      <td>bde0622e2e2c885c602ddc359b7115ee</td>\n",
       "      <td>LC036 - Las Condes / Valle Alegre</td>\n",
       "      <td>-33.378284</td>\n",
       "      <td>-70.528372</td>\n",
       "      <td>0.0</td>\n",
       "      <td>11</td>\n",
       "      <td>6</td>\n",
       "      <td>5</td>\n",
       "      <td>True</td>\n",
       "      <td>0</td>\n",
       "      <td>6</td>\n",
       "    </tr>\n",
       "    <tr>\n",
       "      <th>154</th>\n",
       "      <td>054305243a7de00167a98a4c5a5e380a</td>\n",
       "      <td>P30 - Lo Contador</td>\n",
       "      <td>-33.420188</td>\n",
       "      <td>-70.618145</td>\n",
       "      <td>0.0</td>\n",
       "      <td>23</td>\n",
       "      <td>6</td>\n",
       "      <td>17</td>\n",
       "      <td>True</td>\n",
       "      <td>0</td>\n",
       "      <td>6</td>\n",
       "    </tr>\n",
       "  </tbody>\n",
       "</table>\n",
       "</div>"
      ],
      "text/plain": [
       "                           station_id                               name  \\\n",
       "128  abc5c56a2aa51a6541cfb03b17dd3aee                    LC025 - Noruega   \n",
       "27   78fc95854f6c1643f5902b7cfc3e4d3a                   P46 - Román Díaz   \n",
       "200  c560ed81fd684e176abe8fb531882b64         S27 - Teatinos / Huérfanos   \n",
       "124  bde0622e2e2c885c602ddc359b7115ee  LC036 - Las Condes / Valle Alegre   \n",
       "154  054305243a7de00167a98a4c5a5e380a                  P30 - Lo Contador   \n",
       "\n",
       "      latitude  longitude  altitude  slots  free_bikes  empty_slots  \\\n",
       "128 -33.402891 -70.562093       0.0     11           5            6   \n",
       "27  -33.433680 -70.620823       0.0     11           8            3   \n",
       "200 -33.439790 -70.655155       0.0     17           6           11   \n",
       "124 -33.378284 -70.528372       0.0     11           6            5   \n",
       "154 -33.420188 -70.618145       0.0     23           6           17   \n",
       "\n",
       "     has_ebikes  ebikes  normal_bikes  \n",
       "128        True       0             5  \n",
       "27         True       0             8  \n",
       "200        True       0             6  \n",
       "124        True       0             6  \n",
       "154        True       0             6  "
      ]
     },
     "execution_count": 21,
     "metadata": {},
     "output_type": "execute_result"
    }
   ],
   "source": [
    "stations_df.sample(5)"
   ]
  },
  {
   "cell_type": "code",
   "execution_count": 22,
   "metadata": {},
   "outputs": [
    {
     "data": {
      "text/html": [
       "<div>\n",
       "<style scoped>\n",
       "    .dataframe tbody tr th:only-of-type {\n",
       "        vertical-align: middle;\n",
       "    }\n",
       "\n",
       "    .dataframe tbody tr th {\n",
       "        vertical-align: top;\n",
       "    }\n",
       "\n",
       "    .dataframe thead th {\n",
       "        text-align: right;\n",
       "    }\n",
       "</style>\n",
       "<table border=\"1\" class=\"dataframe\">\n",
       "  <thead>\n",
       "    <tr style=\"text-align: right;\">\n",
       "      <th></th>\n",
       "      <th>yelp_id</th>\n",
       "      <th>name</th>\n",
       "      <th>is_closed</th>\n",
       "      <th>review_count</th>\n",
       "      <th>price</th>\n",
       "      <th>rating</th>\n",
       "      <th>distance</th>\n",
       "      <th>station_id</th>\n",
       "    </tr>\n",
       "  </thead>\n",
       "  <tbody>\n",
       "    <tr>\n",
       "      <th>9241</th>\n",
       "      <td>z7K-cO48n1IYYbwTq7D6FQ</td>\n",
       "      <td>Soler</td>\n",
       "      <td>False</td>\n",
       "      <td>3</td>\n",
       "      <td>$$</td>\n",
       "      <td>4.0</td>\n",
       "      <td>597.843036</td>\n",
       "      <td>18538b14344aae003e57364b0d41f384</td>\n",
       "    </tr>\n",
       "    <tr>\n",
       "      <th>6019</th>\n",
       "      <td>D7aZ9ZGpnyObEawvMsXi_A</td>\n",
       "      <td>Liguria</td>\n",
       "      <td>False</td>\n",
       "      <td>29</td>\n",
       "      <td>$$</td>\n",
       "      <td>4.1</td>\n",
       "      <td>628.930394</td>\n",
       "      <td>241752702561661929a628a382ab6011</td>\n",
       "    </tr>\n",
       "    <tr>\n",
       "      <th>9262</th>\n",
       "      <td>09XfKLTkHeukEBknM8B_dA</td>\n",
       "      <td>Madam Tusan</td>\n",
       "      <td>False</td>\n",
       "      <td>15</td>\n",
       "      <td>$$</td>\n",
       "      <td>4.3</td>\n",
       "      <td>804.218372</td>\n",
       "      <td>06710a31e4139e53ba764baa9945e0d1</td>\n",
       "    </tr>\n",
       "    <tr>\n",
       "      <th>5634</th>\n",
       "      <td>ahdYi1-EETGEQjRGY9NcVg</td>\n",
       "      <td>Statuos quo bar</td>\n",
       "      <td>False</td>\n",
       "      <td>1</td>\n",
       "      <td>$$</td>\n",
       "      <td>5.0</td>\n",
       "      <td>601.009476</td>\n",
       "      <td>83445c6eb45e197f6fa40f9446ae0dcc</td>\n",
       "    </tr>\n",
       "    <tr>\n",
       "      <th>1139</th>\n",
       "      <td>t_k3q-ab51FLZ7TeIAGXHQ</td>\n",
       "      <td>El Rápido</td>\n",
       "      <td>False</td>\n",
       "      <td>14</td>\n",
       "      <td>$</td>\n",
       "      <td>4.1</td>\n",
       "      <td>710.044668</td>\n",
       "      <td>61e752fc3dc6b09e9de81044c5d46877</td>\n",
       "    </tr>\n",
       "  </tbody>\n",
       "</table>\n",
       "</div>"
      ],
      "text/plain": [
       "                     yelp_id             name  is_closed  review_count price  \\\n",
       "9241  z7K-cO48n1IYYbwTq7D6FQ            Soler      False             3    $$   \n",
       "6019  D7aZ9ZGpnyObEawvMsXi_A          Liguria      False            29    $$   \n",
       "9262  09XfKLTkHeukEBknM8B_dA      Madam Tusan      False            15    $$   \n",
       "5634  ahdYi1-EETGEQjRGY9NcVg  Statuos quo bar      False             1    $$   \n",
       "1139  t_k3q-ab51FLZ7TeIAGXHQ        El Rápido      False            14     $   \n",
       "\n",
       "      rating    distance                        station_id  \n",
       "9241     4.0  597.843036  18538b14344aae003e57364b0d41f384  \n",
       "6019     4.1  628.930394  241752702561661929a628a382ab6011  \n",
       "9262     4.3  804.218372  06710a31e4139e53ba764baa9945e0d1  \n",
       "5634     5.0  601.009476  83445c6eb45e197f6fa40f9446ae0dcc  \n",
       "1139     4.1  710.044668  61e752fc3dc6b09e9de81044c5d46877  "
      ]
     },
     "execution_count": 22,
     "metadata": {},
     "output_type": "execute_result"
    }
   ],
   "source": [
    "yelp_places_df.sample(5)"
   ]
  },
  {
   "cell_type": "code",
   "execution_count": 23,
   "metadata": {},
   "outputs": [
    {
     "data": {
      "text/html": [
       "<div>\n",
       "<style scoped>\n",
       "    .dataframe tbody tr th:only-of-type {\n",
       "        vertical-align: middle;\n",
       "    }\n",
       "\n",
       "    .dataframe tbody tr th {\n",
       "        vertical-align: top;\n",
       "    }\n",
       "\n",
       "    .dataframe thead th {\n",
       "        text-align: right;\n",
       "    }\n",
       "</style>\n",
       "<table border=\"1\" class=\"dataframe\">\n",
       "  <thead>\n",
       "    <tr style=\"text-align: right;\">\n",
       "      <th></th>\n",
       "      <th>yelp_id</th>\n",
       "      <th>category_name</th>\n",
       "    </tr>\n",
       "  </thead>\n",
       "  <tbody>\n",
       "    <tr>\n",
       "      <th>4293</th>\n",
       "      <td>A2_HFPnKq_rqyYz-oh51UA</td>\n",
       "      <td>Landmarks &amp; Historical Buildings</td>\n",
       "    </tr>\n",
       "    <tr>\n",
       "      <th>146</th>\n",
       "      <td>0hDz3AfRgQBNLVbmb-jXZw</td>\n",
       "      <td>Cocktail Bars</td>\n",
       "    </tr>\n",
       "    <tr>\n",
       "      <th>9530</th>\n",
       "      <td>aZVvgHJWYzQWyS3IrmCccQ</td>\n",
       "      <td>Peruvian</td>\n",
       "    </tr>\n",
       "    <tr>\n",
       "      <th>12915</th>\n",
       "      <td>OfBqoZEcJ19juckp1scVBw</td>\n",
       "      <td>Coffee &amp; Tea</td>\n",
       "    </tr>\n",
       "    <tr>\n",
       "      <th>5189</th>\n",
       "      <td>TMjTvn1SjTokSfXOkyrrCQ</td>\n",
       "      <td>Mediterranean</td>\n",
       "    </tr>\n",
       "  </tbody>\n",
       "</table>\n",
       "</div>"
      ],
      "text/plain": [
       "                      yelp_id                     category_name\n",
       "4293   A2_HFPnKq_rqyYz-oh51UA  Landmarks & Historical Buildings\n",
       "146    0hDz3AfRgQBNLVbmb-jXZw                     Cocktail Bars\n",
       "9530   aZVvgHJWYzQWyS3IrmCccQ                          Peruvian\n",
       "12915  OfBqoZEcJ19juckp1scVBw                      Coffee & Tea\n",
       "5189   TMjTvn1SjTokSfXOkyrrCQ                     Mediterranean"
      ]
     },
     "execution_count": 23,
     "metadata": {},
     "output_type": "execute_result"
    }
   ],
   "source": [
    "yelp_categories_df.sample(5)"
   ]
  },
  {
   "cell_type": "markdown",
   "metadata": {},
   "source": [
    "The only potential issue I see is the category_name column from yelp_categories. I anticipate performing aggregations on this column. Given that the column entries are strings, it is a good idea to ensure that they all have a common format. I'll convert them all to lower case and trim leading and/or trailing white space. Also, I'll replace all internal white space by a single space character."
   ]
  },
  {
   "cell_type": "code",
   "execution_count": 29,
   "metadata": {},
   "outputs": [],
   "source": [
    "def trim_ws_and_lower(s: str) -> str:\n",
    "    \"\"\"\n",
    "    Return a lower case, whitespace-trimmed version of s.\n",
    "    \n",
    "    Usage examples:\n",
    "    >>> trim_ws_and_lower('  SoMe    wordS  ')\n",
    "    'some words'\n",
    "    \"\"\"\n",
    "    return re.sub(r'\\s+', ' ', s.lower().strip())"
   ]
  },
  {
   "cell_type": "code",
   "execution_count": 30,
   "metadata": {},
   "outputs": [],
   "source": [
    "yelp_categories_df['category_name'] =\\\n",
    "    yelp_categories_df['category_name'].apply(lower_and_strip)"
   ]
  },
  {
   "cell_type": "markdown",
   "metadata": {},
   "source": [
    "#### Handle missing data"
   ]
  },
  {
   "cell_type": "markdown",
   "metadata": {},
   "source": [
    "I'll check to see which columns of my DataFrames have missing (or NA) values."
   ]
  },
  {
   "cell_type": "code",
   "execution_count": 32,
   "metadata": {},
   "outputs": [],
   "source": [
    "def pct_missing(df: pd.DataFrame, axis: int) -> pd.Series:\n",
    "    \"\"\"\n",
    "    Return a Series of numbers of missing values as percentages.\n",
    "\n",
    "    :param df: a DataFrame to check for missing values\n",
    "    :type df: DataFrame\n",
    "\n",
    "    :param axis: 0 for column means, 1 for row means\n",
    "    :type axis: int\n",
    "\n",
    "    :return: a Series of numbers of missing values as percentages\n",
    "    :rtype: Series\n",
    "    \"\"\"\n",
    "    return 100 * df.isna().sum(axis=axis) / df.shape[axis]"
   ]
  },
  {
   "cell_type": "code",
   "execution_count": 33,
   "metadata": {},
   "outputs": [
    {
     "data": {
      "text/plain": [
       "station_id      0.0\n",
       "name            0.0\n",
       "latitude        0.0\n",
       "longitude       0.0\n",
       "altitude        0.0\n",
       "slots           0.0\n",
       "free_bikes      0.0\n",
       "empty_slots     0.0\n",
       "has_ebikes      0.0\n",
       "ebikes          0.0\n",
       "normal_bikes    0.0\n",
       "dtype: float64"
      ]
     },
     "execution_count": 33,
     "metadata": {},
     "output_type": "execute_result"
    }
   ],
   "source": [
    "pct_missing(stations_df, 0)"
   ]
  },
  {
   "cell_type": "code",
   "execution_count": 34,
   "metadata": {},
   "outputs": [
    {
     "data": {
      "text/plain": [
       "yelp_id          0.000000\n",
       "name             0.000000\n",
       "is_closed        0.000000\n",
       "review_count     0.000000\n",
       "price           32.404013\n",
       "rating           0.000000\n",
       "distance         0.000000\n",
       "station_id       0.000000\n",
       "dtype: float64"
      ]
     },
     "execution_count": 34,
     "metadata": {},
     "output_type": "execute_result"
    }
   ],
   "source": [
    "pct_missing(yelp_places_df, 0)"
   ]
  },
  {
   "cell_type": "code",
   "execution_count": 35,
   "metadata": {},
   "outputs": [
    {
     "data": {
      "text/plain": [
       "yelp_id          0.0\n",
       "category_name    0.0\n",
       "dtype: float64"
      ]
     },
     "execution_count": 35,
     "metadata": {},
     "output_type": "execute_result"
    }
   ],
   "source": [
    "pct_missing(yelp_categories_df, 0)"
   ]
  },
  {
   "cell_type": "markdown",
   "metadata": {},
   "source": [
    "I conclude that the only column with missing values is prices of `yelp_places_df`: 32.4% of its entries are missing. I have no way of filling in this missing data. In analyses that take price into account, I will omit the corresponding rows where price is missing and work with a reduced data set."
   ]
  },
  {
   "cell_type": "markdown",
   "metadata": {},
   "source": [
    "### Deal with outliers"
   ]
  },
  {
   "attachments": {},
   "cell_type": "markdown",
   "metadata": {},
   "source": [
    "At this stage, I am interested in detecting and removing outliers that are **indicative of data entry or measurement errors.** \n",
    "\n",
    "To start, I'll generate an appropriate unary visualization or tabulation for the columns of my DataFrames in order to detect outliers and other problems with the data. Second, I'll develop a plan for data cleaning. Third, I'll execute the data-cleaning plan."
   ]
  },
  {
   "cell_type": "markdown",
   "metadata": {},
   "source": [
    "##### stations_df"
   ]
  },
  {
   "cell_type": "code",
   "execution_count": 36,
   "metadata": {},
   "outputs": [
    {
     "data": {
      "text/plain": [
       "Index(['station_id', 'name', 'latitude', 'longitude', 'altitude', 'slots',\n",
       "       'free_bikes', 'empty_slots', 'has_ebikes', 'ebikes', 'normal_bikes'],\n",
       "      dtype='object')"
      ]
     },
     "execution_count": 36,
     "metadata": {},
     "output_type": "execute_result"
    }
   ],
   "source": [
    "stations_df.columns"
   ]
  },
  {
   "cell_type": "code",
   "execution_count": 55,
   "metadata": {},
   "outputs": [
    {
     "data": {
      "image/png": "[encoded data removed]",
      "text/plain": [
       "<Figure size 600x400 with 3 Axes>"
      ]
     },
     "metadata": {},
     "output_type": "display_data"
    }
   ],
   "source": [
    "fig, axes = plt.subplots(nrows=1, ncols=3, figsize=(6, 4))\n",
    "stations_df['latitude'].plot.box(ax=axes[0])\n",
    "stations_df['longitude'].plot.box(ax=axes[1])\n",
    "stations_df['altitude'].plot.box(ax=axes[2])\n",
    "fig.tight_layout()"
   ]
  },
  {
   "cell_type": "code",
   "execution_count": 71,
   "metadata": {},
   "outputs": [
    {
     "data": {
      "text/plain": [
       "altitude\n",
       "0.0    230\n",
       "Name: count, dtype: int64"
      ]
     },
     "execution_count": 71,
     "metadata": {},
     "output_type": "execute_result"
    }
   ],
   "source": [
    "stations_df['altitude'].value_counts()"
   ]
  },
  {
   "cell_type": "code",
   "execution_count": 56,
   "metadata": {},
   "outputs": [
    {
     "data": {
      "text/plain": [
       "<Axes: >"
      ]
     },
     "execution_count": 56,
     "metadata": {},
     "output_type": "execute_result"
    },
    {
     "data": {
      "image/png": "[encoded data removed]",
      "text/plain": [
       "<Figure size 640x480 with 1 Axes>"
      ]
     },
     "metadata": {},
     "output_type": "display_data"
    }
   ],
   "source": [
    "cols = ['slots', 'free_bikes', 'empty_slots', 'ebikes', 'normal_bikes']\n",
    "stations_df[cols].plot.box()"
   ]
  },
  {
   "cell_type": "code",
   "execution_count": 82,
   "metadata": {},
   "outputs": [
    {
     "data": {
      "text/plain": [
       "ebikes\n",
       "0    230\n",
       "Name: count, dtype: int64"
      ]
     },
     "execution_count": 82,
     "metadata": {},
     "output_type": "execute_result"
    }
   ],
   "source": [
    "stations_df['ebikes'].value_counts()"
   ]
  },
  {
   "cell_type": "code",
   "execution_count": 84,
   "metadata": {},
   "outputs": [
    {
     "data": {
      "text/plain": [
       "True    230\n",
       "Name: count, dtype: int64"
      ]
     },
     "execution_count": 84,
     "metadata": {},
     "output_type": "execute_result"
    }
   ],
   "source": [
    "(stations_df['free_bikes'] - stations_df['normal_bikes'] == 0)\\\n",
    "    .value_counts()"
   ]
  },
  {
   "cell_type": "code",
   "execution_count": 86,
   "metadata": {},
   "outputs": [
    {
     "data": {
      "text/plain": [
       "has_ebikes\n",
       "True    230\n",
       "Name: count, dtype: int64"
      ]
     },
     "execution_count": 86,
     "metadata": {},
     "output_type": "execute_result"
    }
   ],
   "source": [
    "stations_df['has_ebikes'].value_counts()"
   ]
  },
  {
   "cell_type": "markdown",
   "metadata": {},
   "source": [
    "##### yelp_places_df"
   ]
  },
  {
   "cell_type": "code",
   "execution_count": 64,
   "metadata": {},
   "outputs": [
    {
     "data": {
      "text/plain": [
       "Index(['yelp_id', 'name', 'is_closed', 'review_count', 'price', 'rating',\n",
       "       'distance', 'station_id'],\n",
       "      dtype='object')"
      ]
     },
     "execution_count": 64,
     "metadata": {},
     "output_type": "execute_result"
    }
   ],
   "source": [
    "yelp_places_df.columns"
   ]
  },
  {
   "cell_type": "code",
   "execution_count": 87,
   "metadata": {},
   "outputs": [
    {
     "data": {
      "text/plain": [
       "is_closed\n",
       "False    10366\n",
       "Name: count, dtype: int64"
      ]
     },
     "execution_count": 87,
     "metadata": {},
     "output_type": "execute_result"
    }
   ],
   "source": [
    "yelp_places_df['is_closed'].value_counts()"
   ]
  },
  {
   "cell_type": "code",
   "execution_count": 89,
   "metadata": {},
   "outputs": [
    {
     "data": {
      "image/png": "[encoded data removed]",
      "text/plain": [
       "<Figure size 600x400 with 3 Axes>"
      ]
     },
     "metadata": {},
     "output_type": "display_data"
    }
   ],
   "source": [
    "fig, axes = plt.subplots(nrows=1, ncols=3, figsize=(6, 4))\n",
    "yelp_places_df['review_count'].plot.box(ax=axes[0])\n",
    "yelp_places_df['rating'].plot.box(ax=axes[1])\n",
    "yelp_places_df['distance'].plot.box(ax=axes[2])\n",
    "fig.tight_layout()"
   ]
  },
  {
   "cell_type": "code",
   "execution_count": 96,
   "metadata": {},
   "outputs": [
    {
     "data": {
      "text/plain": [
       "price\n",
       "$$      4174\n",
       "$$$     1473\n",
       "$        941\n",
       "$$$$     419\n",
       "Name: count, dtype: int64"
      ]
     },
     "execution_count": 96,
     "metadata": {},
     "output_type": "execute_result"
    }
   ],
   "source": [
    "yelp_places_df['price'].value_counts()"
   ]
  },
  {
   "cell_type": "markdown",
   "metadata": {},
   "source": [
    "##### yelp_categories_df"
   ]
  },
  {
   "cell_type": "code",
   "execution_count": 61,
   "metadata": {},
   "outputs": [
    {
     "data": {
      "text/plain": [
       "Index(['yelp_id', 'category_name'], dtype='object')"
      ]
     },
     "execution_count": 61,
     "metadata": {},
     "output_type": "execute_result"
    }
   ],
   "source": [
    "yelp_categories_df.columns"
   ]
  },
  {
   "cell_type": "code",
   "execution_count": 63,
   "metadata": {},
   "outputs": [
    {
     "data": {
      "text/plain": [
       "153"
      ]
     },
     "execution_count": 63,
     "metadata": {},
     "output_type": "execute_result"
    }
   ],
   "source": [
    "yelp_categories_df['category_name'].nunique()"
   ]
  },
  {
   "cell_type": "markdown",
   "metadata": {},
   "source": [
    "#### Data cleaning plan"
   ]
  },
  {
   "cell_type": "markdown",
   "metadata": {},
   "source": [
    "From the above visualizations, I see that:\n",
    "- There are two potential outliers in `stations_df['latitude']`. However, there's no reason to think that the corresponsing values are incorrect.\n",
    "- The data in `stations_df['altitude']` are all zeroes which is incorrect. **I'll try to fill in this data from another source.**\n",
    "- The entries in `stations['ebikes']` are all 0. If this is correct, it's uninteresting; if it's incorrect, I have no way of fixing it. **I'll delete this column.**\n",
    "- Similarly, the `stations['has_ebikes']` column entries are all True. This is either correct but boring or incorrect and unfixable. **I'll delete this column.**\n",
    "- The `stations_df['normal_bikes']` column is a duplicate of `stations_df['free_bikes']`. **I'll delete `stations['normal_bikes']`.**\n",
    "- There are outliers in `stations_df['slots']`, `stations_df['free_bikes']`, and `stations_df['empty_slots']`. However, there's no reason to suspect that the corresponding values are errors. There just happen to be a handful of relatively large bike stations in Santiago.\n",
    "- The `yelp_places_df['is_closed']` column entries are all False, unsurprising as the data was collected in early afternoon. **I'll delete this column.**\n",
    "- There are several outliers in `yelp_places_df['review_count']` and `yelp_places_df['rating']`. But, again, nothing about the corresponding entries suggests that they are data entry mistakes. Regardless, I'll handle these outliers at a later point in the analysis.\n",
    "- Give that I set the radius in my Yelp Businesses Search to 1000 m, it is interesting to see return value of up to 1400 m!"
   ]
  },
  {
   "cell_type": "code",
   "execution_count": 98,
   "metadata": {},
   "outputs": [
    {
     "data": {
      "text/plain": [
       "Index(['station_id', 'name', 'latitude', 'longitude', 'altitude', 'slots',\n",
       "       'free_bikes', 'empty_slots'],\n",
       "      dtype='object')"
      ]
     },
     "execution_count": 98,
     "metadata": {},
     "output_type": "execute_result"
    }
   ],
   "source": [
    "stations_df.drop(['ebikes', 'has_ebikes', 'normal_bikes'], axis='columns', inplace=True)\n",
    "stations_df.columns"
   ]
  },
  {
   "cell_type": "code",
   "execution_count": 101,
   "metadata": {},
   "outputs": [
    {
     "data": {
      "text/plain": [
       "Index(['yelp_id', 'name', 'review_count', 'price', 'rating', 'distance',\n",
       "       'station_id'],\n",
       "      dtype='object')"
      ]
     },
     "execution_count": 101,
     "metadata": {},
     "output_type": "execute_result"
    }
   ],
   "source": [
    "yelp_places_df.drop('is_closed', axis='columns', inplace=True)\n",
    "yelp_places_df.columns"
   ]
  },
  {
   "cell_type": "markdown",
   "metadata": {},
   "source": [
    "Finally, I attempt to fill in `stations_df['altitude']` using responses from an elevation API at `'https://https://api.open-elevation.com/api/v1/lookup'`."
   ]
  },
  {
   "cell_type": "code",
   "execution_count": 125,
   "metadata": {},
   "outputs": [],
   "source": [
    "def get_altitude(latitude: float, longitude: float) -> float:\n",
    "    \"\"\"\n",
    "    Return the altitude (in m) corresponding to a (latitude, longitude) pair.\n",
    "\n",
    "    Usage examples:\n",
    "    >>> get_altitude(-33.428334, -70.627312)\n",
    "    599.0\n",
    "    \"\"\"\n",
    "    url = 'https://api.open-elevation.com/api/v1/lookup'\n",
    "    params = {'locations': f'{latitude}, {longitude}'}\n",
    "    headers = {'accept': 'application/json'}\n",
    "\n",
    "    response = get(url=url, params=params, headers=headers)\n",
    "\n",
    "    if response is None:\n",
    "        return np.nan\n",
    "\n",
    "    return response.json()['results'][0]['elevation']"
   ]
  },
  {
   "cell_type": "code",
   "execution_count": 119,
   "metadata": {},
   "outputs": [],
   "source": [
    "altitudes = []\n",
    "for row in range(stations_df.shape[0]):\n",
    "    lat_long = stations_df.loc[row, ['latitude', 'longitude']].to_list()\n",
    "    altitudes.append(get_altitude(*lat_long))\n",
    "altitudes_ser = pd.Series(altitudes, index=stations_df.index)"
   ]
  },
  {
   "cell_type": "code",
   "execution_count": 134,
   "metadata": {},
   "outputs": [
    {
     "data": {
      "text/plain": [
       "<Axes: >"
      ]
     },
     "execution_count": 134,
     "metadata": {},
     "output_type": "execute_result"
    },
    {
     "data": {
      "image/png": "[encoded data removed]",
      "text/plain": [
       "<Figure size 640x480 with 1 Axes>"
      ]
     },
     "metadata": {},
     "output_type": "display_data"
    }
   ],
   "source": [
    "altitudes_ser.plot.box()"
   ]
  },
  {
   "cell_type": "markdown",
   "metadata": {},
   "source": [
    "The altitude results look reasonable. Again, there are outliers in the data, but there is no reason to suspect that they represent incorrect values. As such, I'll replace the current `stations_df['altitude']` with the Series constructude just above."
   ]
  },
  {
   "cell_type": "code",
   "execution_count": 143,
   "metadata": {},
   "outputs": [
    {
     "data": {
      "text/html": [
       "<div>\n",
       "<style scoped>\n",
       "    .dataframe tbody tr th:only-of-type {\n",
       "        vertical-align: middle;\n",
       "    }\n",
       "\n",
       "    .dataframe tbody tr th {\n",
       "        vertical-align: top;\n",
       "    }\n",
       "\n",
       "    .dataframe thead th {\n",
       "        text-align: right;\n",
       "    }\n",
       "</style>\n",
       "<table border=\"1\" class=\"dataframe\">\n",
       "  <thead>\n",
       "    <tr style=\"text-align: right;\">\n",
       "      <th></th>\n",
       "      <th>station_id</th>\n",
       "      <th>name</th>\n",
       "      <th>latitude</th>\n",
       "      <th>longitude</th>\n",
       "      <th>altitude</th>\n",
       "      <th>slots</th>\n",
       "      <th>free_bikes</th>\n",
       "      <th>empty_slots</th>\n",
       "    </tr>\n",
       "  </thead>\n",
       "  <tbody>\n",
       "    <tr>\n",
       "      <th>0</th>\n",
       "      <td>e1593acef03a0fd770595370586bc358</td>\n",
       "      <td>P31 - Estación Canal 13</td>\n",
       "      <td>-33.428334</td>\n",
       "      <td>-70.627312</td>\n",
       "      <td>599.0</td>\n",
       "      <td>13</td>\n",
       "      <td>6</td>\n",
       "      <td>7</td>\n",
       "    </tr>\n",
       "    <tr>\n",
       "      <th>1</th>\n",
       "      <td>3983dd515589a80338dd44a28f5ec414</td>\n",
       "      <td>V34 - Mestizo</td>\n",
       "      <td>-33.394000</td>\n",
       "      <td>-70.600000</td>\n",
       "      <td>655.0</td>\n",
       "      <td>23</td>\n",
       "      <td>8</td>\n",
       "      <td>15</td>\n",
       "    </tr>\n",
       "    <tr>\n",
       "      <th>2</th>\n",
       "      <td>405a3a5ca08c7536d3eb286cf8553025</td>\n",
       "      <td>V10 - Casa Costanera</td>\n",
       "      <td>-33.398000</td>\n",
       "      <td>-70.598000</td>\n",
       "      <td>653.0</td>\n",
       "      <td>11</td>\n",
       "      <td>8</td>\n",
       "      <td>3</td>\n",
       "    </tr>\n",
       "    <tr>\n",
       "      <th>3</th>\n",
       "      <td>0e8dfc3f137cb3911bd32f5fd45e0f93</td>\n",
       "      <td>V35 - Municipalidad de Vitacura</td>\n",
       "      <td>-33.398000</td>\n",
       "      <td>-70.601000</td>\n",
       "      <td>645.0</td>\n",
       "      <td>15</td>\n",
       "      <td>9</td>\n",
       "      <td>3</td>\n",
       "    </tr>\n",
       "    <tr>\n",
       "      <th>4</th>\n",
       "      <td>bdf4fc889476008ea8c644640f306bbc</td>\n",
       "      <td>V07 - Bicentenario</td>\n",
       "      <td>-33.401000</td>\n",
       "      <td>-70.602000</td>\n",
       "      <td>646.0</td>\n",
       "      <td>17</td>\n",
       "      <td>8</td>\n",
       "      <td>8</td>\n",
       "    </tr>\n",
       "  </tbody>\n",
       "</table>\n",
       "</div>"
      ],
      "text/plain": [
       "                         station_id                             name  \\\n",
       "0  e1593acef03a0fd770595370586bc358          P31 - Estación Canal 13   \n",
       "1  3983dd515589a80338dd44a28f5ec414                    V34 - Mestizo   \n",
       "2  405a3a5ca08c7536d3eb286cf8553025             V10 - Casa Costanera   \n",
       "3  0e8dfc3f137cb3911bd32f5fd45e0f93  V35 - Municipalidad de Vitacura   \n",
       "4  bdf4fc889476008ea8c644640f306bbc               V07 - Bicentenario   \n",
       "\n",
       "    latitude  longitude  altitude  slots  free_bikes  empty_slots  \n",
       "0 -33.428334 -70.627312     599.0     13           6            7  \n",
       "1 -33.394000 -70.600000     655.0     23           8           15  \n",
       "2 -33.398000 -70.598000     653.0     11           8            3  \n",
       "3 -33.398000 -70.601000     645.0     15           9            3  \n",
       "4 -33.401000 -70.602000     646.0     17           8            8  "
      ]
     },
     "execution_count": 143,
     "metadata": {},
     "output_type": "execute_result"
    }
   ],
   "source": [
    "tmp = stations_df.copy()\n",
    "tmp['altitude'] = altitudes_ser\n",
    "stations_df = tmp\n",
    "del tmp\n",
    "\n",
    "stations_df.head()"
   ]
  },
  {
   "cell_type": "markdown",
   "metadata": {},
   "source": [
    "#### Validate data"
   ]
  },
  {
   "cell_type": "markdown",
   "metadata": {},
   "source": [
    "I perform some basic, common-sense validation of the entries in my DataFrames. "
   ]
  },
  {
   "cell_type": "code",
   "execution_count": 148,
   "metadata": {},
   "outputs": [
    {
     "data": {
      "text/plain": [
       "station_id       0\n",
       "name             0\n",
       "latitude       0.0\n",
       "longitude      0.0\n",
       "altitude       0.0\n",
       "slots            0\n",
       "free_bikes       0\n",
       "empty_slots      0\n",
       "dtype: object"
      ]
     },
     "execution_count": 148,
     "metadata": {},
     "output_type": "execute_result"
    }
   ],
   "source": [
    "# Look for rows in stations_df that clearly contain invalid data.\n",
    "filter =\\\n",
    "    (stations_df['latitude'] > 90) |\\\n",
    "    (stations_df['latitude'] < -90) |\\\n",
    "    (stations_df['longitude'] > 180) |\\\n",
    "    (stations_df['longitude'] < -180) |\\\n",
    "    (stations_df['slots'] < 0) |\\\n",
    "    (stations_df['free_bikes'] < 0) |\\\n",
    "    (stations_df['empty_slots'] < 0)\n",
    "\n",
    "stations_df[filter].sum()"
   ]
  },
  {
   "cell_type": "code",
   "execution_count": 154,
   "metadata": {},
   "outputs": [
    {
     "data": {
      "text/plain": [
       "yelp_id           0\n",
       "name              0\n",
       "review_count      0\n",
       "price             0\n",
       "rating          0.0\n",
       "distance        0.0\n",
       "station_id        0\n",
       "dtype: object"
      ]
     },
     "execution_count": 154,
     "metadata": {},
     "output_type": "execute_result"
    }
   ],
   "source": [
    "filter =\\\n",
    "    (yelp_places_df['review_count'] < 0) |\\\n",
    "    (yelp_places_df['price'].str not in ['$', '$$', '$$$', '$$$$']) |\\\n",
    "    (yelp_places_df['rating']) < 1 |\\\n",
    "    (yelp_places_df['rating'] > 5) |\\\n",
    "    (yelp_places_df['distance'] < 0)\n",
    "\n",
    "yelp_places_df[filter].sum()"
   ]
  },
  {
   "cell_type": "markdown",
   "metadata": {},
   "source": [
    "Everythng looks reasonable!"
   ]
  },
  {
   "cell_type": "markdown",
   "metadata": {},
   "source": [
    "#### Encode data"
   ]
  },
  {
   "cell_type": "markdown",
   "metadata": {},
   "source": [
    "Finally, I'll encode `yelp_places_df['price']` as an integer between 1 and 4 inclusive."
   ]
  },
  {
   "cell_type": "code",
   "execution_count": 181,
   "metadata": {},
   "outputs": [],
   "source": [
    "def dollars_to_num(dollars: str) -> float:\n",
    "    \"\"\"\n",
    "    Count the number of dollar signs in a string of stars.\n",
    "\n",
    "    Usage examples:\n",
    "    >>> dollars_to_num('$$$')\n",
    "    3.0\n",
    "    >>> dollars_to_num('')\n",
    "    np.nan\n",
    "    \"\"\"\n",
    "    allowed = ['', '$', '$$', '$$$', '$$$$']\n",
    "    assert dollars in allowed,\\\n",
    "        f\"expected string of dollar signs of max length 4, got '{dollars}'\"\n",
    "\n",
    "    return np.nan if dollars == '' else float(len(dollars))"
   ]
  },
  {
   "cell_type": "code",
   "execution_count": 184,
   "metadata": {},
   "outputs": [],
   "source": [
    "tmp = yelp_places_df['price']\\\n",
    "    .fillna('')\\\n",
    "    .apply(dollars_to_num)\n",
    "yelp_places_df['price'] = tmp\n",
    "del tmp"
   ]
  },
  {
   "cell_type": "markdown",
   "metadata": {},
   "source": [
    "## Export the cleaned data"
   ]
  },
  {
   "cell_type": "markdown",
   "metadata": {},
   "source": [
    "I'll look over my tables one last time. If everything looks good, I'll export them to CSVs."
   ]
  },
  {
   "cell_type": "code",
   "execution_count": 185,
   "metadata": {},
   "outputs": [
    {
     "data": {
      "text/html": [
       "<div>\n",
       "<style scoped>\n",
       "    .dataframe tbody tr th:only-of-type {\n",
       "        vertical-align: middle;\n",
       "    }\n",
       "\n",
       "    .dataframe tbody tr th {\n",
       "        vertical-align: top;\n",
       "    }\n",
       "\n",
       "    .dataframe thead th {\n",
       "        text-align: right;\n",
       "    }\n",
       "</style>\n",
       "<table border=\"1\" class=\"dataframe\">\n",
       "  <thead>\n",
       "    <tr style=\"text-align: right;\">\n",
       "      <th></th>\n",
       "      <th>station_id</th>\n",
       "      <th>name</th>\n",
       "      <th>latitude</th>\n",
       "      <th>longitude</th>\n",
       "      <th>altitude</th>\n",
       "      <th>slots</th>\n",
       "      <th>free_bikes</th>\n",
       "      <th>empty_slots</th>\n",
       "    </tr>\n",
       "  </thead>\n",
       "  <tbody>\n",
       "    <tr>\n",
       "      <th>70</th>\n",
       "      <td>961fadb450cb81b500afb4d88241eccc</td>\n",
       "      <td>LC020 - Manquehue Sur / Cristóbal Colón</td>\n",
       "      <td>-33.416947</td>\n",
       "      <td>-70.564646</td>\n",
       "      <td>682.0</td>\n",
       "      <td>11</td>\n",
       "      <td>8</td>\n",
       "      <td>3</td>\n",
       "    </tr>\n",
       "    <tr>\n",
       "      <th>210</th>\n",
       "      <td>268a84b54c366e65ddc8911c306c3320</td>\n",
       "      <td>LC096 - La Casona</td>\n",
       "      <td>-33.374901</td>\n",
       "      <td>-70.505181</td>\n",
       "      <td>835.0</td>\n",
       "      <td>11</td>\n",
       "      <td>7</td>\n",
       "      <td>4</td>\n",
       "    </tr>\n",
       "    <tr>\n",
       "      <th>176</th>\n",
       "      <td>39f0158ce045ebf24b48035d9d3751d8</td>\n",
       "      <td>LC031 - Presidente Errázuriz / Enrique Foster</td>\n",
       "      <td>-33.420735</td>\n",
       "      <td>-70.592328</td>\n",
       "      <td>646.0</td>\n",
       "      <td>10</td>\n",
       "      <td>2</td>\n",
       "      <td>6</td>\n",
       "    </tr>\n",
       "    <tr>\n",
       "      <th>63</th>\n",
       "      <td>dcfcd2a5e7544186c17316ef6414d0e6</td>\n",
       "      <td>LC017 - Sánchez Fontecilla / Cristóbal Colón</td>\n",
       "      <td>-33.426176</td>\n",
       "      <td>-70.590604</td>\n",
       "      <td>637.0</td>\n",
       "      <td>11</td>\n",
       "      <td>7</td>\n",
       "      <td>4</td>\n",
       "    </tr>\n",
       "    <tr>\n",
       "      <th>85</th>\n",
       "      <td>721b4bab82e0cb3b2eb8c24cb0710b30</td>\n",
       "      <td>LC093 - Los Estandartes</td>\n",
       "      <td>-33.408274</td>\n",
       "      <td>-70.583111</td>\n",
       "      <td>671.0</td>\n",
       "      <td>7</td>\n",
       "      <td>3</td>\n",
       "      <td>4</td>\n",
       "    </tr>\n",
       "  </tbody>\n",
       "</table>\n",
       "</div>"
      ],
      "text/plain": [
       "                           station_id  \\\n",
       "70   961fadb450cb81b500afb4d88241eccc   \n",
       "210  268a84b54c366e65ddc8911c306c3320   \n",
       "176  39f0158ce045ebf24b48035d9d3751d8   \n",
       "63   dcfcd2a5e7544186c17316ef6414d0e6   \n",
       "85   721b4bab82e0cb3b2eb8c24cb0710b30   \n",
       "\n",
       "                                              name   latitude  longitude  \\\n",
       "70         LC020 - Manquehue Sur / Cristóbal Colón -33.416947 -70.564646   \n",
       "210                              LC096 - La Casona -33.374901 -70.505181   \n",
       "176  LC031 - Presidente Errázuriz / Enrique Foster -33.420735 -70.592328   \n",
       "63    LC017 - Sánchez Fontecilla / Cristóbal Colón -33.426176 -70.590604   \n",
       "85                         LC093 - Los Estandartes -33.408274 -70.583111   \n",
       "\n",
       "     altitude  slots  free_bikes  empty_slots  \n",
       "70      682.0     11           8            3  \n",
       "210     835.0     11           7            4  \n",
       "176     646.0     10           2            6  \n",
       "63      637.0     11           7            4  \n",
       "85      671.0      7           3            4  "
      ]
     },
     "execution_count": 185,
     "metadata": {},
     "output_type": "execute_result"
    }
   ],
   "source": [
    "stations_df.sample(5)"
   ]
  },
  {
   "cell_type": "code",
   "execution_count": 186,
   "metadata": {},
   "outputs": [
    {
     "name": "stdout",
     "output_type": "stream",
     "text": [
      "<class 'pandas.core.frame.DataFrame'>\n",
      "RangeIndex: 230 entries, 0 to 229\n",
      "Data columns (total 8 columns):\n",
      " #   Column       Non-Null Count  Dtype  \n",
      "---  ------       --------------  -----  \n",
      " 0   station_id   230 non-null    object \n",
      " 1   name         230 non-null    object \n",
      " 2   latitude     230 non-null    float64\n",
      " 3   longitude    230 non-null    float64\n",
      " 4   altitude     230 non-null    float64\n",
      " 5   slots        230 non-null    int64  \n",
      " 6   free_bikes   230 non-null    int64  \n",
      " 7   empty_slots  230 non-null    int64  \n",
      "dtypes: float64(3), int64(3), object(2)\n",
      "memory usage: 14.5+ KB\n"
     ]
    }
   ],
   "source": [
    "stations_df.info()"
   ]
  },
  {
   "cell_type": "code",
   "execution_count": 190,
   "metadata": {},
   "outputs": [
    {
     "data": {
      "text/html": [
       "<div>\n",
       "<style scoped>\n",
       "    .dataframe tbody tr th:only-of-type {\n",
       "        vertical-align: middle;\n",
       "    }\n",
       "\n",
       "    .dataframe tbody tr th {\n",
       "        vertical-align: top;\n",
       "    }\n",
       "\n",
       "    .dataframe thead th {\n",
       "        text-align: right;\n",
       "    }\n",
       "</style>\n",
       "<table border=\"1\" class=\"dataframe\">\n",
       "  <thead>\n",
       "    <tr style=\"text-align: right;\">\n",
       "      <th></th>\n",
       "      <th>yelp_id</th>\n",
       "      <th>name</th>\n",
       "      <th>review_count</th>\n",
       "      <th>price</th>\n",
       "      <th>rating</th>\n",
       "      <th>distance</th>\n",
       "      <th>station_id</th>\n",
       "    </tr>\n",
       "  </thead>\n",
       "  <tbody>\n",
       "    <tr>\n",
       "      <th>2593</th>\n",
       "      <td>D9981RrXaRUVHvhGDoSxlQ</td>\n",
       "      <td>Ramblas</td>\n",
       "      <td>8</td>\n",
       "      <td>2.0</td>\n",
       "      <td>4.0</td>\n",
       "      <td>321.559661</td>\n",
       "      <td>95daa3b98d57eb58e75901158b4f60a2</td>\n",
       "    </tr>\n",
       "    <tr>\n",
       "      <th>5719</th>\n",
       "      <td>RBQmL2H6u8dqYsc92hID_Q</td>\n",
       "      <td>Burger Truck</td>\n",
       "      <td>4</td>\n",
       "      <td>2.0</td>\n",
       "      <td>3.0</td>\n",
       "      <td>520.474780</td>\n",
       "      <td>17db4c1637f146f9820d00e8a8a9f656</td>\n",
       "    </tr>\n",
       "    <tr>\n",
       "      <th>1641</th>\n",
       "      <td>Vs8LLb7gguxoW2fmDQrusQ</td>\n",
       "      <td>El Polluelo Amarillo</td>\n",
       "      <td>10</td>\n",
       "      <td>2.0</td>\n",
       "      <td>3.7</td>\n",
       "      <td>470.135459</td>\n",
       "      <td>0687a2ca2c61c5506bc5704be1368184</td>\n",
       "    </tr>\n",
       "    <tr>\n",
       "      <th>5056</th>\n",
       "      <td>_h00TokBWFQU_iCw9h_iuQ</td>\n",
       "      <td>Da Capo</td>\n",
       "      <td>1</td>\n",
       "      <td>NaN</td>\n",
       "      <td>3.0</td>\n",
       "      <td>1062.551756</td>\n",
       "      <td>31e869065ec137091d67dfc7b76bfcde</td>\n",
       "    </tr>\n",
       "    <tr>\n",
       "      <th>1448</th>\n",
       "      <td>37abvO0H2Fu4B_Q5oO5FCw</td>\n",
       "      <td>Arak - Club Libanés</td>\n",
       "      <td>3</td>\n",
       "      <td>2.0</td>\n",
       "      <td>3.3</td>\n",
       "      <td>95.628112</td>\n",
       "      <td>a547b3e5b959c26c2555219583d434d9</td>\n",
       "    </tr>\n",
       "  </tbody>\n",
       "</table>\n",
       "</div>"
      ],
      "text/plain": [
       "                     yelp_id                  name  review_count  price  \\\n",
       "2593  D9981RrXaRUVHvhGDoSxlQ               Ramblas             8    2.0   \n",
       "5719  RBQmL2H6u8dqYsc92hID_Q          Burger Truck             4    2.0   \n",
       "1641  Vs8LLb7gguxoW2fmDQrusQ  El Polluelo Amarillo            10    2.0   \n",
       "5056  _h00TokBWFQU_iCw9h_iuQ               Da Capo             1    NaN   \n",
       "1448  37abvO0H2Fu4B_Q5oO5FCw   Arak - Club Libanés             3    2.0   \n",
       "\n",
       "      rating     distance                        station_id  \n",
       "2593     4.0   321.559661  95daa3b98d57eb58e75901158b4f60a2  \n",
       "5719     3.0   520.474780  17db4c1637f146f9820d00e8a8a9f656  \n",
       "1641     3.7   470.135459  0687a2ca2c61c5506bc5704be1368184  \n",
       "5056     3.0  1062.551756  31e869065ec137091d67dfc7b76bfcde  \n",
       "1448     3.3    95.628112  a547b3e5b959c26c2555219583d434d9  "
      ]
     },
     "execution_count": 190,
     "metadata": {},
     "output_type": "execute_result"
    }
   ],
   "source": [
    "yelp_places_df.sample(5)"
   ]
  },
  {
   "cell_type": "code",
   "execution_count": 192,
   "metadata": {},
   "outputs": [
    {
     "name": "stdout",
     "output_type": "stream",
     "text": [
      "<class 'pandas.core.frame.DataFrame'>\n",
      "RangeIndex: 10366 entries, 0 to 10365\n",
      "Data columns (total 7 columns):\n",
      " #   Column        Non-Null Count  Dtype  \n",
      "---  ------        --------------  -----  \n",
      " 0   yelp_id       10366 non-null  object \n",
      " 1   name          10366 non-null  object \n",
      " 2   review_count  10366 non-null  int64  \n",
      " 3   price         7007 non-null   float64\n",
      " 4   rating        10366 non-null  float64\n",
      " 5   distance      10366 non-null  float64\n",
      " 6   station_id    10366 non-null  object \n",
      "dtypes: float64(3), int64(1), object(3)\n",
      "memory usage: 567.0+ KB\n"
     ]
    }
   ],
   "source": [
    "yelp_places_df.info()"
   ]
  },
  {
   "cell_type": "code",
   "execution_count": 187,
   "metadata": {},
   "outputs": [
    {
     "data": {
      "text/html": [
       "<div>\n",
       "<style scoped>\n",
       "    .dataframe tbody tr th:only-of-type {\n",
       "        vertical-align: middle;\n",
       "    }\n",
       "\n",
       "    .dataframe tbody tr th {\n",
       "        vertical-align: top;\n",
       "    }\n",
       "\n",
       "    .dataframe thead th {\n",
       "        text-align: right;\n",
       "    }\n",
       "</style>\n",
       "<table border=\"1\" class=\"dataframe\">\n",
       "  <thead>\n",
       "    <tr style=\"text-align: right;\">\n",
       "      <th></th>\n",
       "      <th>yelp_id</th>\n",
       "      <th>category_name</th>\n",
       "    </tr>\n",
       "  </thead>\n",
       "  <tbody>\n",
       "    <tr>\n",
       "      <th>2507</th>\n",
       "      <td>-00_eG7huro3ki2QN-wvWA</td>\n",
       "      <td>creperies</td>\n",
       "    </tr>\n",
       "    <tr>\n",
       "      <th>4532</th>\n",
       "      <td>Cav1FmkZx_JK0N4b6ZdqNQ</td>\n",
       "      <td>sushi bars</td>\n",
       "    </tr>\n",
       "    <tr>\n",
       "      <th>9473</th>\n",
       "      <td>DenhpEaJts1HfBdDKoIscA</td>\n",
       "      <td>sushi bars</td>\n",
       "    </tr>\n",
       "    <tr>\n",
       "      <th>1389</th>\n",
       "      <td>6bIDOE9W3hrCAfvEz1gvXA</td>\n",
       "      <td>mexican</td>\n",
       "    </tr>\n",
       "    <tr>\n",
       "      <th>5180</th>\n",
       "      <td>KFLAdm2RJZtuoJ9y95bgqQ</td>\n",
       "      <td>chinese</td>\n",
       "    </tr>\n",
       "  </tbody>\n",
       "</table>\n",
       "</div>"
      ],
      "text/plain": [
       "                     yelp_id category_name\n",
       "2507  -00_eG7huro3ki2QN-wvWA     creperies\n",
       "4532  Cav1FmkZx_JK0N4b6ZdqNQ    sushi bars\n",
       "9473  DenhpEaJts1HfBdDKoIscA    sushi bars\n",
       "1389  6bIDOE9W3hrCAfvEz1gvXA       mexican\n",
       "5180  KFLAdm2RJZtuoJ9y95bgqQ       chinese"
      ]
     },
     "execution_count": 187,
     "metadata": {},
     "output_type": "execute_result"
    }
   ],
   "source": [
    "yelp_categories_df.sample(5)"
   ]
  },
  {
   "cell_type": "code",
   "execution_count": 189,
   "metadata": {},
   "outputs": [
    {
     "name": "stdout",
     "output_type": "stream",
     "text": [
      "<class 'pandas.core.frame.DataFrame'>\n",
      "Index: 2480 entries, 0 to 15147\n",
      "Data columns (total 2 columns):\n",
      " #   Column         Non-Null Count  Dtype \n",
      "---  ------         --------------  ----- \n",
      " 0   yelp_id        2480 non-null   object\n",
      " 1   category_name  2480 non-null   object\n",
      "dtypes: object(2)\n",
      "memory usage: 58.1+ KB\n"
     ]
    }
   ],
   "source": [
    "yelp_categories_df.info()"
   ]
  },
  {
   "cell_type": "markdown",
   "metadata": {},
   "source": [
    "Seeing no obvious issues:"
   ]
  },
  {
   "cell_type": "code",
   "execution_count": 193,
   "metadata": {},
   "outputs": [],
   "source": [
    "export(stations_df, 'stations_clean.csv')\n",
    "export(yelp_places_df, 'yelp_places_clean.csv')\n",
    "export(yelp_categories_df, 'yelp_categories_clean.csv')"
   ]
  },
  {
   "cell_type": "code",
   "execution_count": null,
   "metadata": {},
   "outputs": [],
   "source": []
  }
 ],
 "metadata": {
  "kernelspec": {
   "display_name": "data-science",
   "language": "python",
   "name": "data-science"
  },
  "language_info": {
   "codemirror_mode": {
    "name": "ipython",
    "version": 3
   },
   "file_extension": ".py",
   "mimetype": "text/x-python",
   "name": "python",
   "nbconvert_exporter": "python",
   "pygments_lexer": "ipython3",
   "version": "3.12.2"
  }
 },
 "nbformat": 4,
 "nbformat_minor": 4
}
