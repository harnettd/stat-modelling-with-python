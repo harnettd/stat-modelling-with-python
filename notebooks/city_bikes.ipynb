{
 "cells": [
  {
   "cell_type": "markdown",
   "metadata": {},
   "source": [
    "# Part1: Connecting to the CityBikes API"
   ]
  },
  {
   "cell_type": "markdown",
   "metadata": {},
   "source": [
    "## Imports"
   ]
  },
  {
   "cell_type": "code",
   "execution_count": 135,
   "metadata": {},
   "outputs": [],
   "source": [
    "from collections import defaultdict\n",
    "import numpy as np\n",
    "import pandas as pd\n",
    "import requests"
   ]
  },
  {
   "cell_type": "markdown",
   "metadata": {},
   "source": [
    "## Get a list of cities in the CityBikes API"
   ]
  },
  {
   "cell_type": "code",
   "execution_count": 130,
   "metadata": {},
   "outputs": [
    {
     "name": "stdout",
     "output_type": "stream",
     "text": [
      "get request succeeded\n"
     ]
    }
   ],
   "source": [
    "url = 'http://api.citybik.es/v2/networks'\n",
    "headers = {'accept': 'application/json'}\n",
    "\n",
    "try:\n",
    "    response = requests.get(url, headers=headers)\n",
    "    response.raise_for_status()\n",
    "except requests.HTTPError as err:\n",
    "    print(f'get request failed, {err}')\n",
    "    response = None\n",
    "else:\n",
    "    print('get request succeeded')"
   ]
  },
  {
   "cell_type": "code",
   "execution_count": 131,
   "metadata": {},
   "outputs": [
    {
     "data": {
      "text/plain": [
       "{'company': ['ЗАО «СитиБайк»'],\n",
       " 'href': '/v2/networks/velobike-moscow',\n",
       " 'id': 'velobike-moscow',\n",
       " 'location': {'city': 'Moscow',\n",
       "  'country': 'RU',\n",
       "  'latitude': 55.75,\n",
       "  'longitude': 37.616667},\n",
       " 'name': 'Velobike'}"
      ]
     },
     "execution_count": 131,
     "metadata": {},
     "output_type": "execute_result"
    }
   ],
   "source": [
    "data_json: dict = response.json()\n",
    "networks: list[dict] = data_json['networks']\n",
    "\n",
    "# Print out the first network dict to see its structure.\n",
    "networks[0]"
   ]
  },
  {
   "cell_type": "markdown",
   "metadata": {},
   "source": [
    "Extract the cities and corresponding network IDs that can be accessed with the CityBikes API."
   ]
  },
  {
   "cell_type": "code",
   "execution_count": 132,
   "metadata": {},
   "outputs": [
    {
     "data": {
      "text/plain": [
       "['10vorWien', 'A Coruña', 'A Illa de Arousa', 'Aachen', 'Abu Dhabi']"
      ]
     },
     "execution_count": 132,
     "metadata": {},
     "output_type": "execute_result"
    }
   ],
   "source": [
    "network_ids = defaultdict(list)\n",
    "for network in networks:\n",
    "    network_ids[network['location']['city']].append(network['id'])\n",
    "\n",
    "# Get a list of the cities that can be accessed with the CityBikes API.\n",
    "cities = list(network_ids.keys())\n",
    "cities.sort()\n",
    "cities[:5]"
   ]
  },
  {
   "cell_type": "markdown",
   "metadata": {},
   "source": [
    "## Send a request to CityBikes for the city of your choice. "
   ]
  },
  {
   "cell_type": "markdown",
   "metadata": {},
   "source": [
    "I chose Santiago, Chile for this study. Santiago is a populous city with many bike stations. Also, at the time of data acqusition, it was late afternoon in Santiago and the weather there was slightly overcast and ~14 deg. C. Both of these factors would seem to promote cycling."
   ]
  },
  {
   "cell_type": "code",
   "execution_count": 133,
   "metadata": {},
   "outputs": [
    {
     "name": "stdout",
     "output_type": "stream",
     "text": [
      "Santiago in cities: True\n",
      "No. of bike networks in Santiago: 1\n"
     ]
    }
   ],
   "source": [
    "city = 'Santiago'\n",
    "print(f'{city} in cities: {city in cities}')\n",
    "print(f'No. of bike networks in {city}: {len(network_ids[city])}')"
   ]
  },
  {
   "cell_type": "code",
   "execution_count": 134,
   "metadata": {},
   "outputs": [
    {
     "name": "stdout",
     "output_type": "stream",
     "text": [
      "get request succeeded\n"
     ]
    }
   ],
   "source": [
    "# Note that url and headers were defined above.\n",
    "network_id: str = network_ids['Santiago'][0]\n",
    "endpoint: str = url + '/' + network_id\n",
    "\n",
    "try:\n",
    "    response = requests.get(endpoint, headers=headers)\n",
    "    response.raise_for_status()\n",
    "except requests.HTTPError as err:\n",
    "    print(f'get request failed, {err}')\n",
    "    response = None\n",
    "else:\n",
    "    print('get request succeeded')"
   ]
  },
  {
   "cell_type": "code",
   "execution_count": 141,
   "metadata": {},
   "outputs": [
    {
     "data": {
      "text/plain": [
       "{'empty_slots': 5,\n",
       " 'extra': {'address': 'Alcalde Dávalos 124',\n",
       "  'altitude': 0.0,\n",
       "  'ebikes': 0,\n",
       "  'has_ebikes': True,\n",
       "  'last_updated': 1714679595,\n",
       "  'normal_bikes': 8,\n",
       "  'payment': ['key', 'transitcard', 'creditcard', 'phone'],\n",
       "  'payment-terminal': True,\n",
       "  'post_code': '1111',\n",
       "  'rental_uris': {},\n",
       "  'renting': 1,\n",
       "  'returning': 1,\n",
       "  'slots': 13,\n",
       "  'uid': '237'},\n",
       " 'free_bikes': 8,\n",
       " 'id': 'e1593acef03a0fd770595370586bc358',\n",
       " 'latitude': -33.428334,\n",
       " 'longitude': -70.627312,\n",
       " 'name': 'P31 - Estación Canal 13',\n",
       " 'timestamp': '2024-05-02T19:56:09.714000Z'}"
      ]
     },
     "execution_count": 141,
     "metadata": {},
     "output_type": "execute_result"
    }
   ],
   "source": [
    "stations: list[dict] = response.json()['network']['stations']\n",
    "\n",
    "# Print out the first station to see its structure.\n",
    "stations[0]"
   ]
  },
  {
   "cell_type": "markdown",
   "metadata": {},
   "source": [
    "## Parse the response to get various details for the bike stations in that city "
   ]
  },
  {
   "cell_type": "code",
   "execution_count": 136,
   "metadata": {},
   "outputs": [],
   "source": [
    "station_data = {\n",
    "    'id': [],\n",
    "    'name': [],\n",
    "    'latitude': [],\n",
    "    'longitude': [],\n",
    "    'altitude': [],\n",
    "    'free_bikes': [],\n",
    "    'has_ebikes': [],\n",
    "    'timestamp': []\n",
    "}"
   ]
  },
  {
   "cell_type": "code",
   "execution_count": 142,
   "metadata": {
    "scrolled": true
   },
   "outputs": [],
   "source": [
    "for station in stations:\n",
    "    station_data['id'].append(station['id'])\n",
    "    station_data['name'].append(station['name'])\n",
    "    station_data['latitude'].append(station['latitude'])\n",
    "    station_data['longitude'].append(station['longitude'])\n",
    "    station_data['altitude'].append(station['extra']['altitude'])\n",
    "    station_data['free_bikes'].append(station['free_bikes'])\n",
    "    station_data['has_ebikes'].append(station['extra']['has_ebikes'])\n",
    "    station_data['timestamp'].append(station['timestamp'])"
   ]
  },
  {
   "cell_type": "markdown",
   "metadata": {},
   "source": [
    "## Put the parsed results into a pandas.DataFrame"
   ]
  },
  {
   "cell_type": "code",
   "execution_count": 143,
   "metadata": {},
   "outputs": [],
   "source": [
    "stations_df = pd.DataFrame(station_data)"
   ]
  },
  {
   "cell_type": "code",
   "execution_count": 144,
   "metadata": {},
   "outputs": [
    {
     "data": {
      "text/html": [
       "<div>\n",
       "<style scoped>\n",
       "    .dataframe tbody tr th:only-of-type {\n",
       "        vertical-align: middle;\n",
       "    }\n",
       "\n",
       "    .dataframe tbody tr th {\n",
       "        vertical-align: top;\n",
       "    }\n",
       "\n",
       "    .dataframe thead th {\n",
       "        text-align: right;\n",
       "    }\n",
       "</style>\n",
       "<table border=\"1\" class=\"dataframe\">\n",
       "  <thead>\n",
       "    <tr style=\"text-align: right;\">\n",
       "      <th></th>\n",
       "      <th>id</th>\n",
       "      <th>name</th>\n",
       "      <th>latitude</th>\n",
       "      <th>longitude</th>\n",
       "      <th>altitude</th>\n",
       "      <th>free_bikes</th>\n",
       "      <th>has_ebikes</th>\n",
       "      <th>timestamp</th>\n",
       "    </tr>\n",
       "  </thead>\n",
       "  <tbody>\n",
       "    <tr>\n",
       "      <th>0</th>\n",
       "      <td>e1593acef03a0fd770595370586bc358</td>\n",
       "      <td>P31 - Estación Canal 13</td>\n",
       "      <td>-33.428334</td>\n",
       "      <td>-70.627312</td>\n",
       "      <td>0.0</td>\n",
       "      <td>8</td>\n",
       "      <td>True</td>\n",
       "      <td>2024-05-02T19:56:09.714000Z</td>\n",
       "    </tr>\n",
       "    <tr>\n",
       "      <th>1</th>\n",
       "      <td>3983dd515589a80338dd44a28f5ec414</td>\n",
       "      <td>V34 - Mestizo</td>\n",
       "      <td>-33.394000</td>\n",
       "      <td>-70.600000</td>\n",
       "      <td>0.0</td>\n",
       "      <td>7</td>\n",
       "      <td>True</td>\n",
       "      <td>2024-05-02T19:56:09.360000Z</td>\n",
       "    </tr>\n",
       "    <tr>\n",
       "      <th>2</th>\n",
       "      <td>405a3a5ca08c7536d3eb286cf8553025</td>\n",
       "      <td>V10 - Casa Costanera</td>\n",
       "      <td>-33.398000</td>\n",
       "      <td>-70.598000</td>\n",
       "      <td>0.0</td>\n",
       "      <td>3</td>\n",
       "      <td>True</td>\n",
       "      <td>2024-05-02T19:56:09.370000Z</td>\n",
       "    </tr>\n",
       "    <tr>\n",
       "      <th>3</th>\n",
       "      <td>0e8dfc3f137cb3911bd32f5fd45e0f93</td>\n",
       "      <td>V35 - Municipalidad de Vitacura</td>\n",
       "      <td>-33.398000</td>\n",
       "      <td>-70.601000</td>\n",
       "      <td>0.0</td>\n",
       "      <td>7</td>\n",
       "      <td>True</td>\n",
       "      <td>2024-05-02T19:56:09.372000Z</td>\n",
       "    </tr>\n",
       "    <tr>\n",
       "      <th>4</th>\n",
       "      <td>bdf4fc889476008ea8c644640f306bbc</td>\n",
       "      <td>V07 - Bicentenario</td>\n",
       "      <td>-33.401000</td>\n",
       "      <td>-70.602000</td>\n",
       "      <td>0.0</td>\n",
       "      <td>13</td>\n",
       "      <td>True</td>\n",
       "      <td>2024-05-02T19:56:09.373000Z</td>\n",
       "    </tr>\n",
       "  </tbody>\n",
       "</table>\n",
       "</div>"
      ],
      "text/plain": [
       "                                 id                             name  \\\n",
       "0  e1593acef03a0fd770595370586bc358          P31 - Estación Canal 13   \n",
       "1  3983dd515589a80338dd44a28f5ec414                    V34 - Mestizo   \n",
       "2  405a3a5ca08c7536d3eb286cf8553025             V10 - Casa Costanera   \n",
       "3  0e8dfc3f137cb3911bd32f5fd45e0f93  V35 - Municipalidad de Vitacura   \n",
       "4  bdf4fc889476008ea8c644640f306bbc               V07 - Bicentenario   \n",
       "\n",
       "    latitude  longitude  altitude  free_bikes  has_ebikes  \\\n",
       "0 -33.428334 -70.627312       0.0           8        True   \n",
       "1 -33.394000 -70.600000       0.0           7        True   \n",
       "2 -33.398000 -70.598000       0.0           3        True   \n",
       "3 -33.398000 -70.601000       0.0           7        True   \n",
       "4 -33.401000 -70.602000       0.0          13        True   \n",
       "\n",
       "                     timestamp  \n",
       "0  2024-05-02T19:56:09.714000Z  \n",
       "1  2024-05-02T19:56:09.360000Z  \n",
       "2  2024-05-02T19:56:09.370000Z  \n",
       "3  2024-05-02T19:56:09.372000Z  \n",
       "4  2024-05-02T19:56:09.373000Z  "
      ]
     },
     "execution_count": 144,
     "metadata": {},
     "output_type": "execute_result"
    }
   ],
   "source": [
    "stations_df.head()"
   ]
  },
  {
   "cell_type": "code",
   "execution_count": 145,
   "metadata": {},
   "outputs": [
    {
     "name": "stdout",
     "output_type": "stream",
     "text": [
      "<class 'pandas.core.frame.DataFrame'>\n",
      "RangeIndex: 229 entries, 0 to 228\n",
      "Data columns (total 8 columns):\n",
      " #   Column      Non-Null Count  Dtype  \n",
      "---  ------      --------------  -----  \n",
      " 0   id          229 non-null    object \n",
      " 1   name        229 non-null    object \n",
      " 2   latitude    229 non-null    float64\n",
      " 3   longitude   229 non-null    float64\n",
      " 4   altitude    229 non-null    float64\n",
      " 5   free_bikes  229 non-null    int64  \n",
      " 6   has_ebikes  229 non-null    bool   \n",
      " 7   timestamp   229 non-null    object \n",
      "dtypes: bool(1), float64(3), int64(1), object(3)\n",
      "memory usage: 12.9+ KB\n"
     ]
    }
   ],
   "source": [
    "stations_df.info()"
   ]
  },
  {
   "cell_type": "markdown",
   "metadata": {},
   "source": [
    "## Export the DataFrame to CSV"
   ]
  },
  {
   "cell_type": "code",
   "execution_count": 148,
   "metadata": {},
   "outputs": [],
   "source": [
    "dirname = '../data/'\n",
    "basename = 'stations.csv'\n",
    "filename = dirname + basename\n",
    "\n",
    "stations_df.to_csv(filename, sep=',')"
   ]
  },
  {
   "cell_type": "code",
   "execution_count": null,
   "metadata": {},
   "outputs": [],
   "source": []
  }
 ],
 "metadata": {
  "kernelspec": {
   "display_name": "Python 3 (ipykernel)",
   "language": "python",
   "name": "python3"
  },
  "language_info": {
   "codemirror_mode": {
    "name": "ipython",
    "version": 3
   },
   "file_extension": ".py",
   "mimetype": "text/x-python",
   "name": "python",
   "nbconvert_exporter": "python",
   "pygments_lexer": "ipython3",
   "version": "3.12.2"
  }
 },
 "nbformat": 4,
 "nbformat_minor": 4
}
