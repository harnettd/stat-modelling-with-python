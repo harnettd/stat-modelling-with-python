{
 "cells": [
  {
   "cell_type": "markdown",
   "metadata": {},
   "source": [
    "# Part 3: Joining Data"
   ]
  },
  {
   "cell_type": "markdown",
   "metadata": {},
   "source": [
    "## Imports"
   ]
  },
  {
   "cell_type": "code",
   "execution_count": 43,
   "metadata": {},
   "outputs": [],
   "source": [
    "import matplotlib.pyplot as plt\n",
    "import pandas as pd\n",
    "import seaborn as sns\n",
    "import sqlite3\n",
    "\n",
    "from utils import export"
   ]
  },
  {
   "cell_type": "markdown",
   "metadata": {},
   "source": [
    "## Join Part 1 and Part 2 data to create a new dataframe"
   ]
  },
  {
   "cell_type": "code",
   "execution_count": 2,
   "metadata": {},
   "outputs": [],
   "source": [
    "dirname = '../data/'\n",
    "stations_df = pd.read_csv(dirname + 'stations_clean.csv', sep=',', index_col=False)\n",
    "yelp_places_df = pd.read_csv(dirname + 'yelp_places_clean.csv', sep=',', index_col=False)\n",
    "yelp_categories_df = pd.read_csv(dirname + 'yelp_categories_clean.csv', sep=',', index_col=False)"
   ]
  },
  {
   "cell_type": "code",
   "execution_count": 3,
   "metadata": {},
   "outputs": [
    {
     "data": {
      "text/html": [
       "<div>\n",
       "<style scoped>\n",
       "    .dataframe tbody tr th:only-of-type {\n",
       "        vertical-align: middle;\n",
       "    }\n",
       "\n",
       "    .dataframe tbody tr th {\n",
       "        vertical-align: top;\n",
       "    }\n",
       "\n",
       "    .dataframe thead th {\n",
       "        text-align: right;\n",
       "    }\n",
       "</style>\n",
       "<table border=\"1\" class=\"dataframe\">\n",
       "  <thead>\n",
       "    <tr style=\"text-align: right;\">\n",
       "      <th></th>\n",
       "      <th>station_id</th>\n",
       "      <th>name</th>\n",
       "      <th>latitude</th>\n",
       "      <th>longitude</th>\n",
       "      <th>altitude</th>\n",
       "      <th>slots</th>\n",
       "      <th>free_bikes</th>\n",
       "      <th>empty_slots</th>\n",
       "    </tr>\n",
       "  </thead>\n",
       "  <tbody>\n",
       "    <tr>\n",
       "      <th>23</th>\n",
       "      <td>72991751fac2544c78666c0554568ef5</td>\n",
       "      <td>S25 - Plaza de Armas</td>\n",
       "      <td>-33.437118</td>\n",
       "      <td>-70.649512</td>\n",
       "      <td>578.0</td>\n",
       "      <td>18</td>\n",
       "      <td>13</td>\n",
       "      <td>5</td>\n",
       "    </tr>\n",
       "    <tr>\n",
       "      <th>91</th>\n",
       "      <td>f9e8b1b5a737986055b0201924ebeae5</td>\n",
       "      <td>LC011 - Metro Hernando De Magallanes</td>\n",
       "      <td>-33.408329</td>\n",
       "      <td>-70.556524</td>\n",
       "      <td>709.0</td>\n",
       "      <td>19</td>\n",
       "      <td>6</td>\n",
       "      <td>13</td>\n",
       "    </tr>\n",
       "    <tr>\n",
       "      <th>54</th>\n",
       "      <td>1dfc2cf6a191dda80abb266ead1fc4d3</td>\n",
       "      <td>S09 - Santo Domingo / Morandé</td>\n",
       "      <td>-33.436620</td>\n",
       "      <td>-70.654184</td>\n",
       "      <td>566.0</td>\n",
       "      <td>19</td>\n",
       "      <td>10</td>\n",
       "      <td>9</td>\n",
       "    </tr>\n",
       "    <tr>\n",
       "      <th>148</th>\n",
       "      <td>d4eca963247bd7c88276eef1295a563c</td>\n",
       "      <td>LC098 - Cantagallo</td>\n",
       "      <td>-33.373503</td>\n",
       "      <td>-70.518313</td>\n",
       "      <td>810.0</td>\n",
       "      <td>7</td>\n",
       "      <td>4</td>\n",
       "      <td>3</td>\n",
       "    </tr>\n",
       "    <tr>\n",
       "      <th>109</th>\n",
       "      <td>44ebcf45bc2f09921966535464f6231b</td>\n",
       "      <td>LC058 - Plaza Horacio Rivarola</td>\n",
       "      <td>-33.421136</td>\n",
       "      <td>-70.570168</td>\n",
       "      <td>667.0</td>\n",
       "      <td>15</td>\n",
       "      <td>14</td>\n",
       "      <td>1</td>\n",
       "    </tr>\n",
       "  </tbody>\n",
       "</table>\n",
       "</div>"
      ],
      "text/plain": [
       "                           station_id                                  name  \\\n",
       "23   72991751fac2544c78666c0554568ef5                  S25 - Plaza de Armas   \n",
       "91   f9e8b1b5a737986055b0201924ebeae5  LC011 - Metro Hernando De Magallanes   \n",
       "54   1dfc2cf6a191dda80abb266ead1fc4d3         S09 - Santo Domingo / Morandé   \n",
       "148  d4eca963247bd7c88276eef1295a563c                    LC098 - Cantagallo   \n",
       "109  44ebcf45bc2f09921966535464f6231b        LC058 - Plaza Horacio Rivarola   \n",
       "\n",
       "      latitude  longitude  altitude  slots  free_bikes  empty_slots  \n",
       "23  -33.437118 -70.649512     578.0     18          13            5  \n",
       "91  -33.408329 -70.556524     709.0     19           6           13  \n",
       "54  -33.436620 -70.654184     566.0     19          10            9  \n",
       "148 -33.373503 -70.518313     810.0      7           4            3  \n",
       "109 -33.421136 -70.570168     667.0     15          14            1  "
      ]
     },
     "execution_count": 3,
     "metadata": {},
     "output_type": "execute_result"
    }
   ],
   "source": [
    "stations_df.sample(5)"
   ]
  },
  {
   "cell_type": "code",
   "execution_count": 4,
   "metadata": {},
   "outputs": [
    {
     "data": {
      "text/html": [
       "<div>\n",
       "<style scoped>\n",
       "    .dataframe tbody tr th:only-of-type {\n",
       "        vertical-align: middle;\n",
       "    }\n",
       "\n",
       "    .dataframe tbody tr th {\n",
       "        vertical-align: top;\n",
       "    }\n",
       "\n",
       "    .dataframe thead th {\n",
       "        text-align: right;\n",
       "    }\n",
       "</style>\n",
       "<table border=\"1\" class=\"dataframe\">\n",
       "  <thead>\n",
       "    <tr style=\"text-align: right;\">\n",
       "      <th></th>\n",
       "      <th>yelp_id</th>\n",
       "      <th>name</th>\n",
       "      <th>review_count</th>\n",
       "      <th>price</th>\n",
       "      <th>rating</th>\n",
       "      <th>distance</th>\n",
       "      <th>station_id</th>\n",
       "    </tr>\n",
       "  </thead>\n",
       "  <tbody>\n",
       "    <tr>\n",
       "      <th>3777</th>\n",
       "      <td>AkPKfH2jTSdWyZgHXJotBA</td>\n",
       "      <td>Restaurant de Comida Peruana Las Américas</td>\n",
       "      <td>1</td>\n",
       "      <td>NaN</td>\n",
       "      <td>3.0</td>\n",
       "      <td>477.714927</td>\n",
       "      <td>0046f093db7125380956ca0bbf51c8bd</td>\n",
       "    </tr>\n",
       "    <tr>\n",
       "      <th>6156</th>\n",
       "      <td>D4VeYaSEw9EaNCxqkloL6A</td>\n",
       "      <td>Normandie</td>\n",
       "      <td>12</td>\n",
       "      <td>3.0</td>\n",
       "      <td>3.9</td>\n",
       "      <td>1251.109302</td>\n",
       "      <td>4b67bf22ade79451105e4cbb80e60dc9</td>\n",
       "    </tr>\n",
       "    <tr>\n",
       "      <th>9909</th>\n",
       "      <td>GP6fzGX_n8-AEVWkXredcw</td>\n",
       "      <td>Dominó</td>\n",
       "      <td>7</td>\n",
       "      <td>1.0</td>\n",
       "      <td>4.1</td>\n",
       "      <td>1214.010401</td>\n",
       "      <td>781f96b7e332067821ec87a594fb180b</td>\n",
       "    </tr>\n",
       "    <tr>\n",
       "      <th>49</th>\n",
       "      <td>Vs8LLb7gguxoW2fmDQrusQ</td>\n",
       "      <td>El Polluelo Amarillo</td>\n",
       "      <td>10</td>\n",
       "      <td>2.0</td>\n",
       "      <td>3.7</td>\n",
       "      <td>812.784903</td>\n",
       "      <td>e1593acef03a0fd770595370586bc358</td>\n",
       "    </tr>\n",
       "    <tr>\n",
       "      <th>3413</th>\n",
       "      <td>BdFa1mzW_Hyt3EJ8EqnV1Q</td>\n",
       "      <td>Juan Maestro</td>\n",
       "      <td>1</td>\n",
       "      <td>NaN</td>\n",
       "      <td>5.0</td>\n",
       "      <td>835.862506</td>\n",
       "      <td>961fadb450cb81b500afb4d88241eccc</td>\n",
       "    </tr>\n",
       "  </tbody>\n",
       "</table>\n",
       "</div>"
      ],
      "text/plain": [
       "                     yelp_id                                       name  \\\n",
       "3777  AkPKfH2jTSdWyZgHXJotBA  Restaurant de Comida Peruana Las Américas   \n",
       "6156  D4VeYaSEw9EaNCxqkloL6A                                  Normandie   \n",
       "9909  GP6fzGX_n8-AEVWkXredcw                                     Dominó   \n",
       "49    Vs8LLb7gguxoW2fmDQrusQ                       El Polluelo Amarillo   \n",
       "3413  BdFa1mzW_Hyt3EJ8EqnV1Q                               Juan Maestro   \n",
       "\n",
       "      review_count  price  rating     distance  \\\n",
       "3777             1    NaN     3.0   477.714927   \n",
       "6156            12    3.0     3.9  1251.109302   \n",
       "9909             7    1.0     4.1  1214.010401   \n",
       "49              10    2.0     3.7   812.784903   \n",
       "3413             1    NaN     5.0   835.862506   \n",
       "\n",
       "                            station_id  \n",
       "3777  0046f093db7125380956ca0bbf51c8bd  \n",
       "6156  4b67bf22ade79451105e4cbb80e60dc9  \n",
       "9909  781f96b7e332067821ec87a594fb180b  \n",
       "49    e1593acef03a0fd770595370586bc358  \n",
       "3413  961fadb450cb81b500afb4d88241eccc  "
      ]
     },
     "execution_count": 4,
     "metadata": {},
     "output_type": "execute_result"
    }
   ],
   "source": [
    "yelp_places_df.sample(5)"
   ]
  },
  {
   "cell_type": "code",
   "execution_count": 5,
   "metadata": {},
   "outputs": [
    {
     "data": {
      "text/html": [
       "<div>\n",
       "<style scoped>\n",
       "    .dataframe tbody tr th:only-of-type {\n",
       "        vertical-align: middle;\n",
       "    }\n",
       "\n",
       "    .dataframe tbody tr th {\n",
       "        vertical-align: top;\n",
       "    }\n",
       "\n",
       "    .dataframe thead th {\n",
       "        text-align: right;\n",
       "    }\n",
       "</style>\n",
       "<table border=\"1\" class=\"dataframe\">\n",
       "  <thead>\n",
       "    <tr style=\"text-align: right;\">\n",
       "      <th></th>\n",
       "      <th>yelp_id</th>\n",
       "      <th>category_name</th>\n",
       "    </tr>\n",
       "  </thead>\n",
       "  <tbody>\n",
       "    <tr>\n",
       "      <th>1986</th>\n",
       "      <td>ZSv6Z3QtlNqVz9IHwGEpow</td>\n",
       "      <td>desserts</td>\n",
       "    </tr>\n",
       "    <tr>\n",
       "      <th>1507</th>\n",
       "      <td>VtpPlrg60knU_mONrELrBw</td>\n",
       "      <td>food stands</td>\n",
       "    </tr>\n",
       "    <tr>\n",
       "      <th>430</th>\n",
       "      <td>_-JGJI8948wEpYAhSjuo-A</td>\n",
       "      <td>italian</td>\n",
       "    </tr>\n",
       "    <tr>\n",
       "      <th>924</th>\n",
       "      <td>ctjBMhazaAgUaDul0OCokw</td>\n",
       "      <td>peruvian</td>\n",
       "    </tr>\n",
       "    <tr>\n",
       "      <th>2261</th>\n",
       "      <td>pz9SrLHngKMwSYR9MKCHvw</td>\n",
       "      <td>parks</td>\n",
       "    </tr>\n",
       "  </tbody>\n",
       "</table>\n",
       "</div>"
      ],
      "text/plain": [
       "                     yelp_id category_name\n",
       "1986  ZSv6Z3QtlNqVz9IHwGEpow      desserts\n",
       "1507  VtpPlrg60knU_mONrELrBw   food stands\n",
       "430   _-JGJI8948wEpYAhSjuo-A       italian\n",
       "924   ctjBMhazaAgUaDul0OCokw      peruvian\n",
       "2261  pz9SrLHngKMwSYR9MKCHvw         parks"
      ]
     },
     "execution_count": 5,
     "metadata": {},
     "output_type": "execute_result"
    }
   ],
   "source": [
    "yelp_categories_df.sample(5)"
   ]
  },
  {
   "cell_type": "markdown",
   "metadata": {},
   "source": [
    "Are there any station_ids that are in `stations_df` but not in `yelp_places_df`? (Spoiler: there shouldn't be!)"
   ]
  },
  {
   "cell_type": "code",
   "execution_count": 6,
   "metadata": {},
   "outputs": [
    {
     "data": {
      "text/plain": [
       "(True, True)"
      ]
     },
     "execution_count": 6,
     "metadata": {},
     "output_type": "execute_result"
    }
   ],
   "source": [
    "station_ids = set(stations_df['station_id'].to_list())\n",
    "yelp_station_ids = set(yelp_places_df['station_id'].to_list())\n",
    "station_ids.issubset(yelp_station_ids), yelp_station_ids.issubset(station_ids)"
   ]
  },
  {
   "cell_type": "markdown",
   "metadata": {},
   "source": [
    "The sets of station_ids in `stations_df` and `yelp_places_df` are equal. Therefore, I'll (inner) merge (*i.e.* SQL join) these two tables on `station_id`. But, first, I'll rename a pair of columns to avoid future confusion."
   ]
  },
  {
   "cell_type": "code",
   "execution_count": 7,
   "metadata": {},
   "outputs": [],
   "source": [
    "stations_df.rename({'name': 'station_name'}, axis='columns', inplace=True)\n",
    "yelp_places_df.rename({'name': 'place_name'}, axis='columns', inplace=True)"
   ]
  },
  {
   "cell_type": "code",
   "execution_count": 8,
   "metadata": {},
   "outputs": [],
   "source": [
    "stations_places_df = stations_df.merge(yelp_places_df, how='inner', on='station_id')"
   ]
  },
  {
   "cell_type": "code",
   "execution_count": 9,
   "metadata": {},
   "outputs": [
    {
     "data": {
      "text/html": [
       "<div>\n",
       "<style scoped>\n",
       "    .dataframe tbody tr th:only-of-type {\n",
       "        vertical-align: middle;\n",
       "    }\n",
       "\n",
       "    .dataframe tbody tr th {\n",
       "        vertical-align: top;\n",
       "    }\n",
       "\n",
       "    .dataframe thead th {\n",
       "        text-align: right;\n",
       "    }\n",
       "</style>\n",
       "<table border=\"1\" class=\"dataframe\">\n",
       "  <thead>\n",
       "    <tr style=\"text-align: right;\">\n",
       "      <th></th>\n",
       "      <th>station_id</th>\n",
       "      <th>station_name</th>\n",
       "      <th>latitude</th>\n",
       "      <th>longitude</th>\n",
       "      <th>altitude</th>\n",
       "      <th>slots</th>\n",
       "      <th>free_bikes</th>\n",
       "      <th>empty_slots</th>\n",
       "      <th>yelp_id</th>\n",
       "      <th>place_name</th>\n",
       "      <th>review_count</th>\n",
       "      <th>price</th>\n",
       "      <th>rating</th>\n",
       "      <th>distance</th>\n",
       "    </tr>\n",
       "  </thead>\n",
       "  <tbody>\n",
       "    <tr>\n",
       "      <th>5735</th>\n",
       "      <td>17db4c1637f146f9820d00e8a8a9f656</td>\n",
       "      <td>LC042 - Padre Hurtado / Las Condes</td>\n",
       "      <td>-33.394415</td>\n",
       "      <td>-70.544959</td>\n",
       "      <td>740.0</td>\n",
       "      <td>11</td>\n",
       "      <td>4</td>\n",
       "      <td>6</td>\n",
       "      <td>YSu8SCf9U3xssfysZrR94Q</td>\n",
       "      <td>Al Jazeera</td>\n",
       "      <td>1</td>\n",
       "      <td>NaN</td>\n",
       "      <td>4.0</td>\n",
       "      <td>724.119593</td>\n",
       "    </tr>\n",
       "    <tr>\n",
       "      <th>3668</th>\n",
       "      <td>f53dcce8aa6dad42c91ac44153dba370</td>\n",
       "      <td>LC092 - Manquehue Sur / El Director</td>\n",
       "      <td>-33.412750</td>\n",
       "      <td>-70.566300</td>\n",
       "      <td>686.0</td>\n",
       "      <td>11</td>\n",
       "      <td>4</td>\n",
       "      <td>7</td>\n",
       "      <td>aST1yQNM-AfI9HgIjIOwdQ</td>\n",
       "      <td>La Tasca Altamar</td>\n",
       "      <td>8</td>\n",
       "      <td>NaN</td>\n",
       "      <td>4.0</td>\n",
       "      <td>595.998791</td>\n",
       "    </tr>\n",
       "    <tr>\n",
       "      <th>5836</th>\n",
       "      <td>8845a95b2ea7a9ccde5110a7dbe6c0b4</td>\n",
       "      <td>S24 - Plaza Yungay</td>\n",
       "      <td>-33.439127</td>\n",
       "      <td>-70.673451</td>\n",
       "      <td>540.0</td>\n",
       "      <td>18</td>\n",
       "      <td>5</td>\n",
       "      <td>13</td>\n",
       "      <td>nD0SDE0k1cHkfAHF0HmYZg</td>\n",
       "      <td>Yahaira</td>\n",
       "      <td>2</td>\n",
       "      <td>1.0</td>\n",
       "      <td>4.5</td>\n",
       "      <td>606.926991</td>\n",
       "    </tr>\n",
       "    <tr>\n",
       "      <th>8134</th>\n",
       "      <td>2de9be273aba3e100286c2ad96a1b2ae</td>\n",
       "      <td>LC094 - Sánchez Fontecilla / Martín De Zamora</td>\n",
       "      <td>-33.424679</td>\n",
       "      <td>-70.592277</td>\n",
       "      <td>637.0</td>\n",
       "      <td>7</td>\n",
       "      <td>4</td>\n",
       "      <td>3</td>\n",
       "      <td>PiO0A-NzFTPMOpodH_DsEA</td>\n",
       "      <td>Castaño</td>\n",
       "      <td>1</td>\n",
       "      <td>NaN</td>\n",
       "      <td>5.0</td>\n",
       "      <td>1232.755468</td>\n",
       "    </tr>\n",
       "    <tr>\n",
       "      <th>6051</th>\n",
       "      <td>45d51e231d79a803aa7b2d1a41d1fc3f</td>\n",
       "      <td>P45 - Eliodoro Yañez / Holanda</td>\n",
       "      <td>-33.429568</td>\n",
       "      <td>-70.600625</td>\n",
       "      <td>620.0</td>\n",
       "      <td>14</td>\n",
       "      <td>2</td>\n",
       "      <td>11</td>\n",
       "      <td>oZ_pVyyyGS8mghqZ9X_NUw</td>\n",
       "      <td>Baco</td>\n",
       "      <td>71</td>\n",
       "      <td>3.0</td>\n",
       "      <td>4.3</td>\n",
       "      <td>1322.197252</td>\n",
       "    </tr>\n",
       "  </tbody>\n",
       "</table>\n",
       "</div>"
      ],
      "text/plain": [
       "                            station_id  \\\n",
       "5735  17db4c1637f146f9820d00e8a8a9f656   \n",
       "3668  f53dcce8aa6dad42c91ac44153dba370   \n",
       "5836  8845a95b2ea7a9ccde5110a7dbe6c0b4   \n",
       "8134  2de9be273aba3e100286c2ad96a1b2ae   \n",
       "6051  45d51e231d79a803aa7b2d1a41d1fc3f   \n",
       "\n",
       "                                       station_name   latitude  longitude  \\\n",
       "5735             LC042 - Padre Hurtado / Las Condes -33.394415 -70.544959   \n",
       "3668            LC092 - Manquehue Sur / El Director -33.412750 -70.566300   \n",
       "5836                             S24 - Plaza Yungay -33.439127 -70.673451   \n",
       "8134  LC094 - Sánchez Fontecilla / Martín De Zamora -33.424679 -70.592277   \n",
       "6051                 P45 - Eliodoro Yañez / Holanda -33.429568 -70.600625   \n",
       "\n",
       "      altitude  slots  free_bikes  empty_slots                 yelp_id  \\\n",
       "5735     740.0     11           4            6  YSu8SCf9U3xssfysZrR94Q   \n",
       "3668     686.0     11           4            7  aST1yQNM-AfI9HgIjIOwdQ   \n",
       "5836     540.0     18           5           13  nD0SDE0k1cHkfAHF0HmYZg   \n",
       "8134     637.0      7           4            3  PiO0A-NzFTPMOpodH_DsEA   \n",
       "6051     620.0     14           2           11  oZ_pVyyyGS8mghqZ9X_NUw   \n",
       "\n",
       "            place_name  review_count  price  rating     distance  \n",
       "5735        Al Jazeera             1    NaN     4.0   724.119593  \n",
       "3668  La Tasca Altamar             8    NaN     4.0   595.998791  \n",
       "5836           Yahaira             2    1.0     4.5   606.926991  \n",
       "8134           Castaño             1    NaN     5.0  1232.755468  \n",
       "6051              Baco            71    3.0     4.3  1322.197252  "
      ]
     },
     "execution_count": 9,
     "metadata": {},
     "output_type": "execute_result"
    }
   ],
   "source": [
    "stations_places_df.sample(5)"
   ]
  },
  {
   "cell_type": "markdown",
   "metadata": {},
   "source": [
    "Next, I could merge `stations_places_df` with `yelp_categories_df` on `yelp_id`."
   ]
  },
  {
   "cell_type": "markdown",
   "metadata": {},
   "source": [
    "Are there any yelp_ids that are in `stations_places_df` that are not in `yelp_categories_df`? It's certainly possible that there are businesses returned by a Yelp search that don't have any associated categories."
   ]
  },
  {
   "cell_type": "code",
   "execution_count": 10,
   "metadata": {},
   "outputs": [
    {
     "name": "stdout",
     "output_type": "stream",
     "text": [
      "num yelp IDs: 1756, 1748\n",
      "yelp_ids_2 contained in yelp_ids_1: True\n",
      "yelp IDs in yelp_id_1 but not in yelp_id_2:\n",
      "    S3qk-oT76pT6G_VA4Y4j0w\n",
      "    g79bELS1rZheFdxkXmzKtw\n",
      "    05SHJ9668PZQXIhMjp9ACA\n",
      "    JX_Axp2MRPwmDhHUw0hZqw\n",
      "    6XnJsC8OZyLuRoWN9wRmEA\n",
      "    pLh6ImLqAWPWNICWUz70Uw\n",
      "    JcJrUd2jyEGUCYU99QtkUA\n",
      "    B45kBL6rxN7G2udwz2epQw\n"
     ]
    }
   ],
   "source": [
    "yelp_ids_1 = set(stations_places_df['yelp_id'].to_list())\n",
    "yelp_ids_2 = set(yelp_categories_df['yelp_id'].to_list())\n",
    "print(f'num yelp IDs: {len(yelp_ids_1)}, {len(yelp_ids_2)}')\n",
    "print(f'yelp_ids_2 contained in yelp_ids_1: {yelp_ids_2.issubset(yelp_ids_1)}')\n",
    "yelp_id_diff = yelp_ids_1 - yelp_ids_2\n",
    "print('yelp IDs in yelp_id_1 but not in yelp_id_2:')\n",
    "for id in yelp_id_diff:\n",
    "    print(f'    {id}')"
   ]
  },
  {
   "cell_type": "markdown",
   "metadata": {},
   "source": [
    "To ensure that I keep all businesses in the final merged DataFrame, I'll left merge stations_places_df to yelp_categories_df.  "
   ]
  },
  {
   "cell_type": "code",
   "execution_count": 11,
   "metadata": {},
   "outputs": [],
   "source": [
    "stations_places_cats_df =\\\n",
    "    stations_places_df.merge(yelp_categories_df, how='left', on='yelp_id')"
   ]
  },
  {
   "cell_type": "markdown",
   "metadata": {},
   "source": [
    "### Look at the data before and after the join to validate your data"
   ]
  },
  {
   "cell_type": "code",
   "execution_count": 12,
   "metadata": {},
   "outputs": [
    {
     "data": {
      "text/html": [
       "<div>\n",
       "<style scoped>\n",
       "    .dataframe tbody tr th:only-of-type {\n",
       "        vertical-align: middle;\n",
       "    }\n",
       "\n",
       "    .dataframe tbody tr th {\n",
       "        vertical-align: top;\n",
       "    }\n",
       "\n",
       "    .dataframe thead th {\n",
       "        text-align: right;\n",
       "    }\n",
       "</style>\n",
       "<table border=\"1\" class=\"dataframe\">\n",
       "  <thead>\n",
       "    <tr style=\"text-align: right;\">\n",
       "      <th></th>\n",
       "      <th>station_id</th>\n",
       "      <th>station_name</th>\n",
       "      <th>latitude</th>\n",
       "      <th>longitude</th>\n",
       "      <th>altitude</th>\n",
       "      <th>slots</th>\n",
       "      <th>free_bikes</th>\n",
       "      <th>empty_slots</th>\n",
       "      <th>yelp_id</th>\n",
       "      <th>place_name</th>\n",
       "      <th>review_count</th>\n",
       "      <th>price</th>\n",
       "      <th>rating</th>\n",
       "      <th>distance</th>\n",
       "      <th>category_name</th>\n",
       "    </tr>\n",
       "  </thead>\n",
       "  <tbody>\n",
       "    <tr>\n",
       "      <th>0</th>\n",
       "      <td>e1593acef03a0fd770595370586bc358</td>\n",
       "      <td>P31 - Estación Canal 13</td>\n",
       "      <td>-33.428334</td>\n",
       "      <td>-70.627312</td>\n",
       "      <td>599.0</td>\n",
       "      <td>13</td>\n",
       "      <td>6</td>\n",
       "      <td>7</td>\n",
       "      <td>8N6Y3HsLXHBeFwhlO0YxwQ</td>\n",
       "      <td>Barrica 94</td>\n",
       "      <td>78</td>\n",
       "      <td>2.0</td>\n",
       "      <td>4.3</td>\n",
       "      <td>988.631270</td>\n",
       "      <td>wine bars</td>\n",
       "    </tr>\n",
       "    <tr>\n",
       "      <th>1</th>\n",
       "      <td>e1593acef03a0fd770595370586bc358</td>\n",
       "      <td>P31 - Estación Canal 13</td>\n",
       "      <td>-33.428334</td>\n",
       "      <td>-70.627312</td>\n",
       "      <td>599.0</td>\n",
       "      <td>13</td>\n",
       "      <td>6</td>\n",
       "      <td>7</td>\n",
       "      <td>8N6Y3HsLXHBeFwhlO0YxwQ</td>\n",
       "      <td>Barrica 94</td>\n",
       "      <td>78</td>\n",
       "      <td>2.0</td>\n",
       "      <td>4.3</td>\n",
       "      <td>988.631270</td>\n",
       "      <td>chilean</td>\n",
       "    </tr>\n",
       "    <tr>\n",
       "      <th>2</th>\n",
       "      <td>e1593acef03a0fd770595370586bc358</td>\n",
       "      <td>P31 - Estación Canal 13</td>\n",
       "      <td>-33.428334</td>\n",
       "      <td>-70.627312</td>\n",
       "      <td>599.0</td>\n",
       "      <td>13</td>\n",
       "      <td>6</td>\n",
       "      <td>7</td>\n",
       "      <td>8N6Y3HsLXHBeFwhlO0YxwQ</td>\n",
       "      <td>Barrica 94</td>\n",
       "      <td>78</td>\n",
       "      <td>2.0</td>\n",
       "      <td>4.3</td>\n",
       "      <td>988.631270</td>\n",
       "      <td>cocktail bars</td>\n",
       "    </tr>\n",
       "    <tr>\n",
       "      <th>3</th>\n",
       "      <td>e1593acef03a0fd770595370586bc358</td>\n",
       "      <td>P31 - Estación Canal 13</td>\n",
       "      <td>-33.428334</td>\n",
       "      <td>-70.627312</td>\n",
       "      <td>599.0</td>\n",
       "      <td>13</td>\n",
       "      <td>6</td>\n",
       "      <td>7</td>\n",
       "      <td>U15KdCy6HH05WISNtN9plQ</td>\n",
       "      <td>Restaurant Peumayén</td>\n",
       "      <td>73</td>\n",
       "      <td>4.0</td>\n",
       "      <td>4.5</td>\n",
       "      <td>856.161401</td>\n",
       "      <td>latin american</td>\n",
       "    </tr>\n",
       "    <tr>\n",
       "      <th>4</th>\n",
       "      <td>e1593acef03a0fd770595370586bc358</td>\n",
       "      <td>P31 - Estación Canal 13</td>\n",
       "      <td>-33.428334</td>\n",
       "      <td>-70.627312</td>\n",
       "      <td>599.0</td>\n",
       "      <td>13</td>\n",
       "      <td>6</td>\n",
       "      <td>7</td>\n",
       "      <td>y2FR-JBGie4wiW6RjtKLhg</td>\n",
       "      <td>Aquí Está Coco</td>\n",
       "      <td>58</td>\n",
       "      <td>4.0</td>\n",
       "      <td>4.3</td>\n",
       "      <td>1099.691315</td>\n",
       "      <td>seafood</td>\n",
       "    </tr>\n",
       "  </tbody>\n",
       "</table>\n",
       "</div>"
      ],
      "text/plain": [
       "                         station_id             station_name   latitude  \\\n",
       "0  e1593acef03a0fd770595370586bc358  P31 - Estación Canal 13 -33.428334   \n",
       "1  e1593acef03a0fd770595370586bc358  P31 - Estación Canal 13 -33.428334   \n",
       "2  e1593acef03a0fd770595370586bc358  P31 - Estación Canal 13 -33.428334   \n",
       "3  e1593acef03a0fd770595370586bc358  P31 - Estación Canal 13 -33.428334   \n",
       "4  e1593acef03a0fd770595370586bc358  P31 - Estación Canal 13 -33.428334   \n",
       "\n",
       "   longitude  altitude  slots  free_bikes  empty_slots  \\\n",
       "0 -70.627312     599.0     13           6            7   \n",
       "1 -70.627312     599.0     13           6            7   \n",
       "2 -70.627312     599.0     13           6            7   \n",
       "3 -70.627312     599.0     13           6            7   \n",
       "4 -70.627312     599.0     13           6            7   \n",
       "\n",
       "                  yelp_id           place_name  review_count  price  rating  \\\n",
       "0  8N6Y3HsLXHBeFwhlO0YxwQ           Barrica 94            78    2.0     4.3   \n",
       "1  8N6Y3HsLXHBeFwhlO0YxwQ           Barrica 94            78    2.0     4.3   \n",
       "2  8N6Y3HsLXHBeFwhlO0YxwQ           Barrica 94            78    2.0     4.3   \n",
       "3  U15KdCy6HH05WISNtN9plQ  Restaurant Peumayén            73    4.0     4.5   \n",
       "4  y2FR-JBGie4wiW6RjtKLhg       Aquí Está Coco            58    4.0     4.3   \n",
       "\n",
       "      distance   category_name  \n",
       "0   988.631270       wine bars  \n",
       "1   988.631270         chilean  \n",
       "2   988.631270   cocktail bars  \n",
       "3   856.161401  latin american  \n",
       "4  1099.691315         seafood  "
      ]
     },
     "execution_count": 12,
     "metadata": {},
     "output_type": "execute_result"
    }
   ],
   "source": [
    "stations_places_cats_df.head()"
   ]
  },
  {
   "cell_type": "code",
   "execution_count": 13,
   "metadata": {},
   "outputs": [
    {
     "name": "stdout",
     "output_type": "stream",
     "text": [
      "shape: (15212, 15)\n",
      "columns:\n",
      " Index(['station_id', 'station_name', 'latitude', 'longitude', 'altitude',\n",
      "       'slots', 'free_bikes', 'empty_slots', 'yelp_id', 'place_name',\n",
      "       'review_count', 'price', 'rating', 'distance', 'category_name'],\n",
      "      dtype='object')\n",
      "dtypes:\n",
      " station_id        object\n",
      "station_name      object\n",
      "latitude         float64\n",
      "longitude        float64\n",
      "altitude         float64\n",
      "slots              int64\n",
      "free_bikes         int64\n",
      "empty_slots        int64\n",
      "yelp_id           object\n",
      "place_name        object\n",
      "review_count       int64\n",
      "price            float64\n",
      "rating           float64\n",
      "distance         float64\n",
      "category_name     object\n",
      "dtype: object\n"
     ]
    }
   ],
   "source": [
    "print(f'shape: {stations_places_cats_df.shape}')\n",
    "print(f'columns:\\n {stations_places_cats_df.columns}')\n",
    "print(f'dtypes:\\n {stations_places_cats_df.dtypes}')"
   ]
  },
  {
   "cell_type": "code",
   "execution_count": 14,
   "metadata": {},
   "outputs": [],
   "source": [
    "export(stations_places_cats_df, 'stations_places_cats.csv')"
   ]
  },
  {
   "cell_type": "markdown",
   "metadata": {},
   "source": [
    "### EDA with visualizations"
   ]
  },
  {
   "cell_type": "markdown",
   "metadata": {},
   "source": [
    "Provide a visualization that you used as part of your EDA process. Explain the initial pattern or relationship you discoved through this visualization. "
   ]
  },
  {
   "cell_type": "markdown",
   "metadata": {},
   "source": [
    "#### `stations_df` "
   ]
  },
  {
   "cell_type": "markdown",
   "metadata": {},
   "source": [
    "I'll start off easy by looking at the columns of `stations_df` for interesting relationships pertaining to the number of bikes available."
   ]
  },
  {
   "cell_type": "code",
   "execution_count": 35,
   "metadata": {},
   "outputs": [
    {
     "data": {
      "text/plain": [
       "array([[<Axes: title={'center': 'free_bikes'}>,\n",
       "        <Axes: title={'center': 'latitude'}>],\n",
       "       [<Axes: title={'center': 'longitude'}>,\n",
       "        <Axes: title={'center': 'altitude'}>],\n",
       "       [<Axes: title={'center': 'slots'}>,\n",
       "        <Axes: title={'center': 'empty_slots'}>]], dtype=object)"
      ]
     },
     "execution_count": 35,
     "metadata": {},
     "output_type": "execute_result"
    },
    {
     "data": {
      "image/png": "[encoded data removed]",
      "text/plain": [
       "<Figure size 800x1000 with 6 Axes>"
      ]
     },
     "metadata": {},
     "output_type": "display_data"
    }
   ],
   "source": [
    "cols = ['free_bikes', 'latitude', 'longitude', 'altitude', 'slots', 'empty_slots']\n",
    "stations_df[cols].hist(figsize=(8, 10))"
   ]
  },
  {
   "cell_type": "code",
   "execution_count": 37,
   "metadata": {},
   "outputs": [
    {
     "data": {
      "image/png": "[encoded data removed]",
      "text/plain": [
       "<Figure size 800x400 with 3 Axes>"
      ]
     },
     "metadata": {},
     "output_type": "display_data"
    }
   ],
   "source": [
    "fig, axes = plt.subplots(nrows=1, ncols=3, figsize=(8, 4))\n",
    "stations_df.plot.scatter(x='latitude', y='free_bikes', ax=axes[0])\n",
    "stations_df.plot.scatter(x='longitude', y='free_bikes', ax=axes[1])\n",
    "stations_df.plot.scatter(x='altitude', y='free_bikes', ax=axes[2])\n",
    "fig.tight_layout()"
   ]
  },
  {
   "cell_type": "code",
   "execution_count": 38,
   "metadata": {},
   "outputs": [
    {
     "data": {
      "image/png": "[encoded data removed]",
      "text/plain": [
       "<Figure size 600x400 with 2 Axes>"
      ]
     },
     "metadata": {},
     "output_type": "display_data"
    }
   ],
   "source": [
    "fig, axes = plt.subplots(nrows=1, ncols=2, figsize=(6, 4))\n",
    "stations_df.plot.scatter(x='slots', y='free_bikes', ax=axes[0])\n",
    "stations_df.plot.scatter(x='empty_slots', y='free_bikes', ax=axes[1])\n",
    "fig.tight_layout()"
   ]
  },
  {
   "cell_type": "code",
   "execution_count": 47,
   "metadata": {},
   "outputs": [
    {
     "data": {
      "text/plain": [
       "<Axes: >"
      ]
     },
     "execution_count": 47,
     "metadata": {},
     "output_type": "execute_result"
    },
    {
     "data": {
      "image/png": "[encoded data removed]",
      "text/plain": [
       "<Figure size 640x480 with 2 Axes>"
      ]
     },
     "metadata": {},
     "output_type": "display_data"
    }
   ],
   "source": [
    "sns.heatmap(stations_df[cols].corr(), annot=True, square=True, cmap='Oranges')"
   ]
  },
  {
   "cell_type": "markdown",
   "metadata": {},
   "source": [
    "#### Conclusions"
   ]
  },
  {
   "cell_type": "markdown",
   "metadata": {},
   "source": [
    "Restricting attention to the columns of `stations_df`, the number of free bikes is moderately/strongly correlated with slots suggesting that, at larger bike stations, there is a higher chance of a bike being available. That seems pretty reasonable. I thought there would be a stronger negative correlation between the number of free bikes and altitude: my hunch was that people would be less likely to return bikes to high-altitude bike stations because they didn't want to cycle uphill. That doesn't seem to be the case however."
   ]
  },
  {
   "cell_type": "markdown",
   "metadata": {},
   "source": [
    "#### `stations_places_cats_df`"
   ]
  },
  {
   "cell_type": "markdown",
   "metadata": {},
   "source": [
    "Next, I'll look for nontrivial relationships between the number of free bikes at a station and the number of nearby points of interest."
   ]
  },
  {
   "cell_type": "code",
   "execution_count": null,
   "metadata": {},
   "outputs": [],
   "source": []
  },
  {
   "cell_type": "markdown",
   "metadata": {},
   "source": [
    "# Database"
   ]
  },
  {
   "cell_type": "markdown",
   "metadata": {},
   "source": [
    "### Put results in an SQLite database"
   ]
  },
  {
   "cell_type": "code",
   "execution_count": 15,
   "metadata": {},
   "outputs": [],
   "source": [
    "# Define a SQLite connection and cursor.\n",
    "# Note that dirname was defined above.\n",
    "con = sqlite3.connect(dirname + 'stations_places_cats.db')\n",
    "cur = con.cursor()"
   ]
  },
  {
   "cell_type": "code",
   "execution_count": 16,
   "metadata": {},
   "outputs": [
    {
     "data": {
      "text/plain": [
       "station_id        object\n",
       "station_name      object\n",
       "latitude         float64\n",
       "longitude        float64\n",
       "altitude         float64\n",
       "slots              int64\n",
       "free_bikes         int64\n",
       "empty_slots        int64\n",
       "yelp_id           object\n",
       "place_name        object\n",
       "review_count       int64\n",
       "price            float64\n",
       "rating           float64\n",
       "distance         float64\n",
       "category_name     object\n",
       "dtype: object"
      ]
     },
     "execution_count": 16,
     "metadata": {},
     "output_type": "execute_result"
    }
   ],
   "source": [
    "stations_places_cats_df.dtypes"
   ]
  },
  {
   "cell_type": "code",
   "execution_count": 17,
   "metadata": {},
   "outputs": [
    {
     "name": "stdout",
     "output_type": "stream",
     "text": [
      "\n",
      "    CREATE TABLE stations_places_cats (\n",
      "        station_id TEXT,\n",
      "        station_name TEXT,\n",
      "        latitude REAL,\n",
      "        longitude REAL,\n",
      "        altitude REAL,\n",
      "        slots INTEGER,\n",
      "        free_bikes INTEGER,\n",
      "        empty_slots INTEGER,\n",
      "        yelp_id TEXT,\n",
      "        place_name TEXT,\n",
      "        review_count INTEGER,\n",
      "        price REAL,\n",
      "        rating REAL,\n",
      "        distance REAL,\n",
      "        category_name TEXT\n",
      "    );\n",
      "\n"
     ]
    }
   ],
   "source": [
    "# Define the SQLite table creation command before executing it.\n",
    "sql_create_cmd = r\"\"\"\n",
    "    CREATE TABLE stations_places_cats (\n",
    "        station_id TEXT,\n",
    "        station_name TEXT,\n",
    "        latitude REAL,\n",
    "        longitude REAL,\n",
    "        altitude REAL,\n",
    "        slots INTEGER,\n",
    "        free_bikes INTEGER,\n",
    "        empty_slots INTEGER,\n",
    "        yelp_id TEXT,\n",
    "        place_name TEXT,\n",
    "        review_count INTEGER,\n",
    "        price REAL,\n",
    "        rating REAL,\n",
    "        distance REAL,\n",
    "        category_name TEXT\n",
    "    );\n",
    "\"\"\"\n",
    "print(sql_create_cmd)"
   ]
  },
  {
   "cell_type": "code",
   "execution_count": 18,
   "metadata": {},
   "outputs": [
    {
     "data": {
      "text/plain": [
       "<sqlite3.Cursor at 0x7f53bda1e740>"
      ]
     },
     "execution_count": 18,
     "metadata": {},
     "output_type": "execute_result"
    }
   ],
   "source": [
    "cur.execute('DROP TABLE IF EXISTS stations_places_cats')\n",
    "cur.execute(sql_create_cmd)"
   ]
  },
  {
   "cell_type": "code",
   "execution_count": 19,
   "metadata": {},
   "outputs": [
    {
     "data": {
      "text/plain": [
       "('stations_places_cats',)"
      ]
     },
     "execution_count": 19,
     "metadata": {},
     "output_type": "execute_result"
    }
   ],
   "source": [
    "res = cur.execute('SELECT name FROM sqlite_master')\n",
    "res.fetchone()"
   ]
  },
  {
   "cell_type": "markdown",
   "metadata": {},
   "source": [
    "I've successfully created a database. But it's empty. To fill it:"
   ]
  },
  {
   "cell_type": "code",
   "execution_count": 20,
   "metadata": {},
   "outputs": [],
   "source": [
    "def sql_insert_cmd(df: pd.DataFrame, db: str, row: int) -> str:\n",
    "    \"\"\"\n",
    "    Return the SQL command that will insert a DataFrame row into the database.\n",
    "    \"\"\"\n",
    "    row_list = df.loc[row, :].to_list()\n",
    "    row_str = str(row_list).replace('nan', 'NULL').replace('[', '(').replace(']', ')')\n",
    "    return 'INSERT INTO ' + db + ' VALUES ' + row_str"
   ]
  },
  {
   "cell_type": "code",
   "execution_count": 21,
   "metadata": {},
   "outputs": [],
   "source": [
    "for row in range(stations_places_cats_df.shape[0]):\n",
    "    sql_cmd = sql_insert_cmd(stations_places_cats_df, 'stations_places_cats', row)\n",
    "    cur.execute(sql_cmd)"
   ]
  },
  {
   "cell_type": "code",
   "execution_count": 22,
   "metadata": {},
   "outputs": [],
   "source": [
    "con.commit()"
   ]
  },
  {
   "cell_type": "markdown",
   "metadata": {},
   "source": [
    "I'll verify that inserting into the database woked as expected."
   ]
  },
  {
   "cell_type": "code",
   "execution_count": 23,
   "metadata": {},
   "outputs": [
    {
     "name": "stdout",
     "output_type": "stream",
     "text": [
      "num rows: 15212, num cols: 15\n"
     ]
    },
    {
     "data": {
      "text/plain": [
       "('e1593acef03a0fd770595370586bc358',\n",
       " 'P31 - Estación Canal 13',\n",
       " -33.428334,\n",
       " -70.627312,\n",
       " 599.0,\n",
       " 13,\n",
       " 6,\n",
       " 7,\n",
       " '8N6Y3HsLXHBeFwhlO0YxwQ',\n",
       " 'Barrica 94',\n",
       " 78,\n",
       " 2.0,\n",
       " 4.3,\n",
       " 988.6312698678696,\n",
       " 'wine bars')"
      ]
     },
     "execution_count": 23,
     "metadata": {},
     "output_type": "execute_result"
    }
   ],
   "source": [
    "res = cur.execute('SELECT * FROM stations_places_cats')\n",
    "records = res.fetchall()\n",
    "print(f'num rows: {len(records)}, num cols: {len(records[0])}')\n",
    "records[0]"
   ]
  },
  {
   "cell_type": "markdown",
   "metadata": {},
   "source": [
    "Phew!"
   ]
  },
  {
   "cell_type": "code",
   "execution_count": null,
   "metadata": {},
   "outputs": [],
   "source": []
  }
 ],
 "metadata": {
  "kernelspec": {
   "display_name": "Python 3 (ipykernel)",
   "language": "python",
   "name": "python3"
  },
  "language_info": {
   "codemirror_mode": {
    "name": "ipython",
    "version": 3
   },
   "file_extension": ".py",
   "mimetype": "text/x-python",
   "name": "python",
   "nbconvert_exporter": "python",
   "pygments_lexer": "ipython3",
   "version": "3.12.2"
  }
 },
 "nbformat": 4,
 "nbformat_minor": 4
}
