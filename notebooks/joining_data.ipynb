{
 "cells": [
  {
   "cell_type": "markdown",
   "metadata": {},
   "source": [
    "# Part 3: Joining Data"
   ]
  },
  {
   "cell_type": "markdown",
   "metadata": {},
   "source": [
    "## Imports"
   ]
  },
  {
   "cell_type": "code",
   "execution_count": 59,
   "metadata": {},
   "outputs": [],
   "source": [
    "import pandas as pd\n",
    "import sqlite3\n",
    "\n",
    "from utils import export"
   ]
  },
  {
   "cell_type": "markdown",
   "metadata": {},
   "source": [
    "## Join Part 1 and Part 2 data to create a new dataframe"
   ]
  },
  {
   "cell_type": "code",
   "execution_count": 2,
   "metadata": {},
   "outputs": [],
   "source": [
    "dirname = '../data/'\n",
    "stations_df = pd.read_csv(dirname + 'stations_clean.csv', sep=',', index_col=False)\n",
    "yelp_places_df = pd.read_csv(dirname + 'yelp_places_clean.csv', sep=',', index_col=False)\n",
    "yelp_categories_df = pd.read_csv(dirname + 'yelp_categories_clean.csv', sep=',', index_col=False)"
   ]
  },
  {
   "cell_type": "code",
   "execution_count": 4,
   "metadata": {},
   "outputs": [
    {
     "data": {
      "text/html": [
       "<div>\n",
       "<style scoped>\n",
       "    .dataframe tbody tr th:only-of-type {\n",
       "        vertical-align: middle;\n",
       "    }\n",
       "\n",
       "    .dataframe tbody tr th {\n",
       "        vertical-align: top;\n",
       "    }\n",
       "\n",
       "    .dataframe thead th {\n",
       "        text-align: right;\n",
       "    }\n",
       "</style>\n",
       "<table border=\"1\" class=\"dataframe\">\n",
       "  <thead>\n",
       "    <tr style=\"text-align: right;\">\n",
       "      <th></th>\n",
       "      <th>station_id</th>\n",
       "      <th>name</th>\n",
       "      <th>latitude</th>\n",
       "      <th>longitude</th>\n",
       "      <th>altitude</th>\n",
       "      <th>slots</th>\n",
       "      <th>free_bikes</th>\n",
       "      <th>empty_slots</th>\n",
       "    </tr>\n",
       "  </thead>\n",
       "  <tbody>\n",
       "    <tr>\n",
       "      <th>69</th>\n",
       "      <td>90352566ee5193e528aeadc8f07619f1</td>\n",
       "      <td>LC014 - Parque Araucano</td>\n",
       "      <td>-33.403727</td>\n",
       "      <td>-70.573429</td>\n",
       "      <td>690.0</td>\n",
       "      <td>17</td>\n",
       "      <td>5</td>\n",
       "      <td>11</td>\n",
       "    </tr>\n",
       "    <tr>\n",
       "      <th>124</th>\n",
       "      <td>bde0622e2e2c885c602ddc359b7115ee</td>\n",
       "      <td>LC036 - Las Condes / Valle Alegre</td>\n",
       "      <td>-33.378284</td>\n",
       "      <td>-70.528372</td>\n",
       "      <td>788.0</td>\n",
       "      <td>11</td>\n",
       "      <td>6</td>\n",
       "      <td>5</td>\n",
       "    </tr>\n",
       "    <tr>\n",
       "      <th>1</th>\n",
       "      <td>3983dd515589a80338dd44a28f5ec414</td>\n",
       "      <td>V34 - Mestizo</td>\n",
       "      <td>-33.394000</td>\n",
       "      <td>-70.600000</td>\n",
       "      <td>655.0</td>\n",
       "      <td>23</td>\n",
       "      <td>8</td>\n",
       "      <td>15</td>\n",
       "    </tr>\n",
       "    <tr>\n",
       "      <th>137</th>\n",
       "      <td>45d51e231d79a803aa7b2d1a41d1fc3f</td>\n",
       "      <td>P45 - Eliodoro Yañez / Holanda</td>\n",
       "      <td>-33.429568</td>\n",
       "      <td>-70.600625</td>\n",
       "      <td>620.0</td>\n",
       "      <td>14</td>\n",
       "      <td>2</td>\n",
       "      <td>11</td>\n",
       "    </tr>\n",
       "    <tr>\n",
       "      <th>15</th>\n",
       "      <td>183c0afbd2b3824204f4433b4fe7e2ac</td>\n",
       "      <td>V06 - Vespucio / Vitacura</td>\n",
       "      <td>-33.399090</td>\n",
       "      <td>-70.588239</td>\n",
       "      <td>680.0</td>\n",
       "      <td>14</td>\n",
       "      <td>9</td>\n",
       "      <td>5</td>\n",
       "    </tr>\n",
       "  </tbody>\n",
       "</table>\n",
       "</div>"
      ],
      "text/plain": [
       "                           station_id                               name  \\\n",
       "69   90352566ee5193e528aeadc8f07619f1            LC014 - Parque Araucano   \n",
       "124  bde0622e2e2c885c602ddc359b7115ee  LC036 - Las Condes / Valle Alegre   \n",
       "1    3983dd515589a80338dd44a28f5ec414                      V34 - Mestizo   \n",
       "137  45d51e231d79a803aa7b2d1a41d1fc3f     P45 - Eliodoro Yañez / Holanda   \n",
       "15   183c0afbd2b3824204f4433b4fe7e2ac          V06 - Vespucio / Vitacura   \n",
       "\n",
       "      latitude  longitude  altitude  slots  free_bikes  empty_slots  \n",
       "69  -33.403727 -70.573429     690.0     17           5           11  \n",
       "124 -33.378284 -70.528372     788.0     11           6            5  \n",
       "1   -33.394000 -70.600000     655.0     23           8           15  \n",
       "137 -33.429568 -70.600625     620.0     14           2           11  \n",
       "15  -33.399090 -70.588239     680.0     14           9            5  "
      ]
     },
     "execution_count": 4,
     "metadata": {},
     "output_type": "execute_result"
    }
   ],
   "source": [
    "stations_df.sample(5)"
   ]
  },
  {
   "cell_type": "code",
   "execution_count": 5,
   "metadata": {},
   "outputs": [
    {
     "data": {
      "text/html": [
       "<div>\n",
       "<style scoped>\n",
       "    .dataframe tbody tr th:only-of-type {\n",
       "        vertical-align: middle;\n",
       "    }\n",
       "\n",
       "    .dataframe tbody tr th {\n",
       "        vertical-align: top;\n",
       "    }\n",
       "\n",
       "    .dataframe thead th {\n",
       "        text-align: right;\n",
       "    }\n",
       "</style>\n",
       "<table border=\"1\" class=\"dataframe\">\n",
       "  <thead>\n",
       "    <tr style=\"text-align: right;\">\n",
       "      <th></th>\n",
       "      <th>yelp_id</th>\n",
       "      <th>name</th>\n",
       "      <th>review_count</th>\n",
       "      <th>price</th>\n",
       "      <th>rating</th>\n",
       "      <th>distance</th>\n",
       "      <th>station_id</th>\n",
       "    </tr>\n",
       "  </thead>\n",
       "  <tbody>\n",
       "    <tr>\n",
       "      <th>8665</th>\n",
       "      <td>DO8t_u9A0sWMg3Lt_p9WYA</td>\n",
       "      <td>La Casa en el Aire</td>\n",
       "      <td>8</td>\n",
       "      <td>2.0</td>\n",
       "      <td>3.9</td>\n",
       "      <td>233.624118</td>\n",
       "      <td>7107177993db3b28510d1c549988933e</td>\n",
       "    </tr>\n",
       "    <tr>\n",
       "      <th>6590</th>\n",
       "      <td>cFBSISEk7mkAekUsNVp-1Q</td>\n",
       "      <td>Tostaduría Maravilla</td>\n",
       "      <td>3</td>\n",
       "      <td>NaN</td>\n",
       "      <td>4.3</td>\n",
       "      <td>27.879315</td>\n",
       "      <td>cf82a49da234dca3281e8dabbf84a949</td>\n",
       "    </tr>\n",
       "    <tr>\n",
       "      <th>4566</th>\n",
       "      <td>6MKqYt9Ab6yN7q9qz1ppfA</td>\n",
       "      <td>Tiare Restaurant</td>\n",
       "      <td>2</td>\n",
       "      <td>NaN</td>\n",
       "      <td>3.5</td>\n",
       "      <td>1180.269868</td>\n",
       "      <td>9c00c9be4009c8b5a4f324ef558239a7</td>\n",
       "    </tr>\n",
       "    <tr>\n",
       "      <th>9569</th>\n",
       "      <td>LGwEqYL0reUsRdtqE44ITQ</td>\n",
       "      <td>Chipe Libre - República Independiente del Pisco</td>\n",
       "      <td>80</td>\n",
       "      <td>3.0</td>\n",
       "      <td>4.5</td>\n",
       "      <td>867.148232</td>\n",
       "      <td>203d5ff11fe62fefdd74920ddd431c15</td>\n",
       "    </tr>\n",
       "    <tr>\n",
       "      <th>7936</th>\n",
       "      <td>PS7Y3zRGs4xh1GGyZKm_Nw</td>\n",
       "      <td>Elkika Ilmenau Tobalaba</td>\n",
       "      <td>21</td>\n",
       "      <td>2.0</td>\n",
       "      <td>3.6</td>\n",
       "      <td>510.425759</td>\n",
       "      <td>ca71578b9ff5c3086bb1683947a9d557</td>\n",
       "    </tr>\n",
       "  </tbody>\n",
       "</table>\n",
       "</div>"
      ],
      "text/plain": [
       "                     yelp_id                                             name  \\\n",
       "8665  DO8t_u9A0sWMg3Lt_p9WYA                               La Casa en el Aire   \n",
       "6590  cFBSISEk7mkAekUsNVp-1Q                             Tostaduría Maravilla   \n",
       "4566  6MKqYt9Ab6yN7q9qz1ppfA                                 Tiare Restaurant   \n",
       "9569  LGwEqYL0reUsRdtqE44ITQ  Chipe Libre - República Independiente del Pisco   \n",
       "7936  PS7Y3zRGs4xh1GGyZKm_Nw                          Elkika Ilmenau Tobalaba   \n",
       "\n",
       "      review_count  price  rating     distance  \\\n",
       "8665             8    2.0     3.9   233.624118   \n",
       "6590             3    NaN     4.3    27.879315   \n",
       "4566             2    NaN     3.5  1180.269868   \n",
       "9569            80    3.0     4.5   867.148232   \n",
       "7936            21    2.0     3.6   510.425759   \n",
       "\n",
       "                            station_id  \n",
       "8665  7107177993db3b28510d1c549988933e  \n",
       "6590  cf82a49da234dca3281e8dabbf84a949  \n",
       "4566  9c00c9be4009c8b5a4f324ef558239a7  \n",
       "9569  203d5ff11fe62fefdd74920ddd431c15  \n",
       "7936  ca71578b9ff5c3086bb1683947a9d557  "
      ]
     },
     "execution_count": 5,
     "metadata": {},
     "output_type": "execute_result"
    }
   ],
   "source": [
    "yelp_places_df.sample(5)"
   ]
  },
  {
   "cell_type": "code",
   "execution_count": 6,
   "metadata": {},
   "outputs": [
    {
     "data": {
      "text/html": [
       "<div>\n",
       "<style scoped>\n",
       "    .dataframe tbody tr th:only-of-type {\n",
       "        vertical-align: middle;\n",
       "    }\n",
       "\n",
       "    .dataframe tbody tr th {\n",
       "        vertical-align: top;\n",
       "    }\n",
       "\n",
       "    .dataframe thead th {\n",
       "        text-align: right;\n",
       "    }\n",
       "</style>\n",
       "<table border=\"1\" class=\"dataframe\">\n",
       "  <thead>\n",
       "    <tr style=\"text-align: right;\">\n",
       "      <th></th>\n",
       "      <th>yelp_id</th>\n",
       "      <th>category_name</th>\n",
       "    </tr>\n",
       "  </thead>\n",
       "  <tbody>\n",
       "    <tr>\n",
       "      <th>1745</th>\n",
       "      <td>nFnsqiq9UVhACMHHFGeL5w</td>\n",
       "      <td>cafes</td>\n",
       "    </tr>\n",
       "    <tr>\n",
       "      <th>2</th>\n",
       "      <td>8N6Y3HsLXHBeFwhlO0YxwQ</td>\n",
       "      <td>cocktail bars</td>\n",
       "    </tr>\n",
       "    <tr>\n",
       "      <th>1423</th>\n",
       "      <td>0KbH2csVBJ5Pfm8fbRikyw</td>\n",
       "      <td>ice cream &amp; frozen yogurt</td>\n",
       "    </tr>\n",
       "    <tr>\n",
       "      <th>1261</th>\n",
       "      <td>Jg8K0xZqSV3LCgswX0dX5A</td>\n",
       "      <td>empanadas</td>\n",
       "    </tr>\n",
       "    <tr>\n",
       "      <th>2189</th>\n",
       "      <td>wuU-3z2I46dKlI51xeXAwA</td>\n",
       "      <td>kids activities</td>\n",
       "    </tr>\n",
       "  </tbody>\n",
       "</table>\n",
       "</div>"
      ],
      "text/plain": [
       "                     yelp_id              category_name\n",
       "1745  nFnsqiq9UVhACMHHFGeL5w                      cafes\n",
       "2     8N6Y3HsLXHBeFwhlO0YxwQ              cocktail bars\n",
       "1423  0KbH2csVBJ5Pfm8fbRikyw  ice cream & frozen yogurt\n",
       "1261  Jg8K0xZqSV3LCgswX0dX5A                  empanadas\n",
       "2189  wuU-3z2I46dKlI51xeXAwA            kids activities"
      ]
     },
     "execution_count": 6,
     "metadata": {},
     "output_type": "execute_result"
    }
   ],
   "source": [
    "yelp_categories_df.sample(5)"
   ]
  },
  {
   "cell_type": "markdown",
   "metadata": {},
   "source": [
    "Are there any station_ids that are in `stations_df` but not in `yelp_places_df`? (Spoiler: there shouldn't be!)"
   ]
  },
  {
   "cell_type": "code",
   "execution_count": 21,
   "metadata": {},
   "outputs": [
    {
     "data": {
      "text/plain": [
       "(True, True)"
      ]
     },
     "execution_count": 21,
     "metadata": {},
     "output_type": "execute_result"
    }
   ],
   "source": [
    "station_ids = set(stations_df['station_id'].to_list())\n",
    "yelp_station_ids = set(yelp_places_df['station_id'].to_list())\n",
    "station_ids.issubset(yelp_station_ids), yelp_station_ids.issubset(station_ids)"
   ]
  },
  {
   "cell_type": "markdown",
   "metadata": {},
   "source": [
    "The sets of station_ids in `stations_df` and `yelp_places_df` are equal. Therefore, I'll (inner) merge (*i.e.* SQL join) these two tables on `station_id`. But, first, I'll rename a pair of columns to avoid future confusion."
   ]
  },
  {
   "cell_type": "code",
   "execution_count": 33,
   "metadata": {},
   "outputs": [],
   "source": [
    "stations_df.rename({'name': 'station_name'}, axis='columns', inplace=True)\n",
    "yelp_places_df.rename({'name': 'place_name'}, axis='columns', inplace=True)"
   ]
  },
  {
   "cell_type": "code",
   "execution_count": 34,
   "metadata": {},
   "outputs": [],
   "source": [
    "stations_places_df = stations_df.merge(yelp_places_df, how='inner', on='station_id')"
   ]
  },
  {
   "cell_type": "code",
   "execution_count": 35,
   "metadata": {},
   "outputs": [
    {
     "data": {
      "text/html": [
       "<div>\n",
       "<style scoped>\n",
       "    .dataframe tbody tr th:only-of-type {\n",
       "        vertical-align: middle;\n",
       "    }\n",
       "\n",
       "    .dataframe tbody tr th {\n",
       "        vertical-align: top;\n",
       "    }\n",
       "\n",
       "    .dataframe thead th {\n",
       "        text-align: right;\n",
       "    }\n",
       "</style>\n",
       "<table border=\"1\" class=\"dataframe\">\n",
       "  <thead>\n",
       "    <tr style=\"text-align: right;\">\n",
       "      <th></th>\n",
       "      <th>station_id</th>\n",
       "      <th>station_name</th>\n",
       "      <th>latitude</th>\n",
       "      <th>longitude</th>\n",
       "      <th>altitude</th>\n",
       "      <th>slots</th>\n",
       "      <th>free_bikes</th>\n",
       "      <th>empty_slots</th>\n",
       "      <th>yelp_id</th>\n",
       "      <th>place_name</th>\n",
       "      <th>review_count</th>\n",
       "      <th>price</th>\n",
       "      <th>rating</th>\n",
       "      <th>distance</th>\n",
       "    </tr>\n",
       "  </thead>\n",
       "  <tbody>\n",
       "    <tr>\n",
       "      <th>1852</th>\n",
       "      <td>c393f4dec0bacaf5f06dfbac66cfdba0</td>\n",
       "      <td>P38 - Québec</td>\n",
       "      <td>-33.436129</td>\n",
       "      <td>-70.625881</td>\n",
       "      <td>592.0</td>\n",
       "      <td>15</td>\n",
       "      <td>4</td>\n",
       "      <td>10</td>\n",
       "      <td>7-68GEE37qW-_rGS2tldzQ</td>\n",
       "      <td>Siete Negronis</td>\n",
       "      <td>9</td>\n",
       "      <td>3.0</td>\n",
       "      <td>4.4</td>\n",
       "      <td>824.683136</td>\n",
       "    </tr>\n",
       "    <tr>\n",
       "      <th>8653</th>\n",
       "      <td>7107177993db3b28510d1c549988933e</td>\n",
       "      <td>P21 - Patio Bellavista</td>\n",
       "      <td>-33.434170</td>\n",
       "      <td>-70.634461</td>\n",
       "      <td>587.0</td>\n",
       "      <td>23</td>\n",
       "      <td>1</td>\n",
       "      <td>20</td>\n",
       "      <td>ZKpwNAFay09AiBHPX7jdNw</td>\n",
       "      <td>Original Green Roasters</td>\n",
       "      <td>24</td>\n",
       "      <td>2.0</td>\n",
       "      <td>4.5</td>\n",
       "      <td>825.542787</td>\n",
       "    </tr>\n",
       "    <tr>\n",
       "      <th>3372</th>\n",
       "      <td>90352566ee5193e528aeadc8f07619f1</td>\n",
       "      <td>LC014 - Parque Araucano</td>\n",
       "      <td>-33.403727</td>\n",
       "      <td>-70.573429</td>\n",
       "      <td>690.0</td>\n",
       "      <td>17</td>\n",
       "      <td>5</td>\n",
       "      <td>11</td>\n",
       "      <td>Ued5I7gMq6K448roG3-vWw</td>\n",
       "      <td>Emporio Armani Caffe</td>\n",
       "      <td>5</td>\n",
       "      <td>NaN</td>\n",
       "      <td>3.8</td>\n",
       "      <td>522.574415</td>\n",
       "    </tr>\n",
       "    <tr>\n",
       "      <th>8471</th>\n",
       "      <td>eefd9aa3f553ab4d75d52f68a5ff90d4</td>\n",
       "      <td>N13 - Ricardo Lyon / Hernan Cortes</td>\n",
       "      <td>-33.446733</td>\n",
       "      <td>-70.602506</td>\n",
       "      <td>600.0</td>\n",
       "      <td>15</td>\n",
       "      <td>5</td>\n",
       "      <td>10</td>\n",
       "      <td>_8tBXpRH7wpyiOwml4QNIg</td>\n",
       "      <td>Bar Valdivia</td>\n",
       "      <td>3</td>\n",
       "      <td>NaN</td>\n",
       "      <td>4.3</td>\n",
       "      <td>956.644486</td>\n",
       "    </tr>\n",
       "    <tr>\n",
       "      <th>148</th>\n",
       "      <td>405a3a5ca08c7536d3eb286cf8553025</td>\n",
       "      <td>V10 - Casa Costanera</td>\n",
       "      <td>-33.398000</td>\n",
       "      <td>-70.598000</td>\n",
       "      <td>653.0</td>\n",
       "      <td>11</td>\n",
       "      <td>8</td>\n",
       "      <td>3</td>\n",
       "      <td>mfwL_53Wdl4212bEWJsu_A</td>\n",
       "      <td>El Lobby Millesime</td>\n",
       "      <td>1</td>\n",
       "      <td>NaN</td>\n",
       "      <td>5.0</td>\n",
       "      <td>635.712939</td>\n",
       "    </tr>\n",
       "  </tbody>\n",
       "</table>\n",
       "</div>"
      ],
      "text/plain": [
       "                            station_id                        station_name  \\\n",
       "1852  c393f4dec0bacaf5f06dfbac66cfdba0                        P38 - Québec   \n",
       "8653  7107177993db3b28510d1c549988933e              P21 - Patio Bellavista   \n",
       "3372  90352566ee5193e528aeadc8f07619f1             LC014 - Parque Araucano   \n",
       "8471  eefd9aa3f553ab4d75d52f68a5ff90d4  N13 - Ricardo Lyon / Hernan Cortes   \n",
       "148   405a3a5ca08c7536d3eb286cf8553025                V10 - Casa Costanera   \n",
       "\n",
       "       latitude  longitude  altitude  slots  free_bikes  empty_slots  \\\n",
       "1852 -33.436129 -70.625881     592.0     15           4           10   \n",
       "8653 -33.434170 -70.634461     587.0     23           1           20   \n",
       "3372 -33.403727 -70.573429     690.0     17           5           11   \n",
       "8471 -33.446733 -70.602506     600.0     15           5           10   \n",
       "148  -33.398000 -70.598000     653.0     11           8            3   \n",
       "\n",
       "                     yelp_id               place_name  review_count  price  \\\n",
       "1852  7-68GEE37qW-_rGS2tldzQ           Siete Negronis             9    3.0   \n",
       "8653  ZKpwNAFay09AiBHPX7jdNw  Original Green Roasters            24    2.0   \n",
       "3372  Ued5I7gMq6K448roG3-vWw     Emporio Armani Caffe             5    NaN   \n",
       "8471  _8tBXpRH7wpyiOwml4QNIg             Bar Valdivia             3    NaN   \n",
       "148   mfwL_53Wdl4212bEWJsu_A       El Lobby Millesime             1    NaN   \n",
       "\n",
       "      rating    distance  \n",
       "1852     4.4  824.683136  \n",
       "8653     4.5  825.542787  \n",
       "3372     3.8  522.574415  \n",
       "8471     4.3  956.644486  \n",
       "148      5.0  635.712939  "
      ]
     },
     "execution_count": 35,
     "metadata": {},
     "output_type": "execute_result"
    }
   ],
   "source": [
    "stations_places_df.sample(5)"
   ]
  },
  {
   "cell_type": "markdown",
   "metadata": {},
   "source": [
    "Next, I could merge `stations_places_df` with `yelp_categories_df` on `yelp_id`. The column `station_id` will not longer serve as a primary key however."
   ]
  },
  {
   "cell_type": "markdown",
   "metadata": {},
   "source": [
    "Are there any yelp_ids that are in `stations_places_df` that are not in `yelp_categories_df`? It's certainly possible that there are businesses returned by a Yelp search that don't have any associated categories."
   ]
  },
  {
   "cell_type": "code",
   "execution_count": 48,
   "metadata": {},
   "outputs": [
    {
     "name": "stdout",
     "output_type": "stream",
     "text": [
      "num yelp IDs: 1756, 1748\n",
      "yelp_ids_2 contained in yelp_ids_1: True\n",
      "yelp IDs in yelp_id_1 but not in yelp_id_2:\n",
      "    JX_Axp2MRPwmDhHUw0hZqw\n",
      "    S3qk-oT76pT6G_VA4Y4j0w\n",
      "    pLh6ImLqAWPWNICWUz70Uw\n",
      "    6XnJsC8OZyLuRoWN9wRmEA\n",
      "    JcJrUd2jyEGUCYU99QtkUA\n",
      "    g79bELS1rZheFdxkXmzKtw\n",
      "    B45kBL6rxN7G2udwz2epQw\n",
      "    05SHJ9668PZQXIhMjp9ACA\n"
     ]
    }
   ],
   "source": [
    "yelp_ids_1 = set(stations_places_df['yelp_id'].to_list())\n",
    "yelp_ids_2 = set(yelp_categories_df['yelp_id'].to_list())\n",
    "print(f'num yelp IDs: {len(yelp_ids_1)}, {len(yelp_ids_2)}')\n",
    "print(f'yelp_ids_2 contained in yelp_ids_1: {yelp_ids_2.issubset(yelp_ids_1)}')\n",
    "yelp_id_diff = yelp_ids_1 - yelp_ids_2\n",
    "print('yelp IDs in yelp_id_1 but not in yelp_id_2:')\n",
    "for id in yelp_id_diff:\n",
    "    print(f'    {id}')"
   ]
  },
  {
   "cell_type": "markdown",
   "metadata": {},
   "source": [
    "To ensure that I keep all businesses in the final merged DataFrame, I'll left merge stations_places_df to yelp_categories_df.  "
   ]
  },
  {
   "cell_type": "code",
   "execution_count": 49,
   "metadata": {},
   "outputs": [],
   "source": [
    "stations_places_cats_df =\\\n",
    "    stations_places_df.merge(yelp_categories_df, how='left', on='yelp_id')"
   ]
  },
  {
   "cell_type": "code",
   "execution_count": 50,
   "metadata": {},
   "outputs": [
    {
     "data": {
      "text/html": [
       "<div>\n",
       "<style scoped>\n",
       "    .dataframe tbody tr th:only-of-type {\n",
       "        vertical-align: middle;\n",
       "    }\n",
       "\n",
       "    .dataframe tbody tr th {\n",
       "        vertical-align: top;\n",
       "    }\n",
       "\n",
       "    .dataframe thead th {\n",
       "        text-align: right;\n",
       "    }\n",
       "</style>\n",
       "<table border=\"1\" class=\"dataframe\">\n",
       "  <thead>\n",
       "    <tr style=\"text-align: right;\">\n",
       "      <th></th>\n",
       "      <th>station_id</th>\n",
       "      <th>station_name</th>\n",
       "      <th>latitude</th>\n",
       "      <th>longitude</th>\n",
       "      <th>altitude</th>\n",
       "      <th>slots</th>\n",
       "      <th>free_bikes</th>\n",
       "      <th>empty_slots</th>\n",
       "      <th>yelp_id</th>\n",
       "      <th>place_name</th>\n",
       "      <th>review_count</th>\n",
       "      <th>price</th>\n",
       "      <th>rating</th>\n",
       "      <th>distance</th>\n",
       "      <th>category_name</th>\n",
       "    </tr>\n",
       "  </thead>\n",
       "  <tbody>\n",
       "    <tr>\n",
       "      <th>0</th>\n",
       "      <td>e1593acef03a0fd770595370586bc358</td>\n",
       "      <td>P31 - Estación Canal 13</td>\n",
       "      <td>-33.428334</td>\n",
       "      <td>-70.627312</td>\n",
       "      <td>599.0</td>\n",
       "      <td>13</td>\n",
       "      <td>6</td>\n",
       "      <td>7</td>\n",
       "      <td>8N6Y3HsLXHBeFwhlO0YxwQ</td>\n",
       "      <td>Barrica 94</td>\n",
       "      <td>78</td>\n",
       "      <td>2.0</td>\n",
       "      <td>4.3</td>\n",
       "      <td>988.631270</td>\n",
       "      <td>wine bars</td>\n",
       "    </tr>\n",
       "    <tr>\n",
       "      <th>1</th>\n",
       "      <td>e1593acef03a0fd770595370586bc358</td>\n",
       "      <td>P31 - Estación Canal 13</td>\n",
       "      <td>-33.428334</td>\n",
       "      <td>-70.627312</td>\n",
       "      <td>599.0</td>\n",
       "      <td>13</td>\n",
       "      <td>6</td>\n",
       "      <td>7</td>\n",
       "      <td>8N6Y3HsLXHBeFwhlO0YxwQ</td>\n",
       "      <td>Barrica 94</td>\n",
       "      <td>78</td>\n",
       "      <td>2.0</td>\n",
       "      <td>4.3</td>\n",
       "      <td>988.631270</td>\n",
       "      <td>chilean</td>\n",
       "    </tr>\n",
       "    <tr>\n",
       "      <th>2</th>\n",
       "      <td>e1593acef03a0fd770595370586bc358</td>\n",
       "      <td>P31 - Estación Canal 13</td>\n",
       "      <td>-33.428334</td>\n",
       "      <td>-70.627312</td>\n",
       "      <td>599.0</td>\n",
       "      <td>13</td>\n",
       "      <td>6</td>\n",
       "      <td>7</td>\n",
       "      <td>8N6Y3HsLXHBeFwhlO0YxwQ</td>\n",
       "      <td>Barrica 94</td>\n",
       "      <td>78</td>\n",
       "      <td>2.0</td>\n",
       "      <td>4.3</td>\n",
       "      <td>988.631270</td>\n",
       "      <td>cocktail bars</td>\n",
       "    </tr>\n",
       "    <tr>\n",
       "      <th>3</th>\n",
       "      <td>e1593acef03a0fd770595370586bc358</td>\n",
       "      <td>P31 - Estación Canal 13</td>\n",
       "      <td>-33.428334</td>\n",
       "      <td>-70.627312</td>\n",
       "      <td>599.0</td>\n",
       "      <td>13</td>\n",
       "      <td>6</td>\n",
       "      <td>7</td>\n",
       "      <td>U15KdCy6HH05WISNtN9plQ</td>\n",
       "      <td>Restaurant Peumayén</td>\n",
       "      <td>73</td>\n",
       "      <td>4.0</td>\n",
       "      <td>4.5</td>\n",
       "      <td>856.161401</td>\n",
       "      <td>latin american</td>\n",
       "    </tr>\n",
       "    <tr>\n",
       "      <th>4</th>\n",
       "      <td>e1593acef03a0fd770595370586bc358</td>\n",
       "      <td>P31 - Estación Canal 13</td>\n",
       "      <td>-33.428334</td>\n",
       "      <td>-70.627312</td>\n",
       "      <td>599.0</td>\n",
       "      <td>13</td>\n",
       "      <td>6</td>\n",
       "      <td>7</td>\n",
       "      <td>y2FR-JBGie4wiW6RjtKLhg</td>\n",
       "      <td>Aquí Está Coco</td>\n",
       "      <td>58</td>\n",
       "      <td>4.0</td>\n",
       "      <td>4.3</td>\n",
       "      <td>1099.691315</td>\n",
       "      <td>seafood</td>\n",
       "    </tr>\n",
       "  </tbody>\n",
       "</table>\n",
       "</div>"
      ],
      "text/plain": [
       "                         station_id             station_name   latitude  \\\n",
       "0  e1593acef03a0fd770595370586bc358  P31 - Estación Canal 13 -33.428334   \n",
       "1  e1593acef03a0fd770595370586bc358  P31 - Estación Canal 13 -33.428334   \n",
       "2  e1593acef03a0fd770595370586bc358  P31 - Estación Canal 13 -33.428334   \n",
       "3  e1593acef03a0fd770595370586bc358  P31 - Estación Canal 13 -33.428334   \n",
       "4  e1593acef03a0fd770595370586bc358  P31 - Estación Canal 13 -33.428334   \n",
       "\n",
       "   longitude  altitude  slots  free_bikes  empty_slots  \\\n",
       "0 -70.627312     599.0     13           6            7   \n",
       "1 -70.627312     599.0     13           6            7   \n",
       "2 -70.627312     599.0     13           6            7   \n",
       "3 -70.627312     599.0     13           6            7   \n",
       "4 -70.627312     599.0     13           6            7   \n",
       "\n",
       "                  yelp_id           place_name  review_count  price  rating  \\\n",
       "0  8N6Y3HsLXHBeFwhlO0YxwQ           Barrica 94            78    2.0     4.3   \n",
       "1  8N6Y3HsLXHBeFwhlO0YxwQ           Barrica 94            78    2.0     4.3   \n",
       "2  8N6Y3HsLXHBeFwhlO0YxwQ           Barrica 94            78    2.0     4.3   \n",
       "3  U15KdCy6HH05WISNtN9plQ  Restaurant Peumayén            73    4.0     4.5   \n",
       "4  y2FR-JBGie4wiW6RjtKLhg       Aquí Está Coco            58    4.0     4.3   \n",
       "\n",
       "      distance   category_name  \n",
       "0   988.631270       wine bars  \n",
       "1   988.631270         chilean  \n",
       "2   988.631270   cocktail bars  \n",
       "3   856.161401  latin american  \n",
       "4  1099.691315         seafood  "
      ]
     },
     "execution_count": 50,
     "metadata": {},
     "output_type": "execute_result"
    }
   ],
   "source": [
    "stations_places_cats_df.head()"
   ]
  },
  {
   "cell_type": "code",
   "execution_count": 55,
   "metadata": {},
   "outputs": [
    {
     "name": "stdout",
     "output_type": "stream",
     "text": [
      "shape: (15212, 15)\n",
      "columns:\n",
      " Index(['station_id', 'station_name', 'latitude', 'longitude', 'altitude',\n",
      "       'slots', 'free_bikes', 'empty_slots', 'yelp_id', 'place_name',\n",
      "       'review_count', 'price', 'rating', 'distance', 'category_name'],\n",
      "      dtype='object')\n",
      "dtypes:\n",
      " station_id        object\n",
      "station_name      object\n",
      "latitude         float64\n",
      "longitude        float64\n",
      "altitude         float64\n",
      "slots              int64\n",
      "free_bikes         int64\n",
      "empty_slots        int64\n",
      "yelp_id           object\n",
      "place_name        object\n",
      "review_count       int64\n",
      "price            float64\n",
      "rating           float64\n",
      "distance         float64\n",
      "category_name     object\n",
      "dtype: object\n"
     ]
    }
   ],
   "source": [
    "print(f'shape: {stations_places_cats_df.shape}')\n",
    "print(f'columns:\\n {stations_places_cats_df.columns}')\n",
    "print(f'dtypes:\\n {stations_places_cats_df.dtypes}')"
   ]
  },
  {
   "cell_type": "code",
   "execution_count": 58,
   "metadata": {},
   "outputs": [],
   "source": [
    "export(stations_places_cats_df, 'stations_places_cats.csv')"
   ]
  },
  {
   "cell_type": "markdown",
   "metadata": {},
   "source": [
    "Provide a visualization that you used as part of your EDA process. Explain the initial pattern or relationship you discoved through this visualization. "
   ]
  },
  {
   "cell_type": "markdown",
   "metadata": {},
   "source": [
    "# Database"
   ]
  },
  {
   "cell_type": "markdown",
   "metadata": {},
   "source": [
    "### Put results in an SQLite database"
   ]
  },
  {
   "cell_type": "code",
   "execution_count": 67,
   "metadata": {},
   "outputs": [],
   "source": [
    "# Define a SQLite connection and cursor.\n",
    "# Note that dirname was defined above.\n",
    "con = sqlite3.connect(dirname + 'stations_places_cats.db')\n",
    "cur = con.cursor()"
   ]
  },
  {
   "cell_type": "code",
   "execution_count": 65,
   "metadata": {},
   "outputs": [
    {
     "data": {
      "text/plain": [
       "station_id        object\n",
       "station_name      object\n",
       "latitude         float64\n",
       "longitude        float64\n",
       "altitude         float64\n",
       "slots              int64\n",
       "free_bikes         int64\n",
       "empty_slots        int64\n",
       "yelp_id           object\n",
       "place_name        object\n",
       "review_count       int64\n",
       "price            float64\n",
       "rating           float64\n",
       "distance         float64\n",
       "category_name     object\n",
       "dtype: object"
      ]
     },
     "execution_count": 65,
     "metadata": {},
     "output_type": "execute_result"
    }
   ],
   "source": [
    "stations_places_cats_df.dtypes"
   ]
  },
  {
   "cell_type": "code",
   "execution_count": 116,
   "metadata": {},
   "outputs": [
    {
     "name": "stdout",
     "output_type": "stream",
     "text": [
      "\n",
      "    CREATE TABLE stations_places_cats (\n",
      "        station_id TEXT,\n",
      "        station_name TEXT,\n",
      "        latitude REAL,\n",
      "        longitude REAL,\n",
      "        altitude REAL,\n",
      "        slots INTEGER,\n",
      "        free_bikes INTEGER,\n",
      "        empty_slots INTEGER,\n",
      "        yelp_id TEXT,\n",
      "        place_name TEXT,\n",
      "        review_count INTEGER,\n",
      "        price REAL,\n",
      "        rating REAL,\n",
      "        distance REAL,\n",
      "        category_name TEXT\n",
      "    );\n",
      "\n"
     ]
    }
   ],
   "source": [
    "# Define the SQLite table creation command before executing it.\n",
    "sql_create_cmd = r\"\"\"\n",
    "    CREATE TABLE stations_places_cats (\n",
    "        station_id TEXT,\n",
    "        station_name TEXT,\n",
    "        latitude REAL,\n",
    "        longitude REAL,\n",
    "        altitude REAL,\n",
    "        slots INTEGER,\n",
    "        free_bikes INTEGER,\n",
    "        empty_slots INTEGER,\n",
    "        yelp_id TEXT,\n",
    "        place_name TEXT,\n",
    "        review_count INTEGER,\n",
    "        price REAL,\n",
    "        rating REAL,\n",
    "        distance REAL,\n",
    "        category_name TEXT\n",
    "    );\n",
    "\"\"\"\n",
    "print(sql_create_cmd)"
   ]
  },
  {
   "cell_type": "code",
   "execution_count": 146,
   "metadata": {},
   "outputs": [
    {
     "data": {
      "text/plain": [
       "<sqlite3.Cursor at 0x7fa9cf3e95c0>"
      ]
     },
     "execution_count": 146,
     "metadata": {},
     "output_type": "execute_result"
    }
   ],
   "source": [
    "cur.execute('DROP TABLE IF EXISTS stations_places_cats')\n",
    "cur.execute(sql_create_cmd)"
   ]
  },
  {
   "cell_type": "code",
   "execution_count": 147,
   "metadata": {},
   "outputs": [
    {
     "data": {
      "text/plain": [
       "('stations_places_cats',)"
      ]
     },
     "execution_count": 147,
     "metadata": {},
     "output_type": "execute_result"
    }
   ],
   "source": [
    "res = cur.execute('SELECT name FROM sqlite_master')\n",
    "res.fetchone()"
   ]
  },
  {
   "cell_type": "markdown",
   "metadata": {},
   "source": [
    "I've successfully created a database. But it's empty. To fill it:"
   ]
  },
  {
   "cell_type": "code",
   "execution_count": 148,
   "metadata": {},
   "outputs": [],
   "source": [
    "def sql_insert_cmd(df: pd.DataFrame, db: str, row: int) -> str:\n",
    "    \"\"\"\n",
    "    Return the SQL command that will insert a DataFrame row into the database.\n",
    "    \"\"\"\n",
    "    row_list = df.loc[row, :].to_list()\n",
    "    row_str = str(row_list).replace('nan', 'NULL').replace('[', '(').replace(']', ')')\n",
    "    return 'INSERT INTO ' + db + ' VALUES ' + row_str"
   ]
  },
  {
   "cell_type": "code",
   "execution_count": 149,
   "metadata": {},
   "outputs": [],
   "source": [
    "for row in range(stations_places_cats_df.shape[0]):\n",
    "    sql_cmd = sql_insert_cmd(stations_places_cats_df, 'stations_places_cats', row)\n",
    "    cur.execute(sql_cmd)"
   ]
  },
  {
   "cell_type": "code",
   "execution_count": 150,
   "metadata": {},
   "outputs": [],
   "source": [
    "con.commit()"
   ]
  },
  {
   "cell_type": "markdown",
   "metadata": {},
   "source": [
    "I'll verify that inserting into the database woked as expected."
   ]
  },
  {
   "cell_type": "code",
   "execution_count": 151,
   "metadata": {},
   "outputs": [
    {
     "data": {
      "text/plain": [
       "(15212, 15)"
      ]
     },
     "execution_count": 151,
     "metadata": {},
     "output_type": "execute_result"
    }
   ],
   "source": [
    "res = cur.execute('SELECT * FROM stations_places_cats')\n",
    "records = res.fetchall()\n",
    "len(records), len(records[0])"
   ]
  },
  {
   "cell_type": "markdown",
   "metadata": {},
   "source": [
    "Phew!"
   ]
  },
  {
   "cell_type": "markdown",
   "metadata": {},
   "source": [
    "Look at the data before and after the join to validate your data."
   ]
  },
  {
   "cell_type": "code",
   "execution_count": null,
   "metadata": {},
   "outputs": [],
   "source": []
  }
 ],
 "metadata": {
  "kernelspec": {
   "display_name": "Python 3 (ipykernel)",
   "language": "python",
   "name": "python3"
  },
  "language_info": {
   "codemirror_mode": {
    "name": "ipython",
    "version": 3
   },
   "file_extension": ".py",
   "mimetype": "text/x-python",
   "name": "python",
   "nbconvert_exporter": "python",
   "pygments_lexer": "ipython3",
   "version": "3.12.2"
  }
 },
 "nbformat": 4,
 "nbformat_minor": 4
}
